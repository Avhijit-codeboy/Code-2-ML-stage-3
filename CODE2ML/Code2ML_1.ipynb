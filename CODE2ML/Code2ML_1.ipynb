{
  "nbformat": 4,
  "nbformat_minor": 0,
  "metadata": {
    "colab": {
      "name": "Code2ML_1.ipynb",
      "provenance": [],
      "collapsed_sections": [],
      "toc_visible": true
    },
    "kernelspec": {
      "name": "python3",
      "display_name": "Python 3"
    }
  },
  "cells": [
    {
      "cell_type": "markdown",
      "metadata": {
        "id": "jSfr5FpP3EN5"
      },
      "source": [
        "## **Code-2-ML**"
      ]
    },
    {
      "cell_type": "markdown",
      "metadata": {
        "id": "yxZmC62Rh8Sr"
      },
      "source": [
        "Installing Scikit learn Latest Version."
      ]
    },
    {
      "cell_type": "markdown",
      "metadata": {
        "id": "39nBhbG83V-V"
      },
      "source": [
        "Importing the required packages"
      ]
    },
    {
      "cell_type": "code",
      "metadata": {
        "id": "28C3hrIKlJDt"
      },
      "source": [
        "import pandas as pd\r\n",
        "import numpy as np\r\n",
        "from sklearn import preprocessing\r\n",
        "from sklearn.linear_model import LinearRegression\r\n",
        "from sklearn.metrics import mean_squared_error, r2_score\r\n",
        "import matplotlib.pyplot as plt\r\n",
        "import seaborn as sns"
      ],
      "execution_count": 78,
      "outputs": []
    },
    {
      "cell_type": "markdown",
      "metadata": {
        "id": "-gKymvvJ6IoK"
      },
      "source": [
        "Importing the Train and test Dataset given using the drive link."
      ]
    },
    {
      "cell_type": "code",
      "metadata": {
        "colab": {
          "base_uri": "https://localhost:8080/"
        },
        "id": "0pQpXFD0jVLj",
        "outputId": "879ebf35-668c-4342-84eb-4c142b59c8ca"
      },
      "source": [
        "from google.colab import drive\n",
        "drive.mount('/content/drive')"
      ],
      "execution_count": 79,
      "outputs": [
        {
          "output_type": "stream",
          "text": [
            "Drive already mounted at /content/drive; to attempt to forcibly remount, call drive.mount(\"/content/drive\", force_remount=True).\n"
          ],
          "name": "stdout"
        }
      ]
    },
    {
      "cell_type": "code",
      "metadata": {
        "id": "pp9OqItpsPuK"
      },
      "source": [
        "#df=pd.read_excel(\"Train_dataset_.xlsx\")\r\n",
        "df = pd.read_excel(\"/content/drive/My Drive/Train_dataset_.xlsx\")"
      ],
      "execution_count": 80,
      "outputs": []
    },
    {
      "cell_type": "code",
      "metadata": {
        "id": "7dngfH8jsrEt"
      },
      "source": [
        "#test=pd.read_excel(\"Test_dataset.xlsx\")\r\n",
        "test = pd.read_excel(\"/content/drive/My Drive/Test_dataset.xlsx\")"
      ],
      "execution_count": 81,
      "outputs": []
    },
    {
      "cell_type": "markdown",
      "metadata": {
        "id": "FK4gLKVRBILO"
      },
      "source": [
        "## **Data Pre-processing**"
      ]
    },
    {
      "cell_type": "markdown",
      "metadata": {
        "id": "44aUUtp66ZQd"
      },
      "source": [
        "Data preprocessing is must before doing any model training. But before that we have to get the Number of Unique values in every Integer coloumn."
      ]
    },
    {
      "cell_type": "code",
      "metadata": {
        "colab": {
          "base_uri": "https://localhost:8080/"
        },
        "id": "f0Edrbdvt6fR",
        "outputId": "beb74a45-652e-4f93-fcfd-ce3c5700e663"
      },
      "source": [
        "for col in df.columns:\r\n",
        "    print(\"col :{}\\nno of unique are:{}\\n\".format(col,len(df[col].unique())))"
      ],
      "execution_count": 82,
      "outputs": [
        {
          "output_type": "stream",
          "text": [
            "col :Stock Index\n",
            "no of unique are:7383\n",
            "\n",
            "col :Index\n",
            "no of unique are:5\n",
            "\n",
            "col :Industry\n",
            "no of unique are:5\n",
            "\n",
            "col :VWAP\n",
            "no of unique are:7068\n",
            "\n",
            "col :General Index\n",
            "no of unique are:6\n",
            "\n",
            "col :NAV\n",
            "no of unique are:5001\n",
            "\n",
            "col :P/E Ratio\n",
            "no of unique are:5951\n",
            "\n",
            "col :Volumes Traded\n",
            "no of unique are:7114\n",
            "\n",
            "col :Inventory Turnover\n",
            "no of unique are:579\n",
            "\n",
            "col :Covid Impact (Beta)\n",
            "no of unique are:6\n",
            "\n",
            "col :Tracking Error\n",
            "no of unique are:465\n",
            "\n",
            "col :Dollar Exchange Rate\n",
            "no of unique are:4\n",
            "\n",
            "col :Put-Call Ratio\n",
            "no of unique are:71\n",
            "\n",
            "col :P/B Ratio\n",
            "no of unique are:913\n",
            "\n",
            "col :Stock Price\n",
            "no of unique are:7383\n",
            "\n"
          ],
          "name": "stdout"
        }
      ]
    },
    {
      "cell_type": "markdown",
      "metadata": {
        "id": "k2umqKfW6r4A"
      },
      "source": [
        "Getting Number of null values in every specific column and you can see leaving the first three columns every other column has many null values. So, we have to replace this with suitable values to avoid discrepencies using the training the model."
      ]
    },
    {
      "cell_type": "code",
      "metadata": {
        "colab": {
          "base_uri": "https://localhost:8080/"
        },
        "id": "So1rTWxVsyrP",
        "outputId": "0cad6b18-0b6b-42e8-eb1f-678d15c4deae"
      },
      "source": [
        "df.isna().sum()"
      ],
      "execution_count": 83,
      "outputs": [
        {
          "output_type": "execute_result",
          "data": {
            "text/plain": [
              "Stock Index               0\n",
              "Index                     0\n",
              "Industry                  0\n",
              "VWAP                     38\n",
              "General Index            62\n",
              "NAV                      61\n",
              "P/E Ratio               234\n",
              "Volumes Traded          268\n",
              "Inventory Turnover      399\n",
              "Covid Impact (Beta)     376\n",
              "Tracking Error           71\n",
              "Dollar Exchange Rate     77\n",
              "Put-Call Ratio           85\n",
              "P/B Ratio                25\n",
              "Stock Price               0\n",
              "dtype: int64"
            ]
          },
          "metadata": {
            "tags": []
          },
          "execution_count": 83
        }
      ]
    },
    {
      "cell_type": "markdown",
      "metadata": {
        "id": "_XIZ_Sip8Oi8"
      },
      "source": [
        "Now, we are using Knn-Imputer to replace the null values with suitable values. This Knn-Imputer will check the values of above and below cells and process knn classification to get the best values."
      ]
    },
    {
      "cell_type": "code",
      "metadata": {
        "id": "CjBcBjjBvlqJ"
      },
      "source": [
        "from sklearn.impute import KNNImputer\r\n",
        "k_im = KNNImputer(n_neighbors=9)\r\n",
        "df.iloc[:,[3,4,5,6,7,8,9,10,11,12,13]]=k_im.fit_transform(df.iloc[:,[3,4,5,6,7,8,9,10,11,12,13]])\r\n"
      ],
      "execution_count": 84,
      "outputs": []
    },
    {
      "cell_type": "code",
      "metadata": {
        "colab": {
          "base_uri": "https://localhost:8080/"
        },
        "id": "5F_g8PPKxSC2",
        "outputId": "61f3007e-0448-48c7-c556-823ed156a792"
      },
      "source": [
        "df.isna().sum()"
      ],
      "execution_count": 85,
      "outputs": [
        {
          "output_type": "execute_result",
          "data": {
            "text/plain": [
              "Stock Index             0\n",
              "Index                   0\n",
              "Industry                0\n",
              "VWAP                    0\n",
              "General Index           0\n",
              "NAV                     0\n",
              "P/E Ratio               0\n",
              "Volumes Traded          0\n",
              "Inventory Turnover      0\n",
              "Covid Impact (Beta)     0\n",
              "Tracking Error          0\n",
              "Dollar Exchange Rate    0\n",
              "Put-Call Ratio          0\n",
              "P/B Ratio               0\n",
              "Stock Price             0\n",
              "dtype: int64"
            ]
          },
          "metadata": {
            "tags": []
          },
          "execution_count": 85
        }
      ]
    },
    {
      "cell_type": "code",
      "metadata": {
        "colab": {
          "base_uri": "https://localhost:8080/",
          "height": 631
        },
        "id": "70c-gqLwxVMn",
        "outputId": "78db6dde-04ff-4d99-fd0c-eed92871109b"
      },
      "source": [
        "df.head(15)"
      ],
      "execution_count": 86,
      "outputs": [
        {
          "output_type": "execute_result",
          "data": {
            "text/html": [
              "<div>\n",
              "<style scoped>\n",
              "    .dataframe tbody tr th:only-of-type {\n",
              "        vertical-align: middle;\n",
              "    }\n",
              "\n",
              "    .dataframe tbody tr th {\n",
              "        vertical-align: top;\n",
              "    }\n",
              "\n",
              "    .dataframe thead th {\n",
              "        text-align: right;\n",
              "    }\n",
              "</style>\n",
              "<table border=\"1\" class=\"dataframe\">\n",
              "  <thead>\n",
              "    <tr style=\"text-align: right;\">\n",
              "      <th></th>\n",
              "      <th>Stock Index</th>\n",
              "      <th>Index</th>\n",
              "      <th>Industry</th>\n",
              "      <th>VWAP</th>\n",
              "      <th>General Index</th>\n",
              "      <th>NAV</th>\n",
              "      <th>P/E Ratio</th>\n",
              "      <th>Volumes Traded</th>\n",
              "      <th>Inventory Turnover</th>\n",
              "      <th>Covid Impact (Beta)</th>\n",
              "      <th>Tracking Error</th>\n",
              "      <th>Dollar Exchange Rate</th>\n",
              "      <th>Put-Call Ratio</th>\n",
              "      <th>P/B Ratio</th>\n",
              "      <th>Stock Price</th>\n",
              "    </tr>\n",
              "  </thead>\n",
              "  <tbody>\n",
              "    <tr>\n",
              "      <th>0</th>\n",
              "      <td>AA1</td>\n",
              "      <td>NYSE</td>\n",
              "      <td>Real Estate</td>\n",
              "      <td>700.290000</td>\n",
              "      <td>12765.84</td>\n",
              "      <td>32.38</td>\n",
              "      <td>45.350000</td>\n",
              "      <td>1.208599e+06</td>\n",
              "      <td>5.050000</td>\n",
              "      <td>-0.43</td>\n",
              "      <td>0.0520</td>\n",
              "      <td>1.000000</td>\n",
              "      <td>0.610000</td>\n",
              "      <td>9.20</td>\n",
              "      <td>156.987852</td>\n",
              "    </tr>\n",
              "    <tr>\n",
              "      <th>1</th>\n",
              "      <td>AA2</td>\n",
              "      <td>NYSE</td>\n",
              "      <td>Information Tech</td>\n",
              "      <td>214.520000</td>\n",
              "      <td>12765.84</td>\n",
              "      <td>33.25</td>\n",
              "      <td>170.560000</td>\n",
              "      <td>1.375336e+07</td>\n",
              "      <td>3.100000</td>\n",
              "      <td>0.23</td>\n",
              "      <td>0.0164</td>\n",
              "      <td>1.000000</td>\n",
              "      <td>1.061111</td>\n",
              "      <td>6.91</td>\n",
              "      <td>560.859622</td>\n",
              "    </tr>\n",
              "    <tr>\n",
              "      <th>2</th>\n",
              "      <td>AA3</td>\n",
              "      <td>NYSE</td>\n",
              "      <td>Information Tech</td>\n",
              "      <td>943.420000</td>\n",
              "      <td>12765.84</td>\n",
              "      <td>88.27</td>\n",
              "      <td>143.580000</td>\n",
              "      <td>6.892003e+06</td>\n",
              "      <td>7.700000</td>\n",
              "      <td>0.23</td>\n",
              "      <td>0.0396</td>\n",
              "      <td>1.000000</td>\n",
              "      <td>1.044444</td>\n",
              "      <td>6.09</td>\n",
              "      <td>1279.732874</td>\n",
              "    </tr>\n",
              "    <tr>\n",
              "      <th>3</th>\n",
              "      <td>AA4</td>\n",
              "      <td>BSE</td>\n",
              "      <td>Materials</td>\n",
              "      <td>828.130000</td>\n",
              "      <td>38182.08</td>\n",
              "      <td>73.66</td>\n",
              "      <td>151.760000</td>\n",
              "      <td>8.316793e+06</td>\n",
              "      <td>4.800000</td>\n",
              "      <td>0.03</td>\n",
              "      <td>0.0431</td>\n",
              "      <td>74.900000</td>\n",
              "      <td>1.110000</td>\n",
              "      <td>5.60</td>\n",
              "      <td>1121.787632</td>\n",
              "    </tr>\n",
              "    <tr>\n",
              "      <th>4</th>\n",
              "      <td>AA5</td>\n",
              "      <td>S&amp;P 500</td>\n",
              "      <td>Real Estate</td>\n",
              "      <td>532.311111</td>\n",
              "      <td>3351.28</td>\n",
              "      <td>23.79</td>\n",
              "      <td>92.972222</td>\n",
              "      <td>3.943312e+06</td>\n",
              "      <td>8.060000</td>\n",
              "      <td>-0.43</td>\n",
              "      <td>0.0244</td>\n",
              "      <td>1.000000</td>\n",
              "      <td>1.070000</td>\n",
              "      <td>9.46</td>\n",
              "      <td>382.962534</td>\n",
              "    </tr>\n",
              "    <tr>\n",
              "      <th>5</th>\n",
              "      <td>AA6</td>\n",
              "      <td>BSE</td>\n",
              "      <td>Materials</td>\n",
              "      <td>259.610000</td>\n",
              "      <td>38182.08</td>\n",
              "      <td>10.63</td>\n",
              "      <td>153.050000</td>\n",
              "      <td>1.926387e+07</td>\n",
              "      <td>8.040000</td>\n",
              "      <td>0.03</td>\n",
              "      <td>0.0344</td>\n",
              "      <td>74.900000</td>\n",
              "      <td>1.150000</td>\n",
              "      <td>5.51</td>\n",
              "      <td>158.687016</td>\n",
              "    </tr>\n",
              "    <tr>\n",
              "      <th>6</th>\n",
              "      <td>AA7</td>\n",
              "      <td>NYSE</td>\n",
              "      <td>Healthcare</td>\n",
              "      <td>635.370000</td>\n",
              "      <td>12765.84</td>\n",
              "      <td>67.21</td>\n",
              "      <td>29.630000</td>\n",
              "      <td>7.086103e+06</td>\n",
              "      <td>5.870000</td>\n",
              "      <td>0.78</td>\n",
              "      <td>0.0186</td>\n",
              "      <td>1.000000</td>\n",
              "      <td>0.750000</td>\n",
              "      <td>8.60</td>\n",
              "      <td>209.645870</td>\n",
              "    </tr>\n",
              "    <tr>\n",
              "      <th>7</th>\n",
              "      <td>AA8</td>\n",
              "      <td>NSE</td>\n",
              "      <td>Real Estate</td>\n",
              "      <td>187.430000</td>\n",
              "      <td>11270.15</td>\n",
              "      <td>47.86</td>\n",
              "      <td>89.690000</td>\n",
              "      <td>6.948419e+06</td>\n",
              "      <td>6.550000</td>\n",
              "      <td>-0.43</td>\n",
              "      <td>0.0370</td>\n",
              "      <td>74.900000</td>\n",
              "      <td>0.780000</td>\n",
              "      <td>6.73</td>\n",
              "      <td>861.481269</td>\n",
              "    </tr>\n",
              "    <tr>\n",
              "      <th>8</th>\n",
              "      <td>AA9</td>\n",
              "      <td>NSE</td>\n",
              "      <td>Materials</td>\n",
              "      <td>950.810000</td>\n",
              "      <td>11270.15</td>\n",
              "      <td>31.50</td>\n",
              "      <td>159.580000</td>\n",
              "      <td>1.361019e+06</td>\n",
              "      <td>2.720000</td>\n",
              "      <td>0.03</td>\n",
              "      <td>0.0534</td>\n",
              "      <td>74.900000</td>\n",
              "      <td>1.220000</td>\n",
              "      <td>6.46</td>\n",
              "      <td>514.240811</td>\n",
              "    </tr>\n",
              "    <tr>\n",
              "      <th>9</th>\n",
              "      <td>AA10</td>\n",
              "      <td>JSE</td>\n",
              "      <td>Healthcare</td>\n",
              "      <td>961.020000</td>\n",
              "      <td>55722.00</td>\n",
              "      <td>72.16</td>\n",
              "      <td>29.610000</td>\n",
              "      <td>1.438540e+07</td>\n",
              "      <td>7.870000</td>\n",
              "      <td>0.78</td>\n",
              "      <td>0.0292</td>\n",
              "      <td>31.200000</td>\n",
              "      <td>1.210000</td>\n",
              "      <td>4.42</td>\n",
              "      <td>239.085804</td>\n",
              "    </tr>\n",
              "    <tr>\n",
              "      <th>10</th>\n",
              "      <td>AA11</td>\n",
              "      <td>JSE</td>\n",
              "      <td>Materials</td>\n",
              "      <td>496.091111</td>\n",
              "      <td>55722.00</td>\n",
              "      <td>60.53</td>\n",
              "      <td>88.200000</td>\n",
              "      <td>1.461663e+07</td>\n",
              "      <td>3.570000</td>\n",
              "      <td>0.03</td>\n",
              "      <td>0.0191</td>\n",
              "      <td>31.200000</td>\n",
              "      <td>0.910000</td>\n",
              "      <td>3.01</td>\n",
              "      <td>535.610672</td>\n",
              "    </tr>\n",
              "    <tr>\n",
              "      <th>11</th>\n",
              "      <td>AA12</td>\n",
              "      <td>S&amp;P 500</td>\n",
              "      <td>Energy</td>\n",
              "      <td>515.815556</td>\n",
              "      <td>3351.28</td>\n",
              "      <td>88.09</td>\n",
              "      <td>55.560000</td>\n",
              "      <td>7.993015e+06</td>\n",
              "      <td>5.012222</td>\n",
              "      <td>0.11</td>\n",
              "      <td>0.0544</td>\n",
              "      <td>31.200000</td>\n",
              "      <td>0.930000</td>\n",
              "      <td>8.79</td>\n",
              "      <td>505.299044</td>\n",
              "    </tr>\n",
              "    <tr>\n",
              "      <th>12</th>\n",
              "      <td>AA13</td>\n",
              "      <td>S&amp;P 500</td>\n",
              "      <td>Information Tech</td>\n",
              "      <td>456.061111</td>\n",
              "      <td>3351.28</td>\n",
              "      <td>19.25</td>\n",
              "      <td>55.370000</td>\n",
              "      <td>1.287737e+07</td>\n",
              "      <td>7.070000</td>\n",
              "      <td>0.23</td>\n",
              "      <td>0.0521</td>\n",
              "      <td>37.555556</td>\n",
              "      <td>0.680000</td>\n",
              "      <td>6.47</td>\n",
              "      <td>111.552414</td>\n",
              "    </tr>\n",
              "    <tr>\n",
              "      <th>13</th>\n",
              "      <td>AA14</td>\n",
              "      <td>NSE</td>\n",
              "      <td>Information Tech</td>\n",
              "      <td>577.556667</td>\n",
              "      <td>11270.15</td>\n",
              "      <td>65.79</td>\n",
              "      <td>45.530000</td>\n",
              "      <td>1.865554e+07</td>\n",
              "      <td>5.060000</td>\n",
              "      <td>0.23</td>\n",
              "      <td>0.0608</td>\n",
              "      <td>47.622222</td>\n",
              "      <td>1.260000</td>\n",
              "      <td>8.54</td>\n",
              "      <td>305.392674</td>\n",
              "    </tr>\n",
              "    <tr>\n",
              "      <th>14</th>\n",
              "      <td>AA15</td>\n",
              "      <td>S&amp;P 500</td>\n",
              "      <td>Information Tech</td>\n",
              "      <td>432.730000</td>\n",
              "      <td>3351.28</td>\n",
              "      <td>87.42</td>\n",
              "      <td>112.460000</td>\n",
              "      <td>1.705228e+06</td>\n",
              "      <td>3.630000</td>\n",
              "      <td>0.23</td>\n",
              "      <td>0.0370</td>\n",
              "      <td>31.200000</td>\n",
              "      <td>0.770000</td>\n",
              "      <td>5.66</td>\n",
              "      <td>983.220721</td>\n",
              "    </tr>\n",
              "  </tbody>\n",
              "</table>\n",
              "</div>"
            ],
            "text/plain": [
              "   Stock Index    Index  ... P/B Ratio  Stock Price\n",
              "0          AA1     NYSE  ...      9.20   156.987852\n",
              "1          AA2     NYSE  ...      6.91   560.859622\n",
              "2          AA3     NYSE  ...      6.09  1279.732874\n",
              "3          AA4      BSE  ...      5.60  1121.787632\n",
              "4          AA5  S&P 500  ...      9.46   382.962534\n",
              "5          AA6      BSE  ...      5.51   158.687016\n",
              "6          AA7     NYSE  ...      8.60   209.645870\n",
              "7          AA8      NSE  ...      6.73   861.481269\n",
              "8          AA9      NSE  ...      6.46   514.240811\n",
              "9         AA10      JSE  ...      4.42   239.085804\n",
              "10        AA11      JSE  ...      3.01   535.610672\n",
              "11        AA12  S&P 500  ...      8.79   505.299044\n",
              "12        AA13  S&P 500  ...      6.47   111.552414\n",
              "13        AA14      NSE  ...      8.54   305.392674\n",
              "14        AA15  S&P 500  ...      5.66   983.220721\n",
              "\n",
              "[15 rows x 15 columns]"
            ]
          },
          "metadata": {
            "tags": []
          },
          "execution_count": 86
        }
      ]
    },
    {
      "cell_type": "markdown",
      "metadata": {
        "id": "jitTJ25B-Awo"
      },
      "source": [
        "Now, we are going using the Label Encoder for Encoding string values to integer values. So, that we can use them also in model training."
      ]
    },
    {
      "cell_type": "code",
      "metadata": {
        "colab": {
          "base_uri": "https://localhost:8080/",
          "height": 214
        },
        "id": "F-wkp9o9AYFI",
        "outputId": "247fd5eb-398e-4225-a897-bb933dfe090c"
      },
      "source": [
        "lb = preprocessing.LabelEncoder()\r\n",
        "df['Index'] = lb.fit_transform(df['Index'])\r\n",
        "df['Industry'] = lb.fit_transform(df['Industry'])\r\n",
        "df.head()"
      ],
      "execution_count": 87,
      "outputs": [
        {
          "output_type": "execute_result",
          "data": {
            "text/html": [
              "<div>\n",
              "<style scoped>\n",
              "    .dataframe tbody tr th:only-of-type {\n",
              "        vertical-align: middle;\n",
              "    }\n",
              "\n",
              "    .dataframe tbody tr th {\n",
              "        vertical-align: top;\n",
              "    }\n",
              "\n",
              "    .dataframe thead th {\n",
              "        text-align: right;\n",
              "    }\n",
              "</style>\n",
              "<table border=\"1\" class=\"dataframe\">\n",
              "  <thead>\n",
              "    <tr style=\"text-align: right;\">\n",
              "      <th></th>\n",
              "      <th>Stock Index</th>\n",
              "      <th>Index</th>\n",
              "      <th>Industry</th>\n",
              "      <th>VWAP</th>\n",
              "      <th>General Index</th>\n",
              "      <th>NAV</th>\n",
              "      <th>P/E Ratio</th>\n",
              "      <th>Volumes Traded</th>\n",
              "      <th>Inventory Turnover</th>\n",
              "      <th>Covid Impact (Beta)</th>\n",
              "      <th>Tracking Error</th>\n",
              "      <th>Dollar Exchange Rate</th>\n",
              "      <th>Put-Call Ratio</th>\n",
              "      <th>P/B Ratio</th>\n",
              "      <th>Stock Price</th>\n",
              "    </tr>\n",
              "  </thead>\n",
              "  <tbody>\n",
              "    <tr>\n",
              "      <th>0</th>\n",
              "      <td>AA1</td>\n",
              "      <td>3</td>\n",
              "      <td>4</td>\n",
              "      <td>700.290000</td>\n",
              "      <td>12765.84</td>\n",
              "      <td>32.38</td>\n",
              "      <td>45.350000</td>\n",
              "      <td>1208599.0</td>\n",
              "      <td>5.05</td>\n",
              "      <td>-0.43</td>\n",
              "      <td>0.0520</td>\n",
              "      <td>1.0</td>\n",
              "      <td>0.610000</td>\n",
              "      <td>9.20</td>\n",
              "      <td>156.987852</td>\n",
              "    </tr>\n",
              "    <tr>\n",
              "      <th>1</th>\n",
              "      <td>AA2</td>\n",
              "      <td>3</td>\n",
              "      <td>2</td>\n",
              "      <td>214.520000</td>\n",
              "      <td>12765.84</td>\n",
              "      <td>33.25</td>\n",
              "      <td>170.560000</td>\n",
              "      <td>13753356.0</td>\n",
              "      <td>3.10</td>\n",
              "      <td>0.23</td>\n",
              "      <td>0.0164</td>\n",
              "      <td>1.0</td>\n",
              "      <td>1.061111</td>\n",
              "      <td>6.91</td>\n",
              "      <td>560.859622</td>\n",
              "    </tr>\n",
              "    <tr>\n",
              "      <th>2</th>\n",
              "      <td>AA3</td>\n",
              "      <td>3</td>\n",
              "      <td>2</td>\n",
              "      <td>943.420000</td>\n",
              "      <td>12765.84</td>\n",
              "      <td>88.27</td>\n",
              "      <td>143.580000</td>\n",
              "      <td>6892003.0</td>\n",
              "      <td>7.70</td>\n",
              "      <td>0.23</td>\n",
              "      <td>0.0396</td>\n",
              "      <td>1.0</td>\n",
              "      <td>1.044444</td>\n",
              "      <td>6.09</td>\n",
              "      <td>1279.732874</td>\n",
              "    </tr>\n",
              "    <tr>\n",
              "      <th>3</th>\n",
              "      <td>AA4</td>\n",
              "      <td>0</td>\n",
              "      <td>3</td>\n",
              "      <td>828.130000</td>\n",
              "      <td>38182.08</td>\n",
              "      <td>73.66</td>\n",
              "      <td>151.760000</td>\n",
              "      <td>8316793.0</td>\n",
              "      <td>4.80</td>\n",
              "      <td>0.03</td>\n",
              "      <td>0.0431</td>\n",
              "      <td>74.9</td>\n",
              "      <td>1.110000</td>\n",
              "      <td>5.60</td>\n",
              "      <td>1121.787632</td>\n",
              "    </tr>\n",
              "    <tr>\n",
              "      <th>4</th>\n",
              "      <td>AA5</td>\n",
              "      <td>4</td>\n",
              "      <td>4</td>\n",
              "      <td>532.311111</td>\n",
              "      <td>3351.28</td>\n",
              "      <td>23.79</td>\n",
              "      <td>92.972222</td>\n",
              "      <td>3943312.0</td>\n",
              "      <td>8.06</td>\n",
              "      <td>-0.43</td>\n",
              "      <td>0.0244</td>\n",
              "      <td>1.0</td>\n",
              "      <td>1.070000</td>\n",
              "      <td>9.46</td>\n",
              "      <td>382.962534</td>\n",
              "    </tr>\n",
              "  </tbody>\n",
              "</table>\n",
              "</div>"
            ],
            "text/plain": [
              "  Stock Index  Index  Industry  ...  Put-Call Ratio  P/B Ratio  Stock Price\n",
              "0         AA1      3         4  ...        0.610000       9.20   156.987852\n",
              "1         AA2      3         2  ...        1.061111       6.91   560.859622\n",
              "2         AA3      3         2  ...        1.044444       6.09  1279.732874\n",
              "3         AA4      0         3  ...        1.110000       5.60  1121.787632\n",
              "4         AA5      4         4  ...        1.070000       9.46   382.962534\n",
              "\n",
              "[5 rows x 15 columns]"
            ]
          },
          "metadata": {
            "tags": []
          },
          "execution_count": 87
        }
      ]
    },
    {
      "cell_type": "markdown",
      "metadata": {
        "id": "4jPRGPAC-rvE"
      },
      "source": [
        "The below cell shows the co-relation between every column to every other column and if value is towards 1 than that both columns are more related. "
      ]
    },
    {
      "cell_type": "code",
      "metadata": {
        "colab": {
          "base_uri": "https://localhost:8080/",
          "height": 982
        },
        "id": "Fr2LlI5yBMp7",
        "outputId": "e8c7f1f6-cf9d-48bd-f763-360aafc65c0f"
      },
      "source": [
        "corr_matrix = df.corr().abs()\r\n",
        "plt.figure(figsize = (15,15))\r\n",
        "\r\n",
        "sns.heatmap(data=corr_matrix,annot = True, cmap = \"magma\")"
      ],
      "execution_count": 88,
      "outputs": [
        {
          "output_type": "execute_result",
          "data": {
            "text/plain": [
              "<matplotlib.axes._subplots.AxesSubplot at 0x7f8b427dd650>"
            ]
          },
          "metadata": {
            "tags": []
          },
          "execution_count": 88
        },
        {
          "output_type": "display_data",
          "data": {
            "image/png": "[encoded data removed]",
            "text/plain": [
              "<Figure size 1080x1080 with 2 Axes>"
            ]
          },
          "metadata": {
            "tags": [],
            "needs_background": "light"
          }
        }
      ]
    },
    {
      "cell_type": "markdown",
      "metadata": {
        "id": "XdOKH_zgA_W6"
      },
      "source": [
        "## **Modeling Analysis for Predicting Stock prices**"
      ]
    },
    {
      "cell_type": "markdown",
      "metadata": {
        "id": "XUM4HMhRmko1"
      },
      "source": [
        "Now, its time for training. Here, we are splitting the data into dependent data(Y) and Independent data (X). Using the dependent data we are going to train the respective model and use it to predict the future values.\r\n",
        "  \r\n",
        "  From Independent data we are removing the stock price and Stcok index because, stock price is what we need to predict and stock index is entirely a unique column."
      ]
    },
    {
      "cell_type": "code",
      "metadata": {
        "id": "3VYYnEihQvGe"
      },
      "source": [
        "X=df.drop([\"Stock Price\",\"Stock Index\"],axis=1)\r\n",
        "y=df[\"Stock Price\"]\r\n"
      ],
      "execution_count": 89,
      "outputs": []
    },
    {
      "cell_type": "markdown",
      "metadata": {
        "id": "_RjkKLblnbiA"
      },
      "source": [
        "The next cell has the code for importing the module and splitting the data. Here, we need a split because to check the accuracy."
      ]
    },
    {
      "cell_type": "markdown",
      "metadata": {
        "id": "yzdxdPU1FnT_"
      },
      "source": [
        "Here the test variables are actually the validation variables. But for convenience they are named as test"
      ]
    },
    {
      "cell_type": "code",
      "metadata": {
        "id": "ZZFMjoaE_FXx"
      },
      "source": [
        "from sklearn.model_selection import train_test_split\r\n",
        "X_train, X_test, y_train, y_test = train_test_split(X, y, test_size=0.20)"
      ],
      "execution_count": 90,
      "outputs": []
    },
    {
      "cell_type": "markdown",
      "metadata": {
        "id": "g9XZDSX5oc84"
      },
      "source": [
        "Its time for selecting the algorithm. We are selecting the Regression model because classification algorithms are not suitable as we are not classifying the data into any specific classes, we are predicting the approx value of the stock price."
      ]
    },
    {
      "cell_type": "markdown",
      "metadata": {
        "id": "5dfcCr-nnzzF"
      },
      "source": [
        "### **Multi Linear Regression**"
      ]
    },
    {
      "cell_type": "markdown",
      "metadata": {
        "id": "qH7vGtCRn-f8"
      },
      "source": [
        "Next we are calling the calling the module Linear regression and fitting the data and calculating the intercept and co-efficients. Later, in the last line of the code is the predicting of the test values.\r\n",
        "\r\n",
        "Note : These methods are same for coming more algorithms."
      ]
    },
    {
      "cell_type": "code",
      "metadata": {
        "colab": {
          "base_uri": "https://localhost:8080/"
        },
        "id": "sPYv8pSdh_k-",
        "outputId": "72b79ae2-28e3-4763-a530-fd7a32226a58"
      },
      "source": [
        "from sklearn.metrics import r2_score \r\n",
        "lr=LinearRegression()\r\n",
        "lr.fit(X_train,y_train)\r\n",
        "print('Intercept: \\n', lr.intercept_)\r\n",
        "print('Coefficients: \\n', lr.coef_)\r\n",
        "lr_pred = lr.predict(X_test) "
      ],
      "execution_count": 91,
      "outputs": [
        {
          "output_type": "stream",
          "text": [
            "Intercept: \n",
            " -535.1764796522704\n",
            "Coefficients: \n",
            " [-6.17235991e+00 -1.33492459e+00  3.07733178e-02 -2.71289674e-04\n",
            "  1.05978308e+01  5.30531200e+00 -2.50298980e-07 -4.11813416e-01\n",
            " -6.27478117e+00 -8.27413272e+00 -1.55501142e-01 -1.20985351e+01\n",
            " -8.26427556e-01]\n"
          ],
          "name": "stdout"
        }
      ]
    },
    {
      "cell_type": "markdown",
      "metadata": {
        "id": "HXNhMFJzpebl"
      },
      "source": [
        "## **Bayseian Ridge Regression**"
      ]
    },
    {
      "cell_type": "code",
      "metadata": {
        "colab": {
          "base_uri": "https://localhost:8080/"
        },
        "id": "i3MAZsNl03xP",
        "outputId": "f1cbe3de-3e42-4d45-c67f-6ac97605dfb9"
      },
      "source": [
        "from sklearn.linear_model import BayesianRidge \r\n",
        "br = BayesianRidge() \r\n",
        "br.fit(X_train, y_train) \r\n",
        "# Model making a prediction on test data \r\n",
        "br_pred = br.predict(X_test) \r\n",
        "print('Intercept: \\n', br.intercept_)\r\n",
        "print('Coefficients: \\n', br.coef_)"
      ],
      "execution_count": 92,
      "outputs": [
        {
          "output_type": "stream",
          "text": [
            "Intercept: \n",
            " -566.1937287254251\n",
            "Coefficients: \n",
            " [-1.61103015e+00 -4.50321060e-01  3.08790730e-02 -3.66165428e-05\n",
            "  1.05934974e+01  5.30516879e+00 -2.58247759e-07 -3.80309807e-01\n",
            " -1.41866116e+00 -3.53744878e-03 -5.12544037e-02 -1.59548978e+00\n",
            " -8.13479811e-01]\n"
          ],
          "name": "stdout"
        }
      ]
    },
    {
      "cell_type": "markdown",
      "metadata": {
        "id": "bfcdseahp6oW"
      },
      "source": [
        "## **Decision Tree Regressor**"
      ]
    },
    {
      "cell_type": "code",
      "metadata": {
        "id": "z10kGnGgh_w5"
      },
      "source": [
        "from sklearn.tree import DecisionTreeRegressor\r\n",
        "dr = DecisionTreeRegressor(random_state=1)\r\n",
        "dr.fit(X_train, y_train)\r\n",
        "dr_pred = dr.predict(X_test) "
      ],
      "execution_count": 93,
      "outputs": []
    },
    {
      "cell_type": "markdown",
      "metadata": {
        "id": "jDMByFLrpw1Z"
      },
      "source": [
        "## **Random Forest Regressor**"
      ]
    },
    {
      "cell_type": "code",
      "metadata": {
        "id": "LV2kmygMiGQ-"
      },
      "source": [
        "from sklearn.ensemble import RandomForestRegressor\r\n",
        "rf_model = RandomForestRegressor()\r\n",
        "rf_model.fit(X_train, y_train)\r\n",
        "rf_pred = rf_model.predict(X_test) "
      ],
      "execution_count": 94,
      "outputs": []
    },
    {
      "cell_type": "markdown",
      "metadata": {
        "id": "4cOzDZWmqV3L"
      },
      "source": [
        "### **Comparing the above models**"
      ]
    },
    {
      "cell_type": "markdown",
      "metadata": {
        "id": "GD1u8Bkdqq7o"
      },
      "source": [
        "Calculating the Root means Square Error for above used algorithms."
      ]
    },
    {
      "cell_type": "code",
      "metadata": {
        "colab": {
          "base_uri": "https://localhost:8080/"
        },
        "id": "YCawGCD9pU6C",
        "outputId": "da2faf14-ebec-428a-a1ee-1a5bc81a742e"
      },
      "source": [
        "from math import sqrt\r\n",
        "print(\"RMSE of  Linear Regression - \" , sqrt(mean_squared_error(y_test, lr_pred)))\r\n",
        "print(\"RMSE of  BayesianRidge Regression - \" , sqrt(mean_squared_error(y_test, br_pred)))\r\n",
        "print(\"RMSE of Decision Tree Regressor - \" , sqrt(mean_squared_error(y_test, dr_pred)))\r\n",
        "print(\"RMSE of  RandomForestRegressor - \" , sqrt(mean_squared_error(y_test, rf_pred)))"
      ],
      "execution_count": 95,
      "outputs": [
        {
          "output_type": "stream",
          "text": [
            "RMSE of  Linear Regression -  153.99779918062774\n",
            "RMSE of  BayesianRidge Regression -  153.85160699884054\n",
            "RMSE of Decision Tree Regressor -  101.28581785683117\n",
            "RMSE of  RandomForestRegressor -  72.58350136113881\n"
          ],
          "name": "stdout"
        }
      ]
    },
    {
      "cell_type": "markdown",
      "metadata": {
        "id": "YcyBoSiMr4FC"
      },
      "source": [
        "Calculating the R-Squared for the above models."
      ]
    },
    {
      "cell_type": "code",
      "metadata": {
        "colab": {
          "base_uri": "https://localhost:8080/"
        },
        "id": "fzAqPqskpVpy",
        "outputId": "b6436d7c-39cd-4ff8-da46-42279a0c82f1"
      },
      "source": [
        "print(\"R-square of Linear Regression - \" , r2_score(y_test, lr_pred))\r\n",
        "print(\"R-square of BayesianRidge  Regression - \" , r2_score(y_test, br_pred))\r\n",
        "print(\"R-square of Decision Tree Regressor - \" , r2_score(y_test, dr_pred))\r\n",
        "print(\"R-square of RandomForestRegressor - \" , r2_score(y_test, rf_pred))"
      ],
      "execution_count": 96,
      "outputs": [
        {
          "output_type": "stream",
          "text": [
            "R-square of Linear Regression -  0.861457473141787\n",
            "R-square of BayesianRidge  Regression -  0.8617203888556582\n",
            "R-square of Decision Tree Regressor -  0.9400690234517998\n",
            "R-square of RandomForestRegressor -  0.9692227434618984\n"
          ],
          "name": "stdout"
        }
      ]
    },
    {
      "cell_type": "markdown",
      "metadata": {
        "id": "AhruysbpsoEJ"
      },
      "source": [
        "**Since the RMS  value is very less for Random Forest Regressor when compared to other models, and R2 is also high, we choose it as our model.**"
      ]
    },
    {
      "cell_type": "markdown",
      "metadata": {
        "id": "eoDubrMjsAHt"
      },
      "source": [
        "### **Visualising the Random Forest Regressor with predicted and True Values.**"
      ]
    },
    {
      "cell_type": "code",
      "metadata": {
        "colab": {
          "base_uri": "https://localhost:8080/",
          "height": 531
        },
        "id": "UYmeGGcFk20m",
        "outputId": "ec571606-c9cf-403f-8c11-796525cec58b"
      },
      "source": [
        "plt.figure(figsize=(12,8))\r\n",
        "plt.scatter(y_test,rf_pred,color='blue')\r\n",
        "titlestr = 'True values vs Predicted values'\r\n",
        "plt.title(titlestr)\r\n",
        "plt.xlabel('True Values')\r\n",
        "plt.ylabel('Predicted Values')"
      ],
      "execution_count": 97,
      "outputs": [
        {
          "output_type": "execute_result",
          "data": {
            "text/plain": [
              "Text(0, 0.5, 'Predicted Values')"
            ]
          },
          "metadata": {
            "tags": []
          },
          "execution_count": 97
        },
        {
          "output_type": "display_data",
          "data": {
            "image/png": "[encoded data removed]",
            "text/plain": [
              "<Figure size 864x576 with 1 Axes>"
            ]
          },
          "metadata": {
            "tags": [],
            "needs_background": "light"
          }
        }
      ]
    },
    {
      "cell_type": "markdown",
      "metadata": {
        "id": "R4ycngWbtji7"
      },
      "source": [
        "## **Actual Prediction for Question 1**"
      ]
    },
    {
      "cell_type": "markdown",
      "metadata": {
        "id": "j2_Hrzaitroa"
      },
      "source": [
        "Before using the data for prediction we have to clean it. As in the case of above we are agian using the same Knn-imputer for replacing the null values. Then, we are using the Label Encoder and Later, we are removing the Stock Index column."
      ]
    },
    {
      "cell_type": "code",
      "metadata": {
        "id": "R3ahY8wH_1vG"
      },
      "source": [
        "from sklearn.impute import KNNImputer\r\n",
        "k_im = KNNImputer(n_neighbors=9)\r\n",
        "test.iloc[:,[3,4,5,6,7,8,9,10,11,12,13]]=k_im.fit_transform(test.iloc[:,[3,4,5,6,7,8,9,10,11,12,13]])\r\n",
        "lb = preprocessing.LabelEncoder()\r\n",
        "test['Index'] = lb.fit_transform(test['Index'])\r\n",
        "test['Industry'] = lb.fit_transform(test['Industry'])\r\n",
        "a=test.drop([\"Stock Index\"],axis=1)"
      ],
      "execution_count": 98,
      "outputs": []
    },
    {
      "cell_type": "markdown",
      "metadata": {
        "id": "aQdHcJAQxXI7"
      },
      "source": [
        "Its time for actual prediction."
      ]
    },
    {
      "cell_type": "code",
      "metadata": {
        "colab": {
          "base_uri": "https://localhost:8080/"
        },
        "id": "CgAiR9xhAWXJ",
        "outputId": "7bda5ae0-69b0-4b8e-fb9f-7e464bbbcf72"
      },
      "source": [
        "test_pred = dr.predict(a)\r\n",
        "test_pred"
      ],
      "execution_count": 99,
      "outputs": [
        {
          "output_type": "execute_result",
          "data": {
            "text/plain": [
              "array([ 793.64838685,  279.63437257, 1550.6530114 , ...,  972.68731582,\n",
              "        353.16849725, 1313.89262061])"
            ]
          },
          "metadata": {
            "tags": []
          },
          "execution_count": 99
        }
      ]
    },
    {
      "cell_type": "markdown",
      "metadata": {
        "id": "C7e5YPLPxat5"
      },
      "source": [
        "Combining the Stock Index to form actual Data frame."
      ]
    },
    {
      "cell_type": "code",
      "metadata": {
        "colab": {
          "base_uri": "https://localhost:8080/",
          "height": 406
        },
        "id": "G70yraqvR2IZ",
        "outputId": "265b372d-9f15-4a29-8af9-402cb4cdb78c"
      },
      "source": [
        "output1=pd.DataFrame()\r\n",
        "output1['Stock Index']=test['Stock Index']\r\n",
        "output1['Stock Price']=test_pred\r\n",
        "output1"
      ],
      "execution_count": 100,
      "outputs": [
        {
          "output_type": "execute_result",
          "data": {
            "text/html": [
              "<div>\n",
              "<style scoped>\n",
              "    .dataframe tbody tr th:only-of-type {\n",
              "        vertical-align: middle;\n",
              "    }\n",
              "\n",
              "    .dataframe tbody tr th {\n",
              "        vertical-align: top;\n",
              "    }\n",
              "\n",
              "    .dataframe thead th {\n",
              "        text-align: right;\n",
              "    }\n",
              "</style>\n",
              "<table border=\"1\" class=\"dataframe\">\n",
              "  <thead>\n",
              "    <tr style=\"text-align: right;\">\n",
              "      <th></th>\n",
              "      <th>Stock Index</th>\n",
              "      <th>Stock Price</th>\n",
              "    </tr>\n",
              "  </thead>\n",
              "  <tbody>\n",
              "    <tr>\n",
              "      <th>0</th>\n",
              "      <td>AC3235</td>\n",
              "      <td>793.648387</td>\n",
              "    </tr>\n",
              "    <tr>\n",
              "      <th>1</th>\n",
              "      <td>AC3236</td>\n",
              "      <td>279.634373</td>\n",
              "    </tr>\n",
              "    <tr>\n",
              "      <th>2</th>\n",
              "      <td>AC3237</td>\n",
              "      <td>1550.653011</td>\n",
              "    </tr>\n",
              "    <tr>\n",
              "      <th>3</th>\n",
              "      <td>AC3238</td>\n",
              "      <td>815.691985</td>\n",
              "    </tr>\n",
              "    <tr>\n",
              "      <th>4</th>\n",
              "      <td>AC3239</td>\n",
              "      <td>268.817191</td>\n",
              "    </tr>\n",
              "    <tr>\n",
              "      <th>...</th>\n",
              "      <td>...</td>\n",
              "      <td>...</td>\n",
              "    </tr>\n",
              "    <tr>\n",
              "      <th>3326</th>\n",
              "      <td>AD2734</td>\n",
              "      <td>149.701053</td>\n",
              "    </tr>\n",
              "    <tr>\n",
              "      <th>3327</th>\n",
              "      <td>AD2735</td>\n",
              "      <td>562.484945</td>\n",
              "    </tr>\n",
              "    <tr>\n",
              "      <th>3328</th>\n",
              "      <td>AD2736</td>\n",
              "      <td>972.687316</td>\n",
              "    </tr>\n",
              "    <tr>\n",
              "      <th>3329</th>\n",
              "      <td>AD2737</td>\n",
              "      <td>353.168497</td>\n",
              "    </tr>\n",
              "    <tr>\n",
              "      <th>3330</th>\n",
              "      <td>AD2738</td>\n",
              "      <td>1313.892621</td>\n",
              "    </tr>\n",
              "  </tbody>\n",
              "</table>\n",
              "<p>3331 rows × 2 columns</p>\n",
              "</div>"
            ],
            "text/plain": [
              "     Stock Index  Stock Price\n",
              "0         AC3235   793.648387\n",
              "1         AC3236   279.634373\n",
              "2         AC3237  1550.653011\n",
              "3         AC3238   815.691985\n",
              "4         AC3239   268.817191\n",
              "...          ...          ...\n",
              "3326      AD2734   149.701053\n",
              "3327      AD2735   562.484945\n",
              "3328      AD2736   972.687316\n",
              "3329      AD2737   353.168497\n",
              "3330      AD2738  1313.892621\n",
              "\n",
              "[3331 rows x 2 columns]"
            ]
          },
          "metadata": {
            "tags": []
          },
          "execution_count": 100
        }
      ]
    },
    {
      "cell_type": "markdown",
      "metadata": {
        "id": "v5MTHjwaxjyp"
      },
      "source": [
        "Exporting to a csv file to drive."
      ]
    },
    {
      "cell_type": "code",
      "metadata": {
        "id": "njKbaRv2g0Up"
      },
      "source": [
        "#exporting to excel to drive\r\n",
        "output1.to_csv(\"/content/drive/My Drive/output_01.csv\")"
      ],
      "execution_count": 101,
      "outputs": []
    },
    {
      "cell_type": "code",
      "metadata": {
        "colab": {
          "base_uri": "https://localhost:8080/"
        },
        "id": "YlW7TCQsILRs",
        "outputId": "3573c43f-57fb-43a1-c177-c13cf1712def"
      },
      "source": [
        "import os\r\n",
        "os.system('pip3 freeze > requirements.txt')"
      ],
      "execution_count": 107,
      "outputs": [
        {
          "output_type": "execute_result",
          "data": {
            "text/plain": [
              "0"
            ]
          },
          "metadata": {
            "tags": []
          },
          "execution_count": 107
        }
      ]
    }
  ]
}