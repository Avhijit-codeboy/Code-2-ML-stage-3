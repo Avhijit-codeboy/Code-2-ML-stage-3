{
 "cells": [
  {
   "cell_type": "code",
   "execution_count": 1,
   "metadata": {},
   "outputs": [],
   "source": [
    "import pandas as pd\n",
    "import numpy as np\n",
    "from matplotlib import pyplot as plt\n",
    "%matplotlib inline\n",
    "import seaborn as sns\n",
    "from sklearn.metrics import r2_score "
   ]
  },
  {
   "cell_type": "code",
   "execution_count": 2,
   "metadata": {},
   "outputs": [
    {
     "data": {
      "text/plain": [
       "(7383, 15)"
      ]
     },
     "execution_count": 2,
     "metadata": {},
     "output_type": "execute_result"
    }
   ],
   "source": [
    "data=pd.read_csv(\"Train_dataset_.csv\")\n",
    "data.shape"
   ]
  },
  {
   "cell_type": "code",
   "execution_count": 3,
   "metadata": {},
   "outputs": [
    {
     "data": {
      "text/html": [
       "<div>\n",
       "<style scoped>\n",
       "    .dataframe tbody tr th:only-of-type {\n",
       "        vertical-align: middle;\n",
       "    }\n",
       "\n",
       "    .dataframe tbody tr th {\n",
       "        vertical-align: top;\n",
       "    }\n",
       "\n",
       "    .dataframe thead th {\n",
       "        text-align: right;\n",
       "    }\n",
       "</style>\n",
       "<table border=\"1\" class=\"dataframe\">\n",
       "  <thead>\n",
       "    <tr style=\"text-align: right;\">\n",
       "      <th></th>\n",
       "      <th>Stock Index</th>\n",
       "      <th>Index</th>\n",
       "      <th>Industry</th>\n",
       "      <th>VWAP</th>\n",
       "      <th>General Index</th>\n",
       "      <th>NAV</th>\n",
       "      <th>P/E Ratio</th>\n",
       "      <th>Volumes Traded</th>\n",
       "      <th>Inventory Turnover</th>\n",
       "      <th>Covid Impact (Beta)</th>\n",
       "      <th>Tracking Error</th>\n",
       "      <th>Dollar Exchange Rate</th>\n",
       "      <th>Put-Call Ratio</th>\n",
       "      <th>P/B Ratio</th>\n",
       "      <th>Stock Price</th>\n",
       "    </tr>\n",
       "  </thead>\n",
       "  <tbody>\n",
       "    <tr>\n",
       "      <th>0</th>\n",
       "      <td>AA1</td>\n",
       "      <td>NYSE</td>\n",
       "      <td>Real Estate</td>\n",
       "      <td>700.29</td>\n",
       "      <td>12765.84</td>\n",
       "      <td>32.38</td>\n",
       "      <td>45.35</td>\n",
       "      <td>1208599.0</td>\n",
       "      <td>5.05</td>\n",
       "      <td>-0.43</td>\n",
       "      <td>0.0520</td>\n",
       "      <td>1.0</td>\n",
       "      <td>0.61</td>\n",
       "      <td>9.20</td>\n",
       "      <td>156.987851</td>\n",
       "    </tr>\n",
       "    <tr>\n",
       "      <th>1</th>\n",
       "      <td>AA2</td>\n",
       "      <td>NYSE</td>\n",
       "      <td>Information Tech</td>\n",
       "      <td>214.52</td>\n",
       "      <td>12765.84</td>\n",
       "      <td>33.25</td>\n",
       "      <td>170.56</td>\n",
       "      <td>13753356.0</td>\n",
       "      <td>3.10</td>\n",
       "      <td>0.23</td>\n",
       "      <td>0.0164</td>\n",
       "      <td>1.0</td>\n",
       "      <td>NaN</td>\n",
       "      <td>6.91</td>\n",
       "      <td>560.859622</td>\n",
       "    </tr>\n",
       "    <tr>\n",
       "      <th>2</th>\n",
       "      <td>AA3</td>\n",
       "      <td>NYSE</td>\n",
       "      <td>Information Tech</td>\n",
       "      <td>943.42</td>\n",
       "      <td>12765.84</td>\n",
       "      <td>88.27</td>\n",
       "      <td>143.58</td>\n",
       "      <td>6892003.0</td>\n",
       "      <td>7.70</td>\n",
       "      <td>0.23</td>\n",
       "      <td>0.0396</td>\n",
       "      <td>1.0</td>\n",
       "      <td>NaN</td>\n",
       "      <td>6.09</td>\n",
       "      <td>1279.732874</td>\n",
       "    </tr>\n",
       "    <tr>\n",
       "      <th>3</th>\n",
       "      <td>AA4</td>\n",
       "      <td>BSE</td>\n",
       "      <td>Materials</td>\n",
       "      <td>828.13</td>\n",
       "      <td>38182.08</td>\n",
       "      <td>73.66</td>\n",
       "      <td>151.76</td>\n",
       "      <td>8316793.0</td>\n",
       "      <td>4.80</td>\n",
       "      <td>0.03</td>\n",
       "      <td>0.0431</td>\n",
       "      <td>74.9</td>\n",
       "      <td>1.11</td>\n",
       "      <td>5.60</td>\n",
       "      <td>1121.787632</td>\n",
       "    </tr>\n",
       "    <tr>\n",
       "      <th>4</th>\n",
       "      <td>AA5</td>\n",
       "      <td>S&amp;P 500</td>\n",
       "      <td>Real Estate</td>\n",
       "      <td>NaN</td>\n",
       "      <td>3351.28</td>\n",
       "      <td>23.79</td>\n",
       "      <td>NaN</td>\n",
       "      <td>3943312.0</td>\n",
       "      <td>8.06</td>\n",
       "      <td>-0.43</td>\n",
       "      <td>0.0244</td>\n",
       "      <td>1.0</td>\n",
       "      <td>1.07</td>\n",
       "      <td>9.46</td>\n",
       "      <td>382.962534</td>\n",
       "    </tr>\n",
       "  </tbody>\n",
       "</table>\n",
       "</div>"
      ],
      "text/plain": [
       "  Stock Index    Index          Industry    VWAP  General Index    NAV  \\\n",
       "0         AA1     NYSE       Real Estate  700.29       12765.84  32.38   \n",
       "1         AA2     NYSE  Information Tech  214.52       12765.84  33.25   \n",
       "2         AA3     NYSE  Information Tech  943.42       12765.84  88.27   \n",
       "3         AA4      BSE         Materials  828.13       38182.08  73.66   \n",
       "4         AA5  S&P 500       Real Estate     NaN        3351.28  23.79   \n",
       "\n",
       "   P/E Ratio  Volumes Traded  Inventory Turnover  Covid Impact (Beta)  \\\n",
       "0      45.35       1208599.0                5.05                -0.43   \n",
       "1     170.56      13753356.0                3.10                 0.23   \n",
       "2     143.58       6892003.0                7.70                 0.23   \n",
       "3     151.76       8316793.0                4.80                 0.03   \n",
       "4        NaN       3943312.0                8.06                -0.43   \n",
       "\n",
       "   Tracking Error  Dollar Exchange Rate  Put-Call Ratio  P/B Ratio  \\\n",
       "0          0.0520                   1.0            0.61       9.20   \n",
       "1          0.0164                   1.0             NaN       6.91   \n",
       "2          0.0396                   1.0             NaN       6.09   \n",
       "3          0.0431                  74.9            1.11       5.60   \n",
       "4          0.0244                   1.0            1.07       9.46   \n",
       "\n",
       "   Stock Price  \n",
       "0   156.987851  \n",
       "1   560.859622  \n",
       "2  1279.732874  \n",
       "3  1121.787632  \n",
       "4   382.962534  "
      ]
     },
     "execution_count": 3,
     "metadata": {},
     "output_type": "execute_result"
    }
   ],
   "source": [
    "data.head()"
   ]
  },
  {
   "cell_type": "code",
   "execution_count": 4,
   "metadata": {},
   "outputs": [
    {
     "data": {
      "text/html": [
       "<div>\n",
       "<style scoped>\n",
       "    .dataframe tbody tr th:only-of-type {\n",
       "        vertical-align: middle;\n",
       "    }\n",
       "\n",
       "    .dataframe tbody tr th {\n",
       "        vertical-align: top;\n",
       "    }\n",
       "\n",
       "    .dataframe thead th {\n",
       "        text-align: right;\n",
       "    }\n",
       "</style>\n",
       "<table border=\"1\" class=\"dataframe\">\n",
       "  <thead>\n",
       "    <tr style=\"text-align: right;\">\n",
       "      <th></th>\n",
       "      <th>VWAP</th>\n",
       "      <th>General Index</th>\n",
       "      <th>NAV</th>\n",
       "      <th>P/E Ratio</th>\n",
       "      <th>Volumes Traded</th>\n",
       "      <th>Inventory Turnover</th>\n",
       "      <th>Covid Impact (Beta)</th>\n",
       "      <th>Tracking Error</th>\n",
       "      <th>Dollar Exchange Rate</th>\n",
       "      <th>Put-Call Ratio</th>\n",
       "      <th>P/B Ratio</th>\n",
       "      <th>Stock Price</th>\n",
       "    </tr>\n",
       "  </thead>\n",
       "  <tbody>\n",
       "    <tr>\n",
       "      <th>count</th>\n",
       "      <td>7345.000000</td>\n",
       "      <td>7321.000000</td>\n",
       "      <td>7322.000000</td>\n",
       "      <td>7149.000000</td>\n",
       "      <td>7.115000e+03</td>\n",
       "      <td>6984.000000</td>\n",
       "      <td>7007.000000</td>\n",
       "      <td>7312.000000</td>\n",
       "      <td>7306.000000</td>\n",
       "      <td>7298.000000</td>\n",
       "      <td>7358.000000</td>\n",
       "      <td>7383.000000</td>\n",
       "    </tr>\n",
       "    <tr>\n",
       "      <th>mean</th>\n",
       "      <td>486.188167</td>\n",
       "      <td>24218.079195</td>\n",
       "      <td>54.746004</td>\n",
       "      <td>105.543623</td>\n",
       "      <td>1.041827e+07</td>\n",
       "      <td>5.436840</td>\n",
       "      <td>0.140654</td>\n",
       "      <td>0.038496</td>\n",
       "      <td>33.991103</td>\n",
       "      <td>0.944722</td>\n",
       "      <td>4.996782</td>\n",
       "      <td>569.522650</td>\n",
       "    </tr>\n",
       "    <tr>\n",
       "      <th>std</th>\n",
       "      <td>278.280638</td>\n",
       "      <td>19602.174448</td>\n",
       "      <td>25.865877</td>\n",
       "      <td>55.284466</td>\n",
       "      <td>5.689059e+06</td>\n",
       "      <td>1.655755</td>\n",
       "      <td>0.384544</td>\n",
       "      <td>0.013406</td>\n",
       "      <td>34.036816</td>\n",
       "      <td>0.202732</td>\n",
       "      <td>2.616719</td>\n",
       "      <td>423.896621</td>\n",
       "    </tr>\n",
       "    <tr>\n",
       "      <th>min</th>\n",
       "      <td>5.250000</td>\n",
       "      <td>3351.280000</td>\n",
       "      <td>10.010000</td>\n",
       "      <td>10.020000</td>\n",
       "      <td>5.291170e+05</td>\n",
       "      <td>2.560000</td>\n",
       "      <td>-0.430000</td>\n",
       "      <td>0.015200</td>\n",
       "      <td>1.000000</td>\n",
       "      <td>0.600000</td>\n",
       "      <td>0.450000</td>\n",
       "      <td>10.573482</td>\n",
       "    </tr>\n",
       "    <tr>\n",
       "      <th>25%</th>\n",
       "      <td>247.100000</td>\n",
       "      <td>11270.150000</td>\n",
       "      <td>32.722500</td>\n",
       "      <td>57.630000</td>\n",
       "      <td>5.577644e+06</td>\n",
       "      <td>4.020000</td>\n",
       "      <td>0.030000</td>\n",
       "      <td>0.026900</td>\n",
       "      <td>1.000000</td>\n",
       "      <td>0.770000</td>\n",
       "      <td>2.762500</td>\n",
       "      <td>223.516594</td>\n",
       "    </tr>\n",
       "    <tr>\n",
       "      <th>50%</th>\n",
       "      <td>488.380000</td>\n",
       "      <td>12765.840000</td>\n",
       "      <td>54.510000</td>\n",
       "      <td>105.770000</td>\n",
       "      <td>1.048238e+07</td>\n",
       "      <td>5.440000</td>\n",
       "      <td>0.110000</td>\n",
       "      <td>0.038400</td>\n",
       "      <td>17.700000</td>\n",
       "      <td>0.940000</td>\n",
       "      <td>5.020000</td>\n",
       "      <td>458.716483</td>\n",
       "    </tr>\n",
       "    <tr>\n",
       "      <th>75%</th>\n",
       "      <td>724.020000</td>\n",
       "      <td>38182.080000</td>\n",
       "      <td>77.397500</td>\n",
       "      <td>154.130000</td>\n",
       "      <td>1.529882e+07</td>\n",
       "      <td>6.870000</td>\n",
       "      <td>0.230000</td>\n",
       "      <td>0.050200</td>\n",
       "      <td>74.900000</td>\n",
       "      <td>1.120000</td>\n",
       "      <td>7.217500</td>\n",
       "      <td>827.927051</td>\n",
       "    </tr>\n",
       "    <tr>\n",
       "      <th>max</th>\n",
       "      <td>965.210000</td>\n",
       "      <td>55722.000000</td>\n",
       "      <td>99.980000</td>\n",
       "      <td>199.970000</td>\n",
       "      <td>2.015445e+07</td>\n",
       "      <td>8.330000</td>\n",
       "      <td>0.780000</td>\n",
       "      <td>0.061500</td>\n",
       "      <td>74.900000</td>\n",
       "      <td>1.290000</td>\n",
       "      <td>9.560000</td>\n",
       "      <td>1970.400563</td>\n",
       "    </tr>\n",
       "  </tbody>\n",
       "</table>\n",
       "</div>"
      ],
      "text/plain": [
       "              VWAP  General Index          NAV    P/E Ratio  Volumes Traded  \\\n",
       "count  7345.000000    7321.000000  7322.000000  7149.000000    7.115000e+03   \n",
       "mean    486.188167   24218.079195    54.746004   105.543623    1.041827e+07   \n",
       "std     278.280638   19602.174448    25.865877    55.284466    5.689059e+06   \n",
       "min       5.250000    3351.280000    10.010000    10.020000    5.291170e+05   \n",
       "25%     247.100000   11270.150000    32.722500    57.630000    5.577644e+06   \n",
       "50%     488.380000   12765.840000    54.510000   105.770000    1.048238e+07   \n",
       "75%     724.020000   38182.080000    77.397500   154.130000    1.529882e+07   \n",
       "max     965.210000   55722.000000    99.980000   199.970000    2.015445e+07   \n",
       "\n",
       "       Inventory Turnover  Covid Impact (Beta)  Tracking Error  \\\n",
       "count         6984.000000          7007.000000     7312.000000   \n",
       "mean             5.436840             0.140654        0.038496   \n",
       "std              1.655755             0.384544        0.013406   \n",
       "min              2.560000            -0.430000        0.015200   \n",
       "25%              4.020000             0.030000        0.026900   \n",
       "50%              5.440000             0.110000        0.038400   \n",
       "75%              6.870000             0.230000        0.050200   \n",
       "max              8.330000             0.780000        0.061500   \n",
       "\n",
       "       Dollar Exchange Rate  Put-Call Ratio    P/B Ratio  Stock Price  \n",
       "count           7306.000000     7298.000000  7358.000000  7383.000000  \n",
       "mean              33.991103        0.944722     4.996782   569.522650  \n",
       "std               34.036816        0.202732     2.616719   423.896621  \n",
       "min                1.000000        0.600000     0.450000    10.573482  \n",
       "25%                1.000000        0.770000     2.762500   223.516594  \n",
       "50%               17.700000        0.940000     5.020000   458.716483  \n",
       "75%               74.900000        1.120000     7.217500   827.927051  \n",
       "max               74.900000        1.290000     9.560000  1970.400563  "
      ]
     },
     "execution_count": 4,
     "metadata": {},
     "output_type": "execute_result"
    }
   ],
   "source": [
    "data.describe()"
   ]
  },
  {
   "cell_type": "code",
   "execution_count": 5,
   "metadata": {},
   "outputs": [
    {
     "data": {
      "text/plain": [
       "Stock Index               0\n",
       "Index                     0\n",
       "Industry                  0\n",
       "VWAP                     38\n",
       "General Index            62\n",
       "NAV                      61\n",
       "P/E Ratio               234\n",
       "Volumes Traded          268\n",
       "Inventory Turnover      399\n",
       "Covid Impact (Beta)     376\n",
       "Tracking Error           71\n",
       "Dollar Exchange Rate     77\n",
       "Put-Call Ratio           85\n",
       "P/B Ratio                25\n",
       "Stock Price               0\n",
       "dtype: int64"
      ]
     },
     "execution_count": 5,
     "metadata": {},
     "output_type": "execute_result"
    }
   ],
   "source": [
    "pd.isnull(data).sum()"
   ]
  },
  {
   "cell_type": "code",
   "execution_count": 6,
   "metadata": {},
   "outputs": [
    {
     "data": {
      "text/plain": [
       "<matplotlib.axes._subplots.AxesSubplot at 0xb0cf160>"
      ]
     },
     "execution_count": 6,
     "metadata": {},
     "output_type": "execute_result"
    },
    {
     "data": {
      "image/png": "[encoded data removed]",
      "text/plain": [
       "<Figure size 432x288 with 1 Axes>"
      ]
     },
     "metadata": {
      "needs_background": "light"
     },
     "output_type": "display_data"
    }
   ],
   "source": [
    "data['VWAP'].plot.box()"
   ]
  },
  {
   "cell_type": "code",
   "execution_count": 7,
   "metadata": {},
   "outputs": [
    {
     "data": {
      "text/plain": [
       "<matplotlib.axes._subplots.AxesSubplot at 0xb20f130>"
      ]
     },
     "execution_count": 7,
     "metadata": {},
     "output_type": "execute_result"
    },
    {
     "data": {
      "image/png": "[encoded data removed]",
      "text/plain": [
       "<Figure size 432x288 with 1 Axes>"
      ]
     },
     "metadata": {
      "needs_background": "light"
     },
     "output_type": "display_data"
    }
   ],
   "source": [
    "data['General Index'].plot.box()"
   ]
  },
  {
   "cell_type": "code",
   "execution_count": 8,
   "metadata": {},
   "outputs": [
    {
     "data": {
      "text/plain": [
       "<matplotlib.axes._subplots.AxesSubplot at 0xb26ed60>"
      ]
     },
     "execution_count": 8,
     "metadata": {},
     "output_type": "execute_result"
    },
    {
     "data": {
      "image/png": "[encoded data removed]",
      "text/plain": [
       "<Figure size 432x288 with 1 Axes>"
      ]
     },
     "metadata": {
      "needs_background": "light"
     },
     "output_type": "display_data"
    }
   ],
   "source": [
    "data['NAV'].plot.box()"
   ]
  },
  {
   "cell_type": "code",
   "execution_count": 9,
   "metadata": {},
   "outputs": [
    {
     "data": {
      "text/plain": [
       "<matplotlib.axes._subplots.AxesSubplot at 0xb2bd4c0>"
      ]
     },
     "execution_count": 9,
     "metadata": {},
     "output_type": "execute_result"
    },
    {
     "data": {
      "image/png": "[encoded data removed]",
      "text/plain": [
       "<Figure size 432x288 with 1 Axes>"
      ]
     },
     "metadata": {
      "needs_background": "light"
     },
     "output_type": "display_data"
    }
   ],
   "source": [
    "data['P/E Ratio'].plot.box()"
   ]
  },
  {
   "cell_type": "code",
   "execution_count": 10,
   "metadata": {},
   "outputs": [
    {
     "data": {
      "text/plain": [
       "<matplotlib.axes._subplots.AxesSubplot at 0xb2cfc40>"
      ]
     },
     "execution_count": 10,
     "metadata": {},
     "output_type": "execute_result"
    },
    {
     "data": {
      "image/png": "[encoded data removed]",
      "text/plain": [
       "<Figure size 432x288 with 1 Axes>"
      ]
     },
     "metadata": {
      "needs_background": "light"
     },
     "output_type": "display_data"
    }
   ],
   "source": [
    "data['Volumes Traded'].plot.box()"
   ]
  },
  {
   "cell_type": "code",
   "execution_count": 11,
   "metadata": {},
   "outputs": [
    {
     "data": {
      "text/plain": [
       "<matplotlib.axes._subplots.AxesSubplot at 0xb392400>"
      ]
     },
     "execution_count": 11,
     "metadata": {},
     "output_type": "execute_result"
    },
    {
     "data": {
      "image/png": "[encoded data removed]",
      "text/plain": [
       "<Figure size 432x288 with 1 Axes>"
      ]
     },
     "metadata": {
      "needs_background": "light"
     },
     "output_type": "display_data"
    }
   ],
   "source": [
    "data['Inventory Turnover'].plot.box()"
   ]
  },
  {
   "cell_type": "code",
   "execution_count": 12,
   "metadata": {},
   "outputs": [
    {
     "data": {
      "text/plain": [
       "<matplotlib.axes._subplots.AxesSubplot at 0xb3e9ca0>"
      ]
     },
     "execution_count": 12,
     "metadata": {},
     "output_type": "execute_result"
    },
    {
     "data": {
      "image/png": "[encoded data removed]",
      "text/plain": [
       "<Figure size 432x288 with 1 Axes>"
      ]
     },
     "metadata": {
      "needs_background": "light"
     },
     "output_type": "display_data"
    }
   ],
   "source": [
    "data['Covid Impact (Beta)'].plot.box()"
   ]
  },
  {
   "cell_type": "code",
   "execution_count": 13,
   "metadata": {},
   "outputs": [
    {
     "data": {
      "text/plain": [
       "<matplotlib.axes._subplots.AxesSubplot at 0xb43e6a0>"
      ]
     },
     "execution_count": 13,
     "metadata": {},
     "output_type": "execute_result"
    },
    {
     "data": {
      "image/png": "[encoded data removed]",
      "text/plain": [
       "<Figure size 432x288 with 1 Axes>"
      ]
     },
     "metadata": {
      "needs_background": "light"
     },
     "output_type": "display_data"
    }
   ],
   "source": [
    "data['Tracking Error'].plot.box()"
   ]
  },
  {
   "cell_type": "code",
   "execution_count": 14,
   "metadata": {},
   "outputs": [
    {
     "data": {
      "text/plain": [
       "<matplotlib.axes._subplots.AxesSubplot at 0xb49ad00>"
      ]
     },
     "execution_count": 14,
     "metadata": {},
     "output_type": "execute_result"
    },
    {
     "data": {
      "image/png": "[encoded data removed]",
      "text/plain": [
       "<Figure size 432x288 with 1 Axes>"
      ]
     },
     "metadata": {
      "needs_background": "light"
     },
     "output_type": "display_data"
    }
   ],
   "source": [
    "data['Dollar Exchange Rate'].plot.box()"
   ]
  },
  {
   "cell_type": "code",
   "execution_count": 15,
   "metadata": {},
   "outputs": [
    {
     "data": {
      "text/plain": [
       "<matplotlib.axes._subplots.AxesSubplot at 0xb4f8d90>"
      ]
     },
     "execution_count": 15,
     "metadata": {},
     "output_type": "execute_result"
    },
    {
     "data": {
      "image/png": "[encoded data removed]",
      "text/plain": [
       "<Figure size 432x288 with 1 Axes>"
      ]
     },
     "metadata": {
      "needs_background": "light"
     },
     "output_type": "display_data"
    }
   ],
   "source": [
    "data['Put-Call Ratio'].plot.box()"
   ]
  },
  {
   "cell_type": "code",
   "execution_count": 16,
   "metadata": {},
   "outputs": [
    {
     "data": {
      "text/plain": [
       "<matplotlib.axes._subplots.AxesSubplot at 0xb33cb20>"
      ]
     },
     "execution_count": 16,
     "metadata": {},
     "output_type": "execute_result"
    },
    {
     "data": {
      "image/png": "[encoded data removed]",
      "text/plain": [
       "<Figure size 432x288 with 1 Axes>"
      ]
     },
     "metadata": {
      "needs_background": "light"
     },
     "output_type": "display_data"
    }
   ],
   "source": [
    "data['P/B Ratio'].plot.box()"
   ]
  },
  {
   "cell_type": "code",
   "execution_count": 17,
   "metadata": {
    "scrolled": true
   },
   "outputs": [
    {
     "data": {
      "image/png": "[encoded data removed]",
      "text/plain": [
       "<Figure size 720x720 with 2 Axes>"
      ]
     },
     "metadata": {
      "needs_background": "light"
     },
     "output_type": "display_data"
    }
   ],
   "source": [
    "plt.figure(figsize=(10,10))\n",
    "X = data.drop(\"Stock Price\",1)\n",
    "cor =data.corr()\n",
    "sns.heatmap(cor, annot=True, cmap=plt.cm.Reds)\n",
    "plt.show()"
   ]
  },
  {
   "cell_type": "code",
   "execution_count": 18,
   "metadata": {},
   "outputs": [],
   "source": [
    "data['VWAP']=data['VWAP'].fillna(data['VWAP'].median())"
   ]
  },
  {
   "cell_type": "code",
   "execution_count": 19,
   "metadata": {},
   "outputs": [],
   "source": [
    "data['General Index']=data['General Index'].fillna(data['General Index'].median())"
   ]
  },
  {
   "cell_type": "code",
   "execution_count": 20,
   "metadata": {},
   "outputs": [],
   "source": [
    "data['NAV']=data['NAV'].fillna(data['NAV'].median())"
   ]
  },
  {
   "cell_type": "code",
   "execution_count": 21,
   "metadata": {},
   "outputs": [],
   "source": [
    "data['P/E Ratio']=data['P/E Ratio'].fillna(data['P/E Ratio'].median())"
   ]
  },
  {
   "cell_type": "code",
   "execution_count": 22,
   "metadata": {},
   "outputs": [],
   "source": [
    "data['Volumes Traded']=data['Volumes Traded'].fillna(data['Volumes Traded'].median())"
   ]
  },
  {
   "cell_type": "code",
   "execution_count": 23,
   "metadata": {},
   "outputs": [],
   "source": [
    "data['Inventory Turnover']=data['Inventory Turnover'].fillna(data['Inventory Turnover'].median())"
   ]
  },
  {
   "cell_type": "code",
   "execution_count": 24,
   "metadata": {},
   "outputs": [],
   "source": [
    "Q1 = np.percentile(data['Covid Impact (Beta)'], 25, interpolation = 'midpoint')\n",
    "Q3 = np.percentile(data['Covid Impact (Beta)'], 75, interpolation = 'midpoint')\n",
    "IQR = Q3 - Q1\n",
    "data.loc[data['Covid Impact (Beta)']<(Q1-1.5*IQR)]=np.median(data['Covid Impact (Beta)'])\n",
    "data.loc[data['Covid Impact (Beta)']>(Q3+1.5*IQR)]=np.median(data['Covid Impact (Beta)'])"
   ]
  },
  {
   "cell_type": "code",
   "execution_count": 25,
   "metadata": {},
   "outputs": [],
   "source": [
    "data['Covid Impact (Beta)']=data['Covid Impact (Beta)'].fillna(data['Covid Impact (Beta)'].median())"
   ]
  },
  {
   "cell_type": "code",
   "execution_count": 26,
   "metadata": {},
   "outputs": [],
   "source": [
    "data['Tracking Error']=data['Tracking Error'].fillna(data['Tracking Error'].median())"
   ]
  },
  {
   "cell_type": "code",
   "execution_count": 27,
   "metadata": {},
   "outputs": [],
   "source": [
    "data['Dollar Exchange Rate']=data['Dollar Exchange Rate'].fillna(data['Dollar Exchange Rate'].median())"
   ]
  },
  {
   "cell_type": "code",
   "execution_count": 28,
   "metadata": {},
   "outputs": [],
   "source": [
    "data['Put-Call Ratio']=data['Put-Call Ratio'].fillna(data['Put-Call Ratio'].median())"
   ]
  },
  {
   "cell_type": "code",
   "execution_count": 29,
   "metadata": {},
   "outputs": [],
   "source": [
    "data['P/B Ratio']=data['P/B Ratio'].fillna(data['P/B Ratio'].median())"
   ]
  },
  {
   "cell_type": "code",
   "execution_count": 30,
   "metadata": {},
   "outputs": [],
   "source": [
    "data=data.drop('Stock Index',axis=1)"
   ]
  },
  {
   "cell_type": "code",
   "execution_count": 31,
   "metadata": {},
   "outputs": [],
   "source": [
    "data_train_in=pd.get_dummies(data.drop('Stock Price',axis=1))"
   ]
  },
  {
   "cell_type": "code",
   "execution_count": 32,
   "metadata": {},
   "outputs": [],
   "source": [
    "pc=pd.read_csv(\"Put-Call_TS.csv\")"
   ]
  },
  {
   "cell_type": "code",
   "execution_count": 33,
   "metadata": {},
   "outputs": [],
   "source": [
    "pc['10-Aug']=pc['10-Aug'].fillna(pc['10-Aug'].median())"
   ]
  },
  {
   "cell_type": "code",
   "execution_count": 34,
   "metadata": {},
   "outputs": [],
   "source": [
    "pc['11-Aug']=pc['11-Aug'].fillna(pc['11-Aug'].median())"
   ]
  },
  {
   "cell_type": "code",
   "execution_count": 35,
   "metadata": {},
   "outputs": [],
   "source": [
    "pc['12-Aug']=pc['12-Aug'].fillna(pc['12-Aug'].median())"
   ]
  },
  {
   "cell_type": "code",
   "execution_count": 36,
   "metadata": {},
   "outputs": [],
   "source": [
    "pc['13-Aug']=pc['13-Aug'].fillna(pc['13-Aug'].median())"
   ]
  },
  {
   "cell_type": "code",
   "execution_count": 37,
   "metadata": {},
   "outputs": [],
   "source": [
    "pc['14-Aug']=pc['14-Aug'].fillna(pc['14-Aug'].median())"
   ]
  },
  {
   "cell_type": "code",
   "execution_count": 38,
   "metadata": {},
   "outputs": [],
   "source": [
    "pc['15-Aug']=pc['15-Aug'].fillna(pc['15-Aug'].median())"
   ]
  },
  {
   "cell_type": "code",
   "execution_count": 39,
   "metadata": {},
   "outputs": [],
   "source": [
    "pc['16-Aug']=(pc['10-Aug']+pc['11-Aug']+pc['12-Aug']+pc['13-Aug']+pc['14-Aug']+pc['15-Aug'])/6"
   ]
  },
  {
   "cell_type": "code",
   "execution_count": 40,
   "metadata": {},
   "outputs": [],
   "source": [
    "test=pd.read_csv(\"Test_Aug10.csv\")"
   ]
  },
  {
   "cell_type": "code",
   "execution_count": 41,
   "metadata": {},
   "outputs": [],
   "source": [
    "test=test.drop('Put-Call Ratio',axis=1)"
   ]
  },
  {
   "cell_type": "code",
   "execution_count": 42,
   "metadata": {},
   "outputs": [],
   "source": [
    "test['Put-Call Ratio']=pc['16-Aug']"
   ]
  },
  {
   "cell_type": "code",
   "execution_count": 43,
   "metadata": {
    "scrolled": true
   },
   "outputs": [
    {
     "data": {
      "text/html": [
       "<div>\n",
       "<style scoped>\n",
       "    .dataframe tbody tr th:only-of-type {\n",
       "        vertical-align: middle;\n",
       "    }\n",
       "\n",
       "    .dataframe tbody tr th {\n",
       "        vertical-align: top;\n",
       "    }\n",
       "\n",
       "    .dataframe thead th {\n",
       "        text-align: right;\n",
       "    }\n",
       "</style>\n",
       "<table border=\"1\" class=\"dataframe\">\n",
       "  <thead>\n",
       "    <tr style=\"text-align: right;\">\n",
       "      <th></th>\n",
       "      <th>VWAP</th>\n",
       "      <th>General Index</th>\n",
       "      <th>NAV</th>\n",
       "      <th>P/E Ratio</th>\n",
       "      <th>Volumes Traded</th>\n",
       "      <th>Inventory Turnover</th>\n",
       "      <th>Covid Impact (Beta)</th>\n",
       "      <th>Tracking Error</th>\n",
       "      <th>Dollar Exchange Rate</th>\n",
       "      <th>P/B Ratio</th>\n",
       "      <th>Put-Call Ratio</th>\n",
       "    </tr>\n",
       "  </thead>\n",
       "  <tbody>\n",
       "    <tr>\n",
       "      <th>count</th>\n",
       "      <td>3319.000000</td>\n",
       "      <td>3060.000000</td>\n",
       "      <td>3056.000000</td>\n",
       "      <td>3039.000000</td>\n",
       "      <td>3.283000e+03</td>\n",
       "      <td>3301.000000</td>\n",
       "      <td>3300.000000</td>\n",
       "      <td>3205.000000</td>\n",
       "      <td>3188.000000</td>\n",
       "      <td>3193.000000</td>\n",
       "      <td>3331.000000</td>\n",
       "    </tr>\n",
       "    <tr>\n",
       "      <th>mean</th>\n",
       "      <td>488.572588</td>\n",
       "      <td>25099.383680</td>\n",
       "      <td>54.257196</td>\n",
       "      <td>104.731629</td>\n",
       "      <td>1.018308e+07</td>\n",
       "      <td>5.422872</td>\n",
       "      <td>0.139082</td>\n",
       "      <td>0.038340</td>\n",
       "      <td>33.459504</td>\n",
       "      <td>5.002543</td>\n",
       "      <td>1.051358</td>\n",
       "    </tr>\n",
       "    <tr>\n",
       "      <th>std</th>\n",
       "      <td>281.559056</td>\n",
       "      <td>19886.618464</td>\n",
       "      <td>26.184335</td>\n",
       "      <td>54.231743</td>\n",
       "      <td>5.645921e+06</td>\n",
       "      <td>1.669301</td>\n",
       "      <td>0.385717</td>\n",
       "      <td>0.013208</td>\n",
       "      <td>33.718657</td>\n",
       "      <td>2.617696</td>\n",
       "      <td>0.305617</td>\n",
       "    </tr>\n",
       "    <tr>\n",
       "      <th>min</th>\n",
       "      <td>5.490000</td>\n",
       "      <td>3351.280000</td>\n",
       "      <td>10.100000</td>\n",
       "      <td>10.050000</td>\n",
       "      <td>5.244620e+05</td>\n",
       "      <td>2.560000</td>\n",
       "      <td>-0.430000</td>\n",
       "      <td>0.015200</td>\n",
       "      <td>1.000000</td>\n",
       "      <td>0.450000</td>\n",
       "      <td>0.522411</td>\n",
       "    </tr>\n",
       "    <tr>\n",
       "      <th>25%</th>\n",
       "      <td>241.245000</td>\n",
       "      <td>11270.150000</td>\n",
       "      <td>31.100000</td>\n",
       "      <td>59.050000</td>\n",
       "      <td>5.282625e+06</td>\n",
       "      <td>3.990000</td>\n",
       "      <td>0.030000</td>\n",
       "      <td>0.027000</td>\n",
       "      <td>1.000000</td>\n",
       "      <td>2.700000</td>\n",
       "      <td>0.788849</td>\n",
       "    </tr>\n",
       "    <tr>\n",
       "      <th>50%</th>\n",
       "      <td>488.410000</td>\n",
       "      <td>12765.840000</td>\n",
       "      <td>54.170000</td>\n",
       "      <td>104.550000</td>\n",
       "      <td>1.019403e+07</td>\n",
       "      <td>5.430000</td>\n",
       "      <td>0.110000</td>\n",
       "      <td>0.038600</td>\n",
       "      <td>17.700000</td>\n",
       "      <td>4.990000</td>\n",
       "      <td>1.039614</td>\n",
       "    </tr>\n",
       "    <tr>\n",
       "      <th>75%</th>\n",
       "      <td>739.465000</td>\n",
       "      <td>38182.080000</td>\n",
       "      <td>77.002500</td>\n",
       "      <td>151.110000</td>\n",
       "      <td>1.507125e+07</td>\n",
       "      <td>6.850000</td>\n",
       "      <td>0.230000</td>\n",
       "      <td>0.049900</td>\n",
       "      <td>74.900000</td>\n",
       "      <td>7.230000</td>\n",
       "      <td>1.306052</td>\n",
       "    </tr>\n",
       "    <tr>\n",
       "      <th>max</th>\n",
       "      <td>965.080000</td>\n",
       "      <td>55722.000000</td>\n",
       "      <td>99.960000</td>\n",
       "      <td>199.970000</td>\n",
       "      <td>2.013252e+07</td>\n",
       "      <td>8.330000</td>\n",
       "      <td>0.780000</td>\n",
       "      <td>0.061500</td>\n",
       "      <td>74.900000</td>\n",
       "      <td>9.560000</td>\n",
       "      <td>1.603835</td>\n",
       "    </tr>\n",
       "  </tbody>\n",
       "</table>\n",
       "</div>"
      ],
      "text/plain": [
       "              VWAP  General Index          NAV    P/E Ratio  Volumes Traded  \\\n",
       "count  3319.000000    3060.000000  3056.000000  3039.000000    3.283000e+03   \n",
       "mean    488.572588   25099.383680    54.257196   104.731629    1.018308e+07   \n",
       "std     281.559056   19886.618464    26.184335    54.231743    5.645921e+06   \n",
       "min       5.490000    3351.280000    10.100000    10.050000    5.244620e+05   \n",
       "25%     241.245000   11270.150000    31.100000    59.050000    5.282625e+06   \n",
       "50%     488.410000   12765.840000    54.170000   104.550000    1.019403e+07   \n",
       "75%     739.465000   38182.080000    77.002500   151.110000    1.507125e+07   \n",
       "max     965.080000   55722.000000    99.960000   199.970000    2.013252e+07   \n",
       "\n",
       "       Inventory Turnover  Covid Impact (Beta)  Tracking Error  \\\n",
       "count         3301.000000          3300.000000     3205.000000   \n",
       "mean             5.422872             0.139082        0.038340   \n",
       "std              1.669301             0.385717        0.013208   \n",
       "min              2.560000            -0.430000        0.015200   \n",
       "25%              3.990000             0.030000        0.027000   \n",
       "50%              5.430000             0.110000        0.038600   \n",
       "75%              6.850000             0.230000        0.049900   \n",
       "max              8.330000             0.780000        0.061500   \n",
       "\n",
       "       Dollar Exchange Rate    P/B Ratio  Put-Call Ratio  \n",
       "count           3188.000000  3193.000000     3331.000000  \n",
       "mean              33.459504     5.002543        1.051358  \n",
       "std               33.718657     2.617696        0.305617  \n",
       "min                1.000000     0.450000        0.522411  \n",
       "25%                1.000000     2.700000        0.788849  \n",
       "50%               17.700000     4.990000        1.039614  \n",
       "75%               74.900000     7.230000        1.306052  \n",
       "max               74.900000     9.560000        1.603835  "
      ]
     },
     "execution_count": 43,
     "metadata": {},
     "output_type": "execute_result"
    }
   ],
   "source": [
    "test.describe()"
   ]
  },
  {
   "cell_type": "code",
   "execution_count": 44,
   "metadata": {},
   "outputs": [],
   "source": [
    "test['VWAP']=test['VWAP'].fillna(test['VWAP'].median())"
   ]
  },
  {
   "cell_type": "code",
   "execution_count": 45,
   "metadata": {},
   "outputs": [],
   "source": [
    "test['General Index']=test['General Index'].fillna(test['General Index'].median())"
   ]
  },
  {
   "cell_type": "code",
   "execution_count": 46,
   "metadata": {},
   "outputs": [],
   "source": [
    "test['NAV']=test['NAV'].fillna(test['NAV'].median())"
   ]
  },
  {
   "cell_type": "code",
   "execution_count": 47,
   "metadata": {},
   "outputs": [],
   "source": [
    "test['P/E Ratio']=test['P/E Ratio'].fillna(test['P/E Ratio'].median())"
   ]
  },
  {
   "cell_type": "code",
   "execution_count": 48,
   "metadata": {},
   "outputs": [],
   "source": [
    "test['Volumes Traded']=test['Volumes Traded'].fillna(test['Volumes Traded'].median())"
   ]
  },
  {
   "cell_type": "code",
   "execution_count": 49,
   "metadata": {},
   "outputs": [],
   "source": [
    "test['Inventory Turnover']=test['Inventory Turnover'].fillna(test['Inventory Turnover'].median())"
   ]
  },
  {
   "cell_type": "code",
   "execution_count": 50,
   "metadata": {},
   "outputs": [],
   "source": [
    "Q1 = np.percentile(test['Covid Impact (Beta)'], 25, interpolation = 'midpoint')\n",
    "Q3 = np.percentile(test['Covid Impact (Beta)'], 75, interpolation = 'midpoint')\n",
    "IQR = Q3 - Q1\n",
    "test.loc[test['Covid Impact (Beta)']<(Q1-1.5*IQR)]=np.median(test['Covid Impact (Beta)'])\n",
    "test.loc[test['Covid Impact (Beta)']>(Q3+1.5*IQR)]=np.median(test['Covid Impact (Beta)'])"
   ]
  },
  {
   "cell_type": "code",
   "execution_count": 51,
   "metadata": {},
   "outputs": [],
   "source": [
    "test['Covid Impact (Beta)']=test['Covid Impact (Beta)'].fillna(test['Covid Impact (Beta)'].median())"
   ]
  },
  {
   "cell_type": "code",
   "execution_count": 52,
   "metadata": {},
   "outputs": [],
   "source": [
    "test['Tracking Error']=test['Tracking Error'].fillna(test['Tracking Error'].median())"
   ]
  },
  {
   "cell_type": "code",
   "execution_count": 53,
   "metadata": {},
   "outputs": [],
   "source": [
    "test['Dollar Exchange Rate']=test['Dollar Exchange Rate'].fillna(test['Dollar Exchange Rate'].median())"
   ]
  },
  {
   "cell_type": "code",
   "execution_count": 54,
   "metadata": {},
   "outputs": [],
   "source": [
    "test['Put-Call Ratio']=test['Put-Call Ratio'].fillna(test['Put-Call Ratio'].median())"
   ]
  },
  {
   "cell_type": "code",
   "execution_count": 55,
   "metadata": {},
   "outputs": [],
   "source": [
    "test['P/B Ratio']=test['P/B Ratio'].fillna(test['P/B Ratio'].median())"
   ]
  },
  {
   "cell_type": "code",
   "execution_count": 56,
   "metadata": {},
   "outputs": [],
   "source": [
    "data_test_in=pd.get_dummies(test.drop('Stock Index',axis=1))"
   ]
  },
  {
   "cell_type": "code",
   "execution_count": 57,
   "metadata": {},
   "outputs": [],
   "source": [
    "out= pd.DataFrame(columns = ['Stock Price'])"
   ]
  },
  {
   "cell_type": "code",
   "execution_count": 58,
   "metadata": {},
   "outputs": [],
   "source": [
    "from sklearn.linear_model import LinearRegression\n",
    "\n",
    "linreg_t1= LinearRegression()\n"
   ]
  },
  {
   "cell_type": "code",
   "execution_count": 59,
   "metadata": {},
   "outputs": [
    {
     "data": {
      "text/plain": [
       "LinearRegression()"
      ]
     },
     "execution_count": 59,
     "metadata": {},
     "output_type": "execute_result"
    }
   ],
   "source": [
    "linreg_t1.fit(data_train_in,data['Stock Price'])\n"
   ]
  },
  {
   "cell_type": "code",
   "execution_count": 60,
   "metadata": {},
   "outputs": [],
   "source": [
    "out['Stock Price']=linreg_t1.predict(data_test_in)\n"
   ]
  },
  {
   "cell_type": "code",
   "execution_count": 61,
   "metadata": {},
   "outputs": [],
   "source": [
    "out['Stock Index']=test['Stock Index']"
   ]
  },
  {
   "cell_type": "code",
   "execution_count": 62,
   "metadata": {},
   "outputs": [],
   "source": [
    "out[['Stock Index','Stock Price']].to_csv('solution_part2.csv',index=False)"
   ]
  },
  {
   "cell_type": "code",
   "execution_count": 63,
   "metadata": {},
   "outputs": [],
   "source": [
    "d=pd.read_csv('solution_part2.csv')"
   ]
  },
  {
   "cell_type": "code",
   "execution_count": 64,
   "metadata": {},
   "outputs": [
    {
     "data": {
      "text/html": [
       "<div>\n",
       "<style scoped>\n",
       "    .dataframe tbody tr th:only-of-type {\n",
       "        vertical-align: middle;\n",
       "    }\n",
       "\n",
       "    .dataframe tbody tr th {\n",
       "        vertical-align: top;\n",
       "    }\n",
       "\n",
       "    .dataframe thead th {\n",
       "        text-align: right;\n",
       "    }\n",
       "</style>\n",
       "<table border=\"1\" class=\"dataframe\">\n",
       "  <thead>\n",
       "    <tr style=\"text-align: right;\">\n",
       "      <th></th>\n",
       "      <th>Stock Index</th>\n",
       "      <th>Stock Price</th>\n",
       "    </tr>\n",
       "  </thead>\n",
       "  <tbody>\n",
       "    <tr>\n",
       "      <th>0</th>\n",
       "      <td>AC3235</td>\n",
       "      <td>844.465062</td>\n",
       "    </tr>\n",
       "    <tr>\n",
       "      <th>1</th>\n",
       "      <td>AC3236</td>\n",
       "      <td>380.779828</td>\n",
       "    </tr>\n",
       "    <tr>\n",
       "      <th>2</th>\n",
       "      <td>AC3237</td>\n",
       "      <td>1284.341276</td>\n",
       "    </tr>\n",
       "    <tr>\n",
       "      <th>3</th>\n",
       "      <td>AC3238</td>\n",
       "      <td>831.710096</td>\n",
       "    </tr>\n",
       "    <tr>\n",
       "      <th>4</th>\n",
       "      <td>AC3239</td>\n",
       "      <td>339.988422</td>\n",
       "    </tr>\n",
       "    <tr>\n",
       "      <th>...</th>\n",
       "      <td>...</td>\n",
       "      <td>...</td>\n",
       "    </tr>\n",
       "    <tr>\n",
       "      <th>3326</th>\n",
       "      <td>AD2734</td>\n",
       "      <td>155.127507</td>\n",
       "    </tr>\n",
       "    <tr>\n",
       "      <th>3327</th>\n",
       "      <td>AD2735</td>\n",
       "      <td>563.433430</td>\n",
       "    </tr>\n",
       "    <tr>\n",
       "      <th>3328</th>\n",
       "      <td>AD2736</td>\n",
       "      <td>529.106253</td>\n",
       "    </tr>\n",
       "    <tr>\n",
       "      <th>3329</th>\n",
       "      <td>AD2737</td>\n",
       "      <td>567.987005</td>\n",
       "    </tr>\n",
       "    <tr>\n",
       "      <th>3330</th>\n",
       "      <td>AD2738</td>\n",
       "      <td>1132.942077</td>\n",
       "    </tr>\n",
       "  </tbody>\n",
       "</table>\n",
       "<p>3331 rows × 2 columns</p>\n",
       "</div>"
      ],
      "text/plain": [
       "     Stock Index  Stock Price\n",
       "0         AC3235   844.465062\n",
       "1         AC3236   380.779828\n",
       "2         AC3237  1284.341276\n",
       "3         AC3238   831.710096\n",
       "4         AC3239   339.988422\n",
       "...          ...          ...\n",
       "3326      AD2734   155.127507\n",
       "3327      AD2735   563.433430\n",
       "3328      AD2736   529.106253\n",
       "3329      AD2737   567.987005\n",
       "3330      AD2738  1132.942077\n",
       "\n",
       "[3331 rows x 2 columns]"
      ]
     },
     "execution_count": 64,
     "metadata": {},
     "output_type": "execute_result"
    }
   ],
   "source": [
    "d"
   ]
  },
  {
   "cell_type": "code",
   "execution_count": null,
   "metadata": {},
   "outputs": [],
   "source": []
  }
 ],
 "metadata": {
  "kernelspec": {
   "display_name": "Python 3",
   "language": "python",
   "name": "python3"
  },
  "language_info": {
   "codemirror_mode": {
    "name": "ipython",
    "version": 3
   },
   "file_extension": ".py",
   "mimetype": "text/x-python",
   "name": "python",
   "nbconvert_exporter": "python",
   "pygments_lexer": "ipython3",
   "version": "3.8.3"
  }
 },
 "nbformat": 4,
 "nbformat_minor": 4
}
