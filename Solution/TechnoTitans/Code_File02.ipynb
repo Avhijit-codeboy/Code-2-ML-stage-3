{
  "nbformat": 4,
  "nbformat_minor": 0,
  "metadata": {
    "kernelspec": {
      "language": "python",
      "display_name": "Python 3",
      "name": "python3"
    },
    "language_info": {
      "pygments_lexer": "ipython3",
      "nbconvert_exporter": "python",
      "version": "3.6.4",
      "file_extension": ".py",
      "codemirror_mode": {
        "name": "ipython",
        "version": 3
      },
      "name": "python",
      "mimetype": "text/x-python"
    },
    "colab": {
      "name": "Copy of Copy of  stock price prediction - RNN.ipynb",
      "provenance": []
    }
  },
  "cells": [
    {
      "cell_type": "code",
      "metadata": {
        "_uuid": "8f2839f25d086af736a60e9eeb907d3b93b6e0e5",
        "_cell_guid": "b1076dfc-b9ad-4769-8c92-a6c4dae69d19",
        "trusted": true,
        "id": "Gw1aeLR12Xfg"
      },
      "source": [
        "# This Python 3 environment comes with many helpful analytics libraries installed\n",
        "# It is defined by the kaggle/python docker image: https://github.com/kaggle/docker-python\n",
        "# For example, here's several helpful packages to load in \n",
        "\n",
        "import numpy as np # linear algebra\n",
        "import pandas as pd # data processing, CSV file I/O (e.g. pd.read_csv)\n",
        "import matplotlib.pyplot as plt\n",
        "\n",
        "# Input data files are available in the \"../input/\" directory.\n",
        "# For example, running this (by clicking run or pressing Shift+Enter) will list the files in the input directory\n",
        "\n"
      ],
      "execution_count": 3,
      "outputs": []
    },
    {
      "cell_type": "code",
      "metadata": {
        "_cell_guid": "79c7e3d0-c299-4dcb-8224-4455121ee9b0",
        "_uuid": "d629ff2d2480ee46fbb7e2d37f6b5fab8052498a",
        "trusted": true,
        "id": "RUvajT3w2Xft"
      },
      "source": [
        "data = pd.read_csv(\"/content/stock.csv\")"
      ],
      "execution_count": 4,
      "outputs": []
    },
    {
      "cell_type": "code",
      "metadata": {
        "trusted": true,
        "_uuid": "9de88d689da1a279477470f6cef999c0a45bf98a",
        "id": "PVBqTvZm2Xf4",
        "colab": {
          "base_uri": "https://localhost:8080/",
          "height": 402
        },
        "outputId": "b39617a3-f452-4bc1-86e4-c770719cde2f"
      },
      "source": [
        "data"
      ],
      "execution_count": 5,
      "outputs": [
        {
          "output_type": "execute_result",
          "data": {
            "text/html": [
              "<div>\n",
              "<style scoped>\n",
              "    .dataframe tbody tr th:only-of-type {\n",
              "        vertical-align: middle;\n",
              "    }\n",
              "\n",
              "    .dataframe tbody tr th {\n",
              "        vertical-align: top;\n",
              "    }\n",
              "\n",
              "    .dataframe thead th {\n",
              "        text-align: right;\n",
              "    }\n",
              "</style>\n",
              "<table border=\"1\" class=\"dataframe\">\n",
              "  <thead>\n",
              "    <tr style=\"text-align: right;\">\n",
              "      <th></th>\n",
              "      <th>Stock Index</th>\n",
              "      <th>10-Aug</th>\n",
              "      <th>11-Aug</th>\n",
              "      <th>12-Aug</th>\n",
              "      <th>13-Aug</th>\n",
              "      <th>14-Aug</th>\n",
              "      <th>15-Aug</th>\n",
              "    </tr>\n",
              "  </thead>\n",
              "  <tbody>\n",
              "    <tr>\n",
              "      <th>0</th>\n",
              "      <td>AC3235</td>\n",
              "      <td>0.80</td>\n",
              "      <td>0.660</td>\n",
              "      <td>0.77240</td>\n",
              "      <td>0.983224</td>\n",
              "      <td>0.901211</td>\n",
              "      <td>0.898368</td>\n",
              "    </tr>\n",
              "    <tr>\n",
              "      <th>1</th>\n",
              "      <td>AC3236</td>\n",
              "      <td>0.86</td>\n",
              "      <td>0.732</td>\n",
              "      <td>0.85448</td>\n",
              "      <td>1.086645</td>\n",
              "      <td>1.017042</td>\n",
              "      <td>1.029258</td>\n",
              "    </tr>\n",
              "    <tr>\n",
              "      <th>2</th>\n",
              "      <td>AC3237</td>\n",
              "      <td>0.93</td>\n",
              "      <td>0.816</td>\n",
              "      <td>0.95024</td>\n",
              "      <td>1.207302</td>\n",
              "      <td>NaN</td>\n",
              "      <td>1.181962</td>\n",
              "    </tr>\n",
              "    <tr>\n",
              "      <th>3</th>\n",
              "      <td>AC3238</td>\n",
              "      <td>1.09</td>\n",
              "      <td>1.008</td>\n",
              "      <td>1.16912</td>\n",
              "      <td>1.483091</td>\n",
              "      <td>1.461062</td>\n",
              "      <td>1.531000</td>\n",
              "    </tr>\n",
              "    <tr>\n",
              "      <th>4</th>\n",
              "      <td>AC3239</td>\n",
              "      <td>NaN</td>\n",
              "      <td>1.104</td>\n",
              "      <td>1.27856</td>\n",
              "      <td>1.620986</td>\n",
              "      <td>1.615504</td>\n",
              "      <td>1.705519</td>\n",
              "    </tr>\n",
              "    <tr>\n",
              "      <th>...</th>\n",
              "      <td>...</td>\n",
              "      <td>...</td>\n",
              "      <td>...</td>\n",
              "      <td>...</td>\n",
              "      <td>...</td>\n",
              "      <td>...</td>\n",
              "      <td>...</td>\n",
              "    </tr>\n",
              "    <tr>\n",
              "      <th>3326</th>\n",
              "      <td>AD2734</td>\n",
              "      <td>0.86</td>\n",
              "      <td>0.732</td>\n",
              "      <td>0.85448</td>\n",
              "      <td>1.086645</td>\n",
              "      <td>1.017042</td>\n",
              "      <td>1.029258</td>\n",
              "    </tr>\n",
              "    <tr>\n",
              "      <th>3327</th>\n",
              "      <td>AD2735</td>\n",
              "      <td>0.64</td>\n",
              "      <td>0.468</td>\n",
              "      <td>0.55352</td>\n",
              "      <td>0.707435</td>\n",
              "      <td>0.592327</td>\n",
              "      <td>0.549330</td>\n",
              "    </tr>\n",
              "    <tr>\n",
              "      <th>3328</th>\n",
              "      <td>AD2736</td>\n",
              "      <td>0.67</td>\n",
              "      <td>0.504</td>\n",
              "      <td>0.59456</td>\n",
              "      <td>0.759146</td>\n",
              "      <td>0.650243</td>\n",
              "      <td>0.614775</td>\n",
              "    </tr>\n",
              "    <tr>\n",
              "      <th>3329</th>\n",
              "      <td>AD2737</td>\n",
              "      <td>0.79</td>\n",
              "      <td>0.648</td>\n",
              "      <td>0.75872</td>\n",
              "      <td>0.965987</td>\n",
              "      <td>0.881906</td>\n",
              "      <td>0.876553</td>\n",
              "    </tr>\n",
              "    <tr>\n",
              "      <th>3330</th>\n",
              "      <td>AD2738</td>\n",
              "      <td>0.74</td>\n",
              "      <td>0.588</td>\n",
              "      <td>0.69032</td>\n",
              "      <td>0.879803</td>\n",
              "      <td>0.785380</td>\n",
              "      <td>0.767479</td>\n",
              "    </tr>\n",
              "  </tbody>\n",
              "</table>\n",
              "<p>3331 rows × 7 columns</p>\n",
              "</div>"
            ],
            "text/plain": [
              "     Stock Index  10-Aug  11-Aug   12-Aug    13-Aug    14-Aug    15-Aug\n",
              "0         AC3235    0.80   0.660  0.77240  0.983224  0.901211  0.898368\n",
              "1         AC3236    0.86   0.732  0.85448  1.086645  1.017042  1.029258\n",
              "2         AC3237    0.93   0.816  0.95024  1.207302       NaN  1.181962\n",
              "3         AC3238    1.09   1.008  1.16912  1.483091  1.461062  1.531000\n",
              "4         AC3239     NaN   1.104  1.27856  1.620986  1.615504  1.705519\n",
              "...          ...     ...     ...      ...       ...       ...       ...\n",
              "3326      AD2734    0.86   0.732  0.85448  1.086645  1.017042  1.029258\n",
              "3327      AD2735    0.64   0.468  0.55352  0.707435  0.592327  0.549330\n",
              "3328      AD2736    0.67   0.504  0.59456  0.759146  0.650243  0.614775\n",
              "3329      AD2737    0.79   0.648  0.75872  0.965987  0.881906  0.876553\n",
              "3330      AD2738    0.74   0.588  0.69032  0.879803  0.785380  0.767479\n",
              "\n",
              "[3331 rows x 7 columns]"
            ]
          },
          "metadata": {
            "tags": []
          },
          "execution_count": 5
        }
      ]
    },
    {
      "cell_type": "code",
      "metadata": {
        "id": "4DsA5-p9FQzH",
        "colab": {
          "base_uri": "https://localhost:8080/"
        },
        "outputId": "736ee851-6ebe-4727-c0e2-665faec8ec57"
      },
      "source": [
        "data.isnull().any()"
      ],
      "execution_count": 6,
      "outputs": [
        {
          "output_type": "execute_result",
          "data": {
            "text/plain": [
              "Stock Index    False\n",
              "10-Aug          True\n",
              "11-Aug          True\n",
              "12-Aug          True\n",
              "13-Aug          True\n",
              "14-Aug          True\n",
              "15-Aug          True\n",
              "dtype: bool"
            ]
          },
          "metadata": {
            "tags": []
          },
          "execution_count": 6
        }
      ]
    },
    {
      "cell_type": "code",
      "metadata": {
        "colab": {
          "base_uri": "https://localhost:8080/"
        },
        "id": "7pBo4AQcIPpO",
        "outputId": "f86bd931-0b62-4235-e57b-e9a920a842d1"
      },
      "source": [
        "data.columns"
      ],
      "execution_count": 8,
      "outputs": [
        {
          "output_type": "execute_result",
          "data": {
            "text/plain": [
              "Index(['Stock Index', '10-Aug', '11-Aug', '12-Aug', '13-Aug', '14-Aug',\n",
              "       '15-Aug'],\n",
              "      dtype='object')"
            ]
          },
          "metadata": {
            "tags": []
          },
          "execution_count": 8
        }
      ]
    },
    {
      "cell_type": "code",
      "metadata": {
        "id": "jYdAP1QDIU-a"
      },
      "source": [
        "data['10-Aug']=data['10-Aug'].fillna(value=data['10-Aug'].mean())"
      ],
      "execution_count": 9,
      "outputs": []
    },
    {
      "cell_type": "code",
      "metadata": {
        "id": "2qdAY2zFIi8q"
      },
      "source": [
        "data['11-Aug']=data['11-Aug'].fillna(value=data['11-Aug'].mean())"
      ],
      "execution_count": 10,
      "outputs": []
    },
    {
      "cell_type": "code",
      "metadata": {
        "id": "NkfFT1xeIjm7"
      },
      "source": [
        "data['12-Aug']=data['12-Aug'].fillna(value=data['12-Aug'].mean())"
      ],
      "execution_count": 11,
      "outputs": []
    },
    {
      "cell_type": "code",
      "metadata": {
        "id": "_2AxtEo1IkL3"
      },
      "source": [
        "data['13-Aug']=data['13-Aug'].fillna(value=data['13-Aug'].mean())"
      ],
      "execution_count": 12,
      "outputs": []
    },
    {
      "cell_type": "code",
      "metadata": {
        "id": "3uYRF6CXIvVB"
      },
      "source": [
        "data['14-Aug']=data['14-Aug'].fillna(value=data['14-Aug'].mean())"
      ],
      "execution_count": 13,
      "outputs": []
    },
    {
      "cell_type": "code",
      "metadata": {
        "id": "R3CzyEG8IzKX"
      },
      "source": [
        "data['15-Aug']=data['15-Aug'].fillna(value=data['15-Aug'].mean())"
      ],
      "execution_count": 14,
      "outputs": []
    },
    {
      "cell_type": "code",
      "metadata": {
        "colab": {
          "base_uri": "https://localhost:8080/"
        },
        "id": "VKd-zqLNI46M",
        "outputId": "c3d260cc-78f0-4048-908f-54a3e9744356"
      },
      "source": [
        "data.isnull().any()"
      ],
      "execution_count": 15,
      "outputs": [
        {
          "output_type": "execute_result",
          "data": {
            "text/plain": [
              "Stock Index    False\n",
              "10-Aug         False\n",
              "11-Aug         False\n",
              "12-Aug         False\n",
              "13-Aug         False\n",
              "14-Aug         False\n",
              "15-Aug         False\n",
              "dtype: bool"
            ]
          },
          "metadata": {
            "tags": []
          },
          "execution_count": 15
        }
      ]
    },
    {
      "cell_type": "code",
      "metadata": {
        "trusted": true,
        "_uuid": "99cca4c05240bd82c4492c6c3c200925c5c096e5",
        "id": "ifUljc-K2XgD"
      },
      "source": [
        "trainset = data.iloc[:,1:6].values"
      ],
      "execution_count": 17,
      "outputs": []
    },
    {
      "cell_type": "code",
      "metadata": {
        "id": "e9M4-zZdNpMk"
      },
      "source": [
        "testset = data.iloc[:, 2:7].values"
      ],
      "execution_count": 22,
      "outputs": []
    },
    {
      "cell_type": "code",
      "metadata": {
        "id": "OgeIezoiPKjK",
        "colab": {
          "base_uri": "https://localhost:8080/"
        },
        "outputId": "13e775e7-6ac0-4d7f-e514-ddd3dd460835"
      },
      "source": [
        "testset"
      ],
      "execution_count": 29,
      "outputs": [
        {
          "output_type": "execute_result",
          "data": {
            "text/plain": [
              "array([[0.66      , 0.7724    , 0.983224  , 0.90121088, 0.89836829],\n",
              "       [0.732     , 0.85448   , 1.0866448 , 1.01704218, 1.02925766],\n",
              "       [0.816     , 0.95024   , 1.2073024 , 1.16525429, 1.18196192],\n",
              "       ...,\n",
              "       [0.504     , 0.59456   , 0.7591456 , 0.65024307, 0.61477467],\n",
              "       [0.648     , 0.75872   , 0.9659872 , 0.88190566, 0.8765534 ],\n",
              "       [0.588     , 0.69032   , 0.8798032 , 0.78537958, 0.76747893]])"
            ]
          },
          "metadata": {
            "tags": []
          },
          "execution_count": 29
        }
      ]
    },
    {
      "cell_type": "code",
      "metadata": {
        "trusted": true,
        "_uuid": "1f00141023a0cc15593c8ef1351883177ca3ba21",
        "id": "Gsy-3PEF2XgO",
        "colab": {
          "base_uri": "https://localhost:8080/"
        },
        "outputId": "7e056e3f-3269-42d8-93d9-119ac59ace0f"
      },
      "source": [
        "trainset"
      ],
      "execution_count": 30,
      "outputs": [
        {
          "output_type": "execute_result",
          "data": {
            "text/plain": [
              "array([[0.8       , 0.66      , 0.7724    , 0.983224  , 0.90121088],\n",
              "       [0.86      , 0.732     , 0.85448   , 1.0866448 , 1.01704218],\n",
              "       [0.93      , 0.816     , 0.95024   , 1.2073024 , 1.16525429],\n",
              "       ...,\n",
              "       [0.67      , 0.504     , 0.59456   , 0.7591456 , 0.65024307],\n",
              "       [0.79      , 0.648     , 0.75872   , 0.9659872 , 0.88190566],\n",
              "       [0.74      , 0.588     , 0.69032   , 0.8798032 , 0.78537958]])"
            ]
          },
          "metadata": {
            "tags": []
          },
          "execution_count": 30
        }
      ]
    },
    {
      "cell_type": "code",
      "metadata": {
        "colab": {
          "base_uri": "https://localhost:8080/"
        },
        "id": "4dVUZBtmMnOv",
        "outputId": "6db3269a-f1f8-4b40-a0f5-9ffed66bbb35"
      },
      "source": [
        "trainset.shape"
      ],
      "execution_count": 31,
      "outputs": [
        {
          "output_type": "execute_result",
          "data": {
            "text/plain": [
              "(3331, 5)"
            ]
          },
          "metadata": {
            "tags": []
          },
          "execution_count": 31
        }
      ]
    },
    {
      "cell_type": "code",
      "metadata": {
        "colab": {
          "base_uri": "https://localhost:8080/"
        },
        "id": "PUZ0q_iZNyrz",
        "outputId": "0a567674-7beb-4382-f189-810b3580ba1a"
      },
      "source": [
        "testset.shape"
      ],
      "execution_count": 32,
      "outputs": [
        {
          "output_type": "execute_result",
          "data": {
            "text/plain": [
              "(3331, 5)"
            ]
          },
          "metadata": {
            "tags": []
          },
          "execution_count": 32
        }
      ]
    },
    {
      "cell_type": "code",
      "metadata": {
        "trusted": true,
        "_uuid": "d0d549e9a4af9ab516c3304fb44d650a815dcedc",
        "id": "AZsIijN-2Xgy"
      },
      "source": [
        "x_train = []\n",
        "y_train = []"
      ],
      "execution_count": 44,
      "outputs": []
    },
    {
      "cell_type": "code",
      "metadata": {
        "id": "EjLwup5VkvFP"
      },
      "source": [
        "x_train=trainset"
      ],
      "execution_count": 45,
      "outputs": []
    },
    {
      "cell_type": "code",
      "metadata": {
        "trusted": true,
        "_uuid": "4c4f8ba0c635e7da0ba1bc52abf0a42068acdc89",
        "id": "a2yWjGsq2Xg8",
        "colab": {
          "base_uri": "https://localhost:8080/"
        },
        "outputId": "dd7e5acd-fa4d-4b08-cee9-fc82b0d6e7e6"
      },
      "source": [
        "x_train"
      ],
      "execution_count": 46,
      "outputs": [
        {
          "output_type": "execute_result",
          "data": {
            "text/plain": [
              "array([[0.8       , 0.66      , 0.7724    , 0.983224  , 0.90121088],\n",
              "       [0.86      , 0.732     , 0.85448   , 1.0866448 , 1.01704218],\n",
              "       [0.93      , 0.816     , 0.95024   , 1.2073024 , 1.16525429],\n",
              "       ...,\n",
              "       [0.67      , 0.504     , 0.59456   , 0.7591456 , 0.65024307],\n",
              "       [0.79      , 0.648     , 0.75872   , 0.9659872 , 0.88190566],\n",
              "       [0.74      , 0.588     , 0.69032   , 0.8798032 , 0.78537958]])"
            ]
          },
          "metadata": {
            "tags": []
          },
          "execution_count": 46
        }
      ]
    },
    {
      "cell_type": "code",
      "metadata": {
        "trusted": true,
        "_uuid": "360eb79902c77fbba3f16ab47a5ff7593a177478",
        "id": "ISSmUTCN2XhG",
        "colab": {
          "base_uri": "https://localhost:8080/"
        },
        "outputId": "42e4237a-3a2a-48ef-a33c-137a65f8ed80"
      },
      "source": [
        "x_train.shape"
      ],
      "execution_count": 47,
      "outputs": [
        {
          "output_type": "execute_result",
          "data": {
            "text/plain": [
              "(3331, 5)"
            ]
          },
          "metadata": {
            "tags": []
          },
          "execution_count": 47
        }
      ]
    },
    {
      "cell_type": "code",
      "metadata": {
        "id": "XQ_oQl92k9K8"
      },
      "source": [
        "\n",
        "y_train=data.iloc[:,6].values"
      ],
      "execution_count": 48,
      "outputs": []
    },
    {
      "cell_type": "code",
      "metadata": {
        "colab": {
          "base_uri": "https://localhost:8080/"
        },
        "id": "uzS2uh5XKTws",
        "outputId": "af2be8c8-c4ca-4fd5-cf2f-dc0d599ced9a"
      },
      "source": [
        "y_train"
      ],
      "execution_count": 49,
      "outputs": [
        {
          "output_type": "execute_result",
          "data": {
            "text/plain": [
              "array([0.89836829, 1.02925766, 1.18196192, ..., 0.61477467, 0.8765534 ,\n",
              "       0.76747893])"
            ]
          },
          "metadata": {
            "tags": []
          },
          "execution_count": 49
        }
      ]
    },
    {
      "cell_type": "code",
      "metadata": {
        "trusted": true,
        "_uuid": "316c5775b5c0a984b432f138792d2c0e9a484491",
        "id": "1qOpyCQi2XhP"
      },
      "source": [
        "x_train = np.reshape(x_train, (x_train.shape[0],x_train.shape[1],1))"
      ],
      "execution_count": 50,
      "outputs": []
    },
    {
      "cell_type": "code",
      "metadata": {
        "id": "fIGbdtuvlXZX",
        "colab": {
          "base_uri": "https://localhost:8080/"
        },
        "outputId": "804c4349-57a2-49b4-8edb-6242c18c7db7"
      },
      "source": [
        "x_train.shape[0]"
      ],
      "execution_count": 51,
      "outputs": [
        {
          "output_type": "execute_result",
          "data": {
            "text/plain": [
              "3331"
            ]
          },
          "metadata": {
            "tags": []
          },
          "execution_count": 51
        }
      ]
    },
    {
      "cell_type": "code",
      "metadata": {
        "id": "lMvvTi32lxoj",
        "colab": {
          "base_uri": "https://localhost:8080/"
        },
        "outputId": "8cb1c913-8146-49c1-e429-50f0174a6eaf"
      },
      "source": [
        "x_train.shape[1]"
      ],
      "execution_count": 52,
      "outputs": [
        {
          "output_type": "execute_result",
          "data": {
            "text/plain": [
              "5"
            ]
          },
          "metadata": {
            "tags": []
          },
          "execution_count": 52
        }
      ]
    },
    {
      "cell_type": "code",
      "metadata": {
        "trusted": true,
        "_uuid": "28f5242c6f1961914d1f568e70228fd30c1cb7fa",
        "id": "omnjT2bW2XhZ"
      },
      "source": [
        "from keras.models import Sequential\n",
        "from keras.layers import Dense\n",
        "from keras.layers import LSTM\n",
        "from keras.layers import Dropout"
      ],
      "execution_count": 62,
      "outputs": []
    },
    {
      "cell_type": "code",
      "metadata": {
        "trusted": true,
        "_uuid": "ed24d733423254641f134c0e84f44a8ce175589f",
        "id": "OqtjVkhy2Xhm"
      },
      "source": [
        "regressor = Sequential()\n",
        "regressor.add(LSTM(units = 50,return_sequences = True,input_shape = (x_train.shape[1],1)))"
      ],
      "execution_count": 63,
      "outputs": []
    },
    {
      "cell_type": "code",
      "metadata": {
        "trusted": true,
        "_uuid": "e7b3dd133e58cb2acc860a8cfcd1483ba70e6b1b",
        "id": "g7BTf5J32Xhv"
      },
      "source": [
        "regressor.add(Dropout(0.3))"
      ],
      "execution_count": 64,
      "outputs": []
    },
    {
      "cell_type": "code",
      "metadata": {
        "trusted": true,
        "_uuid": "6b746176cb04357ac1e4c3e4c91ecd70717fed47",
        "id": "rbWqoWFy2Xh4"
      },
      "source": [
        "regressor.add(LSTM(units = 50,return_sequences = True))\n",
        "regressor.add(Dropout(0.3))"
      ],
      "execution_count": 65,
      "outputs": []
    },
    {
      "cell_type": "code",
      "metadata": {
        "trusted": true,
        "_uuid": "73fe0b95d62b599e8aae4e2a53a10bc7165f464c",
        "id": "r7WJxJb42XiC"
      },
      "source": [
        "regressor.add(LSTM(units = 50,return_sequences = True))\n",
        "regressor.add(Dropout(0.3))"
      ],
      "execution_count": 66,
      "outputs": []
    },
    {
      "cell_type": "code",
      "metadata": {
        "trusted": true,
        "_uuid": "8c81a80d2ea3cdf653675def0bbba5f9572e8770",
        "id": "MV7N3FhI2XiM"
      },
      "source": [
        "regressor.add(LSTM(units = 50))\n",
        "regressor.add(Dropout(0.2))"
      ],
      "execution_count": 67,
      "outputs": []
    },
    {
      "cell_type": "code",
      "metadata": {
        "trusted": true,
        "_uuid": "2edc2684995e0033ae8a4997b61b92a66c5bceee",
        "id": "T-YVis0O2XiX"
      },
      "source": [
        "regressor.add(Dense(units = 1))"
      ],
      "execution_count": 68,
      "outputs": []
    },
    {
      "cell_type": "code",
      "metadata": {
        "trusted": true,
        "_uuid": "6681ff55d9a29b1ad0f37cdc82318fb2c8fbc0bd",
        "id": "CMbL3gQv2Xii"
      },
      "source": [
        "\r\n",
        "regressor.compile(optimizer = 'adam',loss = 'mean_squared_error')"
      ],
      "execution_count": 69,
      "outputs": []
    },
    {
      "cell_type": "code",
      "metadata": {
        "trusted": true,
        "_uuid": "b0287226b32109016b659a8ba484b5eb51e0d61a",
        "id": "2imUXQ1y2Xir",
        "colab": {
          "base_uri": "https://localhost:8080/"
        },
        "outputId": "3832ee7c-ad02-4b9a-f6b2-8830649724b0"
      },
      "source": [
        "regressor.fit(x_train,y_train,epochs = 100, batch_size = 32)"
      ],
      "execution_count": 70,
      "outputs": [
        {
          "output_type": "stream",
          "text": [
            "Epoch 1/100\n",
            "105/105 [==============================] - 9s 14ms/step - loss: 0.6384\n",
            "Epoch 2/100\n",
            "105/105 [==============================] - 1s 14ms/step - loss: 0.0431\n",
            "Epoch 3/100\n",
            "105/105 [==============================] - 2s 14ms/step - loss: 0.0361\n",
            "Epoch 4/100\n",
            "105/105 [==============================] - 1s 14ms/step - loss: 0.0285\n",
            "Epoch 5/100\n",
            "105/105 [==============================] - 2s 14ms/step - loss: 0.0241\n",
            "Epoch 6/100\n",
            "105/105 [==============================] - 1s 14ms/step - loss: 0.0245\n",
            "Epoch 7/100\n",
            "105/105 [==============================] - 2s 14ms/step - loss: 0.0208\n",
            "Epoch 8/100\n",
            "105/105 [==============================] - 1s 14ms/step - loss: 0.0217\n",
            "Epoch 9/100\n",
            "105/105 [==============================] - 1s 14ms/step - loss: 0.0277\n",
            "Epoch 10/100\n",
            "105/105 [==============================] - 2s 15ms/step - loss: 0.0209\n",
            "Epoch 11/100\n",
            "105/105 [==============================] - 2s 14ms/step - loss: 0.0211\n",
            "Epoch 12/100\n",
            "105/105 [==============================] - 2s 14ms/step - loss: 0.0199\n",
            "Epoch 13/100\n",
            "105/105 [==============================] - 1s 13ms/step - loss: 0.0206\n",
            "Epoch 14/100\n",
            "105/105 [==============================] - 1s 14ms/step - loss: 0.0181\n",
            "Epoch 15/100\n",
            "105/105 [==============================] - 2s 14ms/step - loss: 0.0194\n",
            "Epoch 16/100\n",
            "105/105 [==============================] - 1s 14ms/step - loss: 0.0189\n",
            "Epoch 17/100\n",
            "105/105 [==============================] - 1s 14ms/step - loss: 0.0194\n",
            "Epoch 18/100\n",
            "105/105 [==============================] - 1s 14ms/step - loss: 0.0186\n",
            "Epoch 19/100\n",
            "105/105 [==============================] - 1s 14ms/step - loss: 0.0204\n",
            "Epoch 20/100\n",
            "105/105 [==============================] - 1s 14ms/step - loss: 0.0188\n",
            "Epoch 21/100\n",
            "105/105 [==============================] - 1s 14ms/step - loss: 0.0181\n",
            "Epoch 22/100\n",
            "105/105 [==============================] - 1s 14ms/step - loss: 0.0199\n",
            "Epoch 23/100\n",
            "105/105 [==============================] - 2s 14ms/step - loss: 0.0191\n",
            "Epoch 24/100\n",
            "105/105 [==============================] - 2s 15ms/step - loss: 0.0195\n",
            "Epoch 25/100\n",
            "105/105 [==============================] - 2s 14ms/step - loss: 0.0205\n",
            "Epoch 26/100\n",
            "105/105 [==============================] - 1s 14ms/step - loss: 0.0172\n",
            "Epoch 27/100\n",
            "105/105 [==============================] - 1s 14ms/step - loss: 0.0179\n",
            "Epoch 28/100\n",
            "105/105 [==============================] - 1s 14ms/step - loss: 0.0167\n",
            "Epoch 29/100\n",
            "105/105 [==============================] - 1s 14ms/step - loss: 0.0251\n",
            "Epoch 30/100\n",
            "105/105 [==============================] - 1s 14ms/step - loss: 0.0177\n",
            "Epoch 31/100\n",
            "105/105 [==============================] - 1s 14ms/step - loss: 0.0175\n",
            "Epoch 32/100\n",
            "105/105 [==============================] - 2s 15ms/step - loss: 0.0174\n",
            "Epoch 33/100\n",
            "105/105 [==============================] - 1s 14ms/step - loss: 0.0170\n",
            "Epoch 34/100\n",
            "105/105 [==============================] - 1s 14ms/step - loss: 0.0166\n",
            "Epoch 35/100\n",
            "105/105 [==============================] - 2s 14ms/step - loss: 0.0171\n",
            "Epoch 36/100\n",
            "105/105 [==============================] - 2s 15ms/step - loss: 0.0160\n",
            "Epoch 37/100\n",
            "105/105 [==============================] - 1s 14ms/step - loss: 0.0159\n",
            "Epoch 38/100\n",
            "105/105 [==============================] - 1s 14ms/step - loss: 0.0157\n",
            "Epoch 39/100\n",
            "105/105 [==============================] - 1s 13ms/step - loss: 0.0163\n",
            "Epoch 40/100\n",
            "105/105 [==============================] - 1s 14ms/step - loss: 0.0152\n",
            "Epoch 41/100\n",
            "105/105 [==============================] - 1s 14ms/step - loss: 0.0166\n",
            "Epoch 42/100\n",
            "105/105 [==============================] - 1s 14ms/step - loss: 0.0158\n",
            "Epoch 43/100\n",
            "105/105 [==============================] - 2s 14ms/step - loss: 0.0161\n",
            "Epoch 44/100\n",
            "105/105 [==============================] - 2s 15ms/step - loss: 0.0162\n",
            "Epoch 45/100\n",
            "105/105 [==============================] - 2s 15ms/step - loss: 0.0172\n",
            "Epoch 46/100\n",
            "105/105 [==============================] - 1s 14ms/step - loss: 0.0152\n",
            "Epoch 47/100\n",
            "105/105 [==============================] - 2s 15ms/step - loss: 0.0145\n",
            "Epoch 48/100\n",
            "105/105 [==============================] - 2s 15ms/step - loss: 0.0143\n",
            "Epoch 49/100\n",
            "105/105 [==============================] - 2s 15ms/step - loss: 0.0149\n",
            "Epoch 50/100\n",
            "105/105 [==============================] - 1s 14ms/step - loss: 0.0140\n",
            "Epoch 51/100\n",
            "105/105 [==============================] - 2s 15ms/step - loss: 0.0132\n",
            "Epoch 52/100\n",
            "105/105 [==============================] - 1s 14ms/step - loss: 0.0143\n",
            "Epoch 53/100\n",
            "105/105 [==============================] - 2s 14ms/step - loss: 0.0166\n",
            "Epoch 54/100\n",
            "105/105 [==============================] - 1s 14ms/step - loss: 0.0157\n",
            "Epoch 55/100\n",
            "105/105 [==============================] - 2s 15ms/step - loss: 0.0150\n",
            "Epoch 56/100\n",
            "105/105 [==============================] - 2s 15ms/step - loss: 0.0142\n",
            "Epoch 57/100\n",
            "105/105 [==============================] - 1s 14ms/step - loss: 0.0144\n",
            "Epoch 58/100\n",
            "105/105 [==============================] - 1s 14ms/step - loss: 0.0133\n",
            "Epoch 59/100\n",
            "105/105 [==============================] - 2s 14ms/step - loss: 0.0154\n",
            "Epoch 60/100\n",
            "105/105 [==============================] - 1s 14ms/step - loss: 0.0131\n",
            "Epoch 61/100\n",
            "105/105 [==============================] - 2s 15ms/step - loss: 0.0142\n",
            "Epoch 62/100\n",
            "105/105 [==============================] - 2s 14ms/step - loss: 0.0139\n",
            "Epoch 63/100\n",
            "105/105 [==============================] - 1s 14ms/step - loss: 0.0145\n",
            "Epoch 64/100\n",
            "105/105 [==============================] - 2s 15ms/step - loss: 0.0151\n",
            "Epoch 65/100\n",
            "105/105 [==============================] - 2s 15ms/step - loss: 0.0156\n",
            "Epoch 66/100\n",
            "105/105 [==============================] - 1s 14ms/step - loss: 0.0133\n",
            "Epoch 67/100\n",
            "105/105 [==============================] - 1s 14ms/step - loss: 0.0132\n",
            "Epoch 68/100\n",
            "105/105 [==============================] - 1s 14ms/step - loss: 0.0134\n",
            "Epoch 69/100\n",
            "105/105 [==============================] - 1s 14ms/step - loss: 0.0136\n",
            "Epoch 70/100\n",
            "105/105 [==============================] - 2s 14ms/step - loss: 0.0133\n",
            "Epoch 71/100\n",
            "105/105 [==============================] - 1s 14ms/step - loss: 0.0141\n",
            "Epoch 72/100\n",
            "105/105 [==============================] - 1s 14ms/step - loss: 0.0136\n",
            "Epoch 73/100\n",
            "105/105 [==============================] - 1s 14ms/step - loss: 0.0130\n",
            "Epoch 74/100\n",
            "105/105 [==============================] - 1s 14ms/step - loss: 0.0134\n",
            "Epoch 75/100\n",
            "105/105 [==============================] - 1s 14ms/step - loss: 0.0142\n",
            "Epoch 76/100\n",
            "105/105 [==============================] - 1s 14ms/step - loss: 0.0142\n",
            "Epoch 77/100\n",
            "105/105 [==============================] - 2s 14ms/step - loss: 0.0120\n",
            "Epoch 78/100\n",
            "105/105 [==============================] - 1s 14ms/step - loss: 0.0163\n",
            "Epoch 79/100\n",
            "105/105 [==============================] - 1s 14ms/step - loss: 0.0127\n",
            "Epoch 80/100\n",
            "105/105 [==============================] - 1s 14ms/step - loss: 0.0120\n",
            "Epoch 81/100\n",
            "105/105 [==============================] - 2s 15ms/step - loss: 0.0135\n",
            "Epoch 82/100\n",
            "105/105 [==============================] - 1s 14ms/step - loss: 0.0128\n",
            "Epoch 83/100\n",
            "105/105 [==============================] - 2s 14ms/step - loss: 0.0122\n",
            "Epoch 84/100\n",
            "105/105 [==============================] - 1s 14ms/step - loss: 0.0145\n",
            "Epoch 85/100\n",
            "105/105 [==============================] - 1s 14ms/step - loss: 0.0134\n",
            "Epoch 86/100\n",
            "105/105 [==============================] - 2s 15ms/step - loss: 0.0135\n",
            "Epoch 87/100\n",
            "105/105 [==============================] - 1s 14ms/step - loss: 0.0131\n",
            "Epoch 88/100\n",
            "105/105 [==============================] - 2s 15ms/step - loss: 0.0128\n",
            "Epoch 89/100\n",
            "105/105 [==============================] - 2s 14ms/step - loss: 0.0128\n",
            "Epoch 90/100\n",
            "105/105 [==============================] - 1s 14ms/step - loss: 0.0143\n",
            "Epoch 91/100\n",
            "105/105 [==============================] - 2s 15ms/step - loss: 0.0139\n",
            "Epoch 92/100\n",
            "105/105 [==============================] - 1s 14ms/step - loss: 0.0128\n",
            "Epoch 93/100\n",
            "105/105 [==============================] - 1s 14ms/step - loss: 0.0121\n",
            "Epoch 94/100\n",
            "105/105 [==============================] - 2s 14ms/step - loss: 0.0157\n",
            "Epoch 95/100\n",
            "105/105 [==============================] - 2s 15ms/step - loss: 0.0128\n",
            "Epoch 96/100\n",
            "105/105 [==============================] - 2s 16ms/step - loss: 0.0111\n",
            "Epoch 97/100\n",
            "105/105 [==============================] - 2s 16ms/step - loss: 0.0142\n",
            "Epoch 98/100\n",
            "105/105 [==============================] - 2s 15ms/step - loss: 0.0116\n",
            "Epoch 99/100\n",
            "105/105 [==============================] - 2s 15ms/step - loss: 0.0121\n",
            "Epoch 100/100\n",
            "105/105 [==============================] - 2s 15ms/step - loss: 0.0111\n"
          ],
          "name": "stdout"
        },
        {
          "output_type": "execute_result",
          "data": {
            "text/plain": [
              "<tensorflow.python.keras.callbacks.History at 0x7f6350132590>"
            ]
          },
          "metadata": {
            "tags": []
          },
          "execution_count": 70
        }
      ]
    },
    {
      "cell_type": "code",
      "metadata": {
        "id": "tVHETNuNOFOt"
      },
      "source": [
        "x_test=testset"
      ],
      "execution_count": 71,
      "outputs": []
    },
    {
      "cell_type": "code",
      "metadata": {
        "id": "yY-CI_p4P-q7"
      },
      "source": [
        ""
      ],
      "execution_count": 71,
      "outputs": []
    },
    {
      "cell_type": "code",
      "metadata": {
        "trusted": true,
        "_uuid": "b244d0115671f29d46d2cb290f92e6a0fe38bc1d",
        "id": "r4W7Jt2C2Xkn",
        "colab": {
          "base_uri": "https://localhost:8080/"
        },
        "outputId": "89795bf6-0e23-4442-8f19-4fe7ce27402a"
      },
      "source": [
        "x_test = np.reshape(x_test, (x_test.shape[0],x_test.shape[1],1))\n",
        "x_test.shape"
      ],
      "execution_count": 72,
      "outputs": [
        {
          "output_type": "execute_result",
          "data": {
            "text/plain": [
              "(3331, 5, 1)"
            ]
          },
          "metadata": {
            "tags": []
          },
          "execution_count": 72
        }
      ]
    },
    {
      "cell_type": "code",
      "metadata": {
        "trusted": true,
        "_uuid": "24730042bdad3a140e033a78ae9b170304f8cefb",
        "id": "tg-OcXpx2Xkv"
      },
      "source": [
        "predicted_price = regressor.predict(x_test)"
      ],
      "execution_count": 73,
      "outputs": []
    },
    {
      "cell_type": "code",
      "metadata": {
        "trusted": true,
        "_uuid": "4b06462fa06e7399373d8a552cd159176fbeef33",
        "id": "JXW94LK82Xky",
        "colab": {
          "base_uri": "https://localhost:8080/"
        },
        "outputId": "2ea52b0c-d936-4c6e-f64f-4b0f578d59ab"
      },
      "source": [
        "predicted_price #on16aug"
      ],
      "execution_count": 75,
      "outputs": [
        {
          "output_type": "execute_result",
          "data": {
            "text/plain": [
              "array([[0.88030165],\n",
              "       [1.0304058 ],\n",
              "       [1.2077489 ],\n",
              "       ...,\n",
              "       [0.5586066 ],\n",
              "       [0.8553411 ],\n",
              "       [0.7309586 ]], dtype=float32)"
            ]
          },
          "metadata": {
            "tags": []
          },
          "execution_count": 75
        }
      ]
    },
    {
      "cell_type": "code",
      "metadata": {
        "id": "IlkzDhBW7R1Z",
        "colab": {
          "base_uri": "https://localhost:8080/"
        },
        "outputId": "982c0acb-5adf-4024-9598-9d2fe808009a"
      },
      "source": [
        "predicted_price.shape"
      ],
      "execution_count": 85,
      "outputs": [
        {
          "output_type": "execute_result",
          "data": {
            "text/plain": [
              "(3331, 1)"
            ]
          },
          "metadata": {
            "tags": []
          },
          "execution_count": 85
        }
      ]
    },
    {
      "cell_type": "code",
      "metadata": {
        "id": "vYhUOpr4R9Up"
      },
      "source": [
        "f= open(\"/content/submission.txt\",\"w+\")"
      ],
      "execution_count": 86,
      "outputs": []
    },
    {
      "cell_type": "code",
      "metadata": {
        "id": "5p1iFY8PS5nj"
      },
      "source": [
        "for i in range(len(predicted_price)):\r\n",
        "  string=str(predicted_price[i])\r\n",
        "  f.write((string))"
      ],
      "execution_count": 87,
      "outputs": []
    },
    {
      "cell_type": "code",
      "metadata": {
        "id": "dk1Nyx5_TU-P"
      },
      "source": [
        ""
      ],
      "execution_count": null,
      "outputs": []
    }
  ]
}