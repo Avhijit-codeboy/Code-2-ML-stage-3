{
 "cells": [
  {
   "cell_type": "markdown",
   "id": "monetary-casino",
   "metadata": {},
   "source": [
    "# Predicting Stock Prices using Machine Learning 📈\n",
    "This notebook will introduce some foundation machine learning and data science concepts by exploring the problem of regression.\n",
    "It is intended to be an end-to-end example of what a data science and machine learning proof of concept might look like."
   ]
  },
  {
   "cell_type": "markdown",
   "id": "muslim-substitute",
   "metadata": {},
   "source": [
    "Since we already have a dataset, we'll approach the problem with the following machine learning modelling framework.\n",
    "More specifically, we'll look at the following topics.\n",
    "\n",
    "* **Exploratory data analysis (EDA)** - the process of going through a dataset and finding out more about it.\n",
    "* **Model training** - create model(s) to learn to predict a target variable based on other variables.\n",
    "* **Model evaluation** - evaluating a models predictions using problem-specific evaluation metrics. \n",
    "* **Model comparison** - comparing several different models to find the best one.\n",
    "* **Cross-validation** - if we do build a good model, can we be sure it will work on unseen data?\n",
    "* **Predicting the Test Data** - We now finally, predict the target using out trained model and the test data."
   ]
  },
  {
   "cell_type": "markdown",
   "id": "renewable-application",
   "metadata": {},
   "source": [
    "## 1. Importing required packages"
   ]
  },
  {
   "cell_type": "code",
   "execution_count": 188,
   "id": "blessed-excess",
   "metadata": {},
   "outputs": [],
   "source": [
    "# Regular EDA and plotting libraries\n",
    "import numpy as np \n",
    "import pandas as pd\n",
    "import matplotlib.pyplot as plt\n",
    "from yellowbrick.regressor import PredictionError\n",
    "\n",
    "#To get rid of warnings\n",
    "import warnings\n",
    "warnings.filterwarnings(\"ignore\")\n",
    "\n",
    "# We want our plots to appear in the notebook\n",
    "%matplotlib inline\n",
    "\n",
    "## Models\n",
    "from sklearn import linear_model\n",
    "from sklearn.linear_model import LinearRegression\n",
    "from sklearn.ensemble import RandomForestRegressor\n",
    "\n",
    "## Model evaluators\n",
    "from sklearn.model_selection import train_test_split, cross_val_score\n",
    "from sklearn.preprocessing import LabelEncoder\n",
    "from sklearn.metrics import r2_score, mean_absolute_error, mean_squared_error"
   ]
  },
  {
   "cell_type": "markdown",
   "id": "proud-label",
   "metadata": {},
   "source": [
    "## 2. Data Exploration\n",
    "\n",
    "Data can be found in `Data/` Folder. \n",
    "The ones we are going to use:\n",
    "* `Train_dataset_ - Train_Aug10.csv`\n",
    "\n",
    "\n",
    "Once we have imported our data, we are going to explore and get to know about the different Attributes and their patterns with the data.\n",
    "\n",
    "Data Exploration is one of most important tasks in Machine Learning."
   ]
  },
  {
   "cell_type": "code",
   "execution_count": 189,
   "id": "endless-diploma",
   "metadata": {
    "scrolled": false
   },
   "outputs": [
    {
     "data": {
      "text/html": [
       "<div>\n",
       "<style scoped>\n",
       "    .dataframe tbody tr th:only-of-type {\n",
       "        vertical-align: middle;\n",
       "    }\n",
       "\n",
       "    .dataframe tbody tr th {\n",
       "        vertical-align: top;\n",
       "    }\n",
       "\n",
       "    .dataframe thead th {\n",
       "        text-align: right;\n",
       "    }\n",
       "</style>\n",
       "<table border=\"1\" class=\"dataframe\">\n",
       "  <thead>\n",
       "    <tr style=\"text-align: right;\">\n",
       "      <th></th>\n",
       "      <th>Stock Index</th>\n",
       "      <th>Index</th>\n",
       "      <th>Industry</th>\n",
       "      <th>VWAP</th>\n",
       "      <th>General Index</th>\n",
       "      <th>NAV</th>\n",
       "      <th>P/E Ratio</th>\n",
       "      <th>Volumes Traded</th>\n",
       "      <th>Inventory Turnover</th>\n",
       "      <th>Covid Impact (Beta)</th>\n",
       "      <th>Tracking Error</th>\n",
       "      <th>Dollar Exchange Rate</th>\n",
       "      <th>Put-Call Ratio</th>\n",
       "      <th>P/B Ratio</th>\n",
       "      <th>Stock Price</th>\n",
       "    </tr>\n",
       "  </thead>\n",
       "  <tbody>\n",
       "    <tr>\n",
       "      <th>0</th>\n",
       "      <td>AA1</td>\n",
       "      <td>NYSE</td>\n",
       "      <td>Real Estate</td>\n",
       "      <td>700.29</td>\n",
       "      <td>12765.84</td>\n",
       "      <td>32.38</td>\n",
       "      <td>45.35</td>\n",
       "      <td>1208599.0</td>\n",
       "      <td>5.05</td>\n",
       "      <td>-0.43</td>\n",
       "      <td>0.0520</td>\n",
       "      <td>1.0</td>\n",
       "      <td>0.61</td>\n",
       "      <td>9.20</td>\n",
       "      <td>156.987852</td>\n",
       "    </tr>\n",
       "    <tr>\n",
       "      <th>1</th>\n",
       "      <td>AA2</td>\n",
       "      <td>NYSE</td>\n",
       "      <td>Information Tech</td>\n",
       "      <td>214.52</td>\n",
       "      <td>12765.84</td>\n",
       "      <td>33.25</td>\n",
       "      <td>170.56</td>\n",
       "      <td>13753356.0</td>\n",
       "      <td>3.10</td>\n",
       "      <td>0.23</td>\n",
       "      <td>0.0164</td>\n",
       "      <td>1.0</td>\n",
       "      <td>NaN</td>\n",
       "      <td>6.91</td>\n",
       "      <td>560.859622</td>\n",
       "    </tr>\n",
       "    <tr>\n",
       "      <th>2</th>\n",
       "      <td>AA3</td>\n",
       "      <td>NYSE</td>\n",
       "      <td>Information Tech</td>\n",
       "      <td>943.42</td>\n",
       "      <td>12765.84</td>\n",
       "      <td>88.27</td>\n",
       "      <td>143.58</td>\n",
       "      <td>6892003.0</td>\n",
       "      <td>7.70</td>\n",
       "      <td>0.23</td>\n",
       "      <td>0.0396</td>\n",
       "      <td>1.0</td>\n",
       "      <td>NaN</td>\n",
       "      <td>6.09</td>\n",
       "      <td>1279.732874</td>\n",
       "    </tr>\n",
       "    <tr>\n",
       "      <th>3</th>\n",
       "      <td>AA4</td>\n",
       "      <td>BSE</td>\n",
       "      <td>Materials</td>\n",
       "      <td>828.13</td>\n",
       "      <td>38182.08</td>\n",
       "      <td>73.66</td>\n",
       "      <td>151.76</td>\n",
       "      <td>8316793.0</td>\n",
       "      <td>4.80</td>\n",
       "      <td>0.03</td>\n",
       "      <td>0.0431</td>\n",
       "      <td>74.9</td>\n",
       "      <td>1.11</td>\n",
       "      <td>5.60</td>\n",
       "      <td>1121.787632</td>\n",
       "    </tr>\n",
       "    <tr>\n",
       "      <th>4</th>\n",
       "      <td>AA5</td>\n",
       "      <td>S&amp;P 500</td>\n",
       "      <td>Real Estate</td>\n",
       "      <td>NaN</td>\n",
       "      <td>3351.28</td>\n",
       "      <td>23.79</td>\n",
       "      <td>NaN</td>\n",
       "      <td>3943312.0</td>\n",
       "      <td>8.06</td>\n",
       "      <td>-0.43</td>\n",
       "      <td>0.0244</td>\n",
       "      <td>1.0</td>\n",
       "      <td>1.07</td>\n",
       "      <td>9.46</td>\n",
       "      <td>382.962534</td>\n",
       "    </tr>\n",
       "  </tbody>\n",
       "</table>\n",
       "</div>"
      ],
      "text/plain": [
       "  Stock Index    Index          Industry    VWAP  General Index    NAV  \\\n",
       "0         AA1     NYSE       Real Estate  700.29       12765.84  32.38   \n",
       "1         AA2     NYSE  Information Tech  214.52       12765.84  33.25   \n",
       "2         AA3     NYSE  Information Tech  943.42       12765.84  88.27   \n",
       "3         AA4      BSE         Materials  828.13       38182.08  73.66   \n",
       "4         AA5  S&P 500       Real Estate     NaN        3351.28  23.79   \n",
       "\n",
       "   P/E Ratio  Volumes Traded  Inventory Turnover  Covid Impact (Beta)  \\\n",
       "0      45.35       1208599.0                5.05                -0.43   \n",
       "1     170.56      13753356.0                3.10                 0.23   \n",
       "2     143.58       6892003.0                7.70                 0.23   \n",
       "3     151.76       8316793.0                4.80                 0.03   \n",
       "4        NaN       3943312.0                8.06                -0.43   \n",
       "\n",
       "   Tracking Error  Dollar Exchange Rate  Put-Call Ratio  P/B Ratio  \\\n",
       "0          0.0520                   1.0            0.61       9.20   \n",
       "1          0.0164                   1.0             NaN       6.91   \n",
       "2          0.0396                   1.0             NaN       6.09   \n",
       "3          0.0431                  74.9            1.11       5.60   \n",
       "4          0.0244                   1.0            1.07       9.46   \n",
       "\n",
       "   Stock Price  \n",
       "0   156.987852  \n",
       "1   560.859622  \n",
       "2  1279.732874  \n",
       "3  1121.787632  \n",
       "4   382.962534  "
      ]
     },
     "execution_count": 189,
     "metadata": {},
     "output_type": "execute_result"
    }
   ],
   "source": [
    "train_data = pd.read_csv(\"data/Train_dataset_ - Train_Aug10.csv\")\n",
    "train_data.head()"
   ]
  },
  {
   "cell_type": "code",
   "execution_count": 190,
   "id": "optical-abortion",
   "metadata": {},
   "outputs": [
    {
     "name": "stdout",
     "output_type": "stream",
     "text": [
      "<class 'pandas.core.frame.DataFrame'>\n",
      "RangeIndex: 7383 entries, 0 to 7382\n",
      "Data columns (total 15 columns):\n",
      " #   Column                Non-Null Count  Dtype  \n",
      "---  ------                --------------  -----  \n",
      " 0   Stock Index           7383 non-null   object \n",
      " 1   Index                 7383 non-null   object \n",
      " 2   Industry              7383 non-null   object \n",
      " 3   VWAP                  7345 non-null   float64\n",
      " 4   General Index         7321 non-null   float64\n",
      " 5   NAV                   7322 non-null   float64\n",
      " 6   P/E Ratio             7149 non-null   float64\n",
      " 7   Volumes Traded        7115 non-null   float64\n",
      " 8   Inventory Turnover    6984 non-null   float64\n",
      " 9   Covid Impact (Beta)   7007 non-null   float64\n",
      " 10  Tracking Error        7312 non-null   float64\n",
      " 11  Dollar Exchange Rate  7306 non-null   float64\n",
      " 12  Put-Call Ratio        7298 non-null   float64\n",
      " 13  P/B Ratio             7358 non-null   float64\n",
      " 14  Stock Price           7383 non-null   float64\n",
      "dtypes: float64(12), object(3)\n",
      "memory usage: 865.3+ KB\n"
     ]
    }
   ],
   "source": [
    "train_data.info() #Gives Insight about different Attributes"
   ]
  },
  {
   "cell_type": "markdown",
   "id": "disabled-powell",
   "metadata": {},
   "source": [
    "### 2.A Filling Missing Values"
   ]
  },
  {
   "cell_type": "code",
   "execution_count": 191,
   "id": "danish-costa",
   "metadata": {
    "scrolled": true
   },
   "outputs": [
    {
     "data": {
      "text/plain": [
       "Stock Index               0\n",
       "Index                     0\n",
       "Industry                  0\n",
       "VWAP                     38\n",
       "General Index            62\n",
       "NAV                      61\n",
       "P/E Ratio               234\n",
       "Volumes Traded          268\n",
       "Inventory Turnover      399\n",
       "Covid Impact (Beta)     376\n",
       "Tracking Error           71\n",
       "Dollar Exchange Rate     77\n",
       "Put-Call Ratio           85\n",
       "P/B Ratio                25\n",
       "Stock Price               0\n",
       "dtype: int64"
      ]
     },
     "execution_count": 191,
     "metadata": {},
     "output_type": "execute_result"
    }
   ],
   "source": [
    "train_data.isna().sum() #Gives the number of missing values in each column"
   ]
  },
  {
   "cell_type": "markdown",
   "id": "sexual-impact",
   "metadata": {},
   "source": [
    "By exploring the data we can observe that there are patterns between a few columns. These patterns could be used to our advantage to fill the missing values."
   ]
  },
  {
   "cell_type": "code",
   "execution_count": 192,
   "id": "silver-durham",
   "metadata": {},
   "outputs": [
    {
     "data": {
      "text/html": [
       "<div>\n",
       "<style scoped>\n",
       "    .dataframe tbody tr th:only-of-type {\n",
       "        vertical-align: middle;\n",
       "    }\n",
       "\n",
       "    .dataframe tbody tr th {\n",
       "        vertical-align: top;\n",
       "    }\n",
       "\n",
       "    .dataframe thead th {\n",
       "        text-align: right;\n",
       "    }\n",
       "</style>\n",
       "<table border=\"1\" class=\"dataframe\">\n",
       "  <thead>\n",
       "    <tr style=\"text-align: right;\">\n",
       "      <th>Dollar Exchange Rate</th>\n",
       "      <th>1.0</th>\n",
       "      <th>17.7</th>\n",
       "      <th>74.9</th>\n",
       "    </tr>\n",
       "    <tr>\n",
       "      <th>Index</th>\n",
       "      <th></th>\n",
       "      <th></th>\n",
       "      <th></th>\n",
       "    </tr>\n",
       "  </thead>\n",
       "  <tbody>\n",
       "    <tr>\n",
       "      <th>BSE</th>\n",
       "      <td>0</td>\n",
       "      <td>0</td>\n",
       "      <td>1447</td>\n",
       "    </tr>\n",
       "    <tr>\n",
       "      <th>JSE</th>\n",
       "      <td>0</td>\n",
       "      <td>1463</td>\n",
       "      <td>0</td>\n",
       "    </tr>\n",
       "    <tr>\n",
       "      <th>NSE</th>\n",
       "      <td>0</td>\n",
       "      <td>0</td>\n",
       "      <td>1484</td>\n",
       "    </tr>\n",
       "    <tr>\n",
       "      <th>NYSE</th>\n",
       "      <td>1454</td>\n",
       "      <td>0</td>\n",
       "      <td>0</td>\n",
       "    </tr>\n",
       "    <tr>\n",
       "      <th>S&amp;P 500</th>\n",
       "      <td>1458</td>\n",
       "      <td>0</td>\n",
       "      <td>0</td>\n",
       "    </tr>\n",
       "  </tbody>\n",
       "</table>\n",
       "</div>"
      ],
      "text/plain": [
       "Dollar Exchange Rate  1.0   17.7  74.9\n",
       "Index                                 \n",
       "BSE                      0     0  1447\n",
       "JSE                      0  1463     0\n",
       "NSE                      0     0  1484\n",
       "NYSE                  1454     0     0\n",
       "S&P 500               1458     0     0"
      ]
     },
     "execution_count": 192,
     "metadata": {},
     "output_type": "execute_result"
    }
   ],
   "source": [
    "pd.crosstab(train_data['Index'],train_data['Dollar Exchange Rate'])"
   ]
  },
  {
   "cell_type": "markdown",
   "id": "expensive-richmond",
   "metadata": {},
   "source": [
    "**Pattern 1 : Index vs. Dollar Exchange Rate**\n",
    "The Dollar Exchange Rate values are depended on the Index Column.\n",
    "The Dollar Exchange Rates for the following Indexes are :\n",
    "\n",
    "*  **NSE**  : 74.9\n",
    "*  **NYSE** : 1.0\n",
    "*  **BSE**  : 74.9\n",
    "*  **JSE**  : 17.7\n",
    "*  **S&P 500**  : 1.0"
   ]
  },
  {
   "cell_type": "code",
   "execution_count": 193,
   "id": "failing-sitting",
   "metadata": {},
   "outputs": [],
   "source": [
    "train_data.loc[train_data[\"Index\"]==\"NSE\", [\"Dollar Exchange Rate\"]] = 74.9\n",
    "train_data.loc[train_data[\"Index\"]==\"NYSE\", [\"Dollar Exchange Rate\"]] = 1.0\n",
    "train_data.loc[train_data[\"Index\"]==\"BSE\", [\"Dollar Exchange Rate\"]] = 74.9\n",
    "train_data.loc[train_data[\"Index\"]==\"JSE\", [\"Dollar Exchange Rate\"]] = 17.7\n",
    "train_data.loc[train_data[\"Index\"]==\"S&P 500\", [\"Dollar Exchange Rate\"]] = 1.0"
   ]
  },
  {
   "cell_type": "markdown",
   "id": "ready-extension",
   "metadata": {},
   "source": [
    "**Pattern 2 : Industry vs. Covid Impact (Beta)**\n",
    "The Covid Impact (Beta) values are depended on the Industru Column.\n",
    "The Covid Impact (Beta) for the following Indexes are :\n",
    "\n",
    "*  **Real Estate**  : -0.43\n",
    "*  **Energy** : 0.11\n",
    "*  **Healthcare**  : 0.78\n",
    "*  **Materials**  : 0.03\n",
    "*  **Information Tech**  : 0.23"
   ]
  },
  {
   "cell_type": "code",
   "execution_count": 194,
   "id": "sunset-honey",
   "metadata": {},
   "outputs": [
    {
     "data": {
      "text/html": [
       "<div>\n",
       "<style scoped>\n",
       "    .dataframe tbody tr th:only-of-type {\n",
       "        vertical-align: middle;\n",
       "    }\n",
       "\n",
       "    .dataframe tbody tr th {\n",
       "        vertical-align: top;\n",
       "    }\n",
       "\n",
       "    .dataframe thead th {\n",
       "        text-align: right;\n",
       "    }\n",
       "</style>\n",
       "<table border=\"1\" class=\"dataframe\">\n",
       "  <thead>\n",
       "    <tr style=\"text-align: right;\">\n",
       "      <th>Covid Impact (Beta)</th>\n",
       "      <th>-0.43</th>\n",
       "      <th>0.03</th>\n",
       "      <th>0.11</th>\n",
       "      <th>0.23</th>\n",
       "      <th>0.78</th>\n",
       "    </tr>\n",
       "    <tr>\n",
       "      <th>Industry</th>\n",
       "      <th></th>\n",
       "      <th></th>\n",
       "      <th></th>\n",
       "      <th></th>\n",
       "      <th></th>\n",
       "    </tr>\n",
       "  </thead>\n",
       "  <tbody>\n",
       "    <tr>\n",
       "      <th>Energy</th>\n",
       "      <td>0</td>\n",
       "      <td>0</td>\n",
       "      <td>1431</td>\n",
       "      <td>0</td>\n",
       "      <td>0</td>\n",
       "    </tr>\n",
       "    <tr>\n",
       "      <th>Healthcare</th>\n",
       "      <td>0</td>\n",
       "      <td>0</td>\n",
       "      <td>0</td>\n",
       "      <td>0</td>\n",
       "      <td>1359</td>\n",
       "    </tr>\n",
       "    <tr>\n",
       "      <th>Information Tech</th>\n",
       "      <td>0</td>\n",
       "      <td>0</td>\n",
       "      <td>0</td>\n",
       "      <td>1389</td>\n",
       "      <td>0</td>\n",
       "    </tr>\n",
       "    <tr>\n",
       "      <th>Materials</th>\n",
       "      <td>0</td>\n",
       "      <td>1445</td>\n",
       "      <td>0</td>\n",
       "      <td>0</td>\n",
       "      <td>0</td>\n",
       "    </tr>\n",
       "    <tr>\n",
       "      <th>Real Estate</th>\n",
       "      <td>1383</td>\n",
       "      <td>0</td>\n",
       "      <td>0</td>\n",
       "      <td>0</td>\n",
       "      <td>0</td>\n",
       "    </tr>\n",
       "  </tbody>\n",
       "</table>\n",
       "</div>"
      ],
      "text/plain": [
       "Covid Impact (Beta)  -0.43   0.03   0.11   0.23   0.78\n",
       "Industry                                              \n",
       "Energy                   0      0   1431      0      0\n",
       "Healthcare               0      0      0      0   1359\n",
       "Information Tech         0      0      0   1389      0\n",
       "Materials                0   1445      0      0      0\n",
       "Real Estate           1383      0      0      0      0"
      ]
     },
     "execution_count": 194,
     "metadata": {},
     "output_type": "execute_result"
    }
   ],
   "source": [
    "pd.crosstab(train_data['Industry'],train_data['Covid Impact (Beta)'])"
   ]
  },
  {
   "cell_type": "code",
   "execution_count": 195,
   "id": "congressional-matrix",
   "metadata": {},
   "outputs": [],
   "source": [
    "train_data.loc[train_data[\"Industry\"]==\"Real Estate\", [\"Covid Impact (Beta)\"]] = -0.43\n",
    "train_data.loc[train_data[\"Industry\"]==\"Energy\", [\"Covid Impact (Beta)\"]] = 0.11\n",
    "train_data.loc[train_data[\"Industry\"]==\"Healthcare\", [\"Covid Impact (Beta)\"]] = 0.78\n",
    "train_data.loc[train_data[\"Industry\"]==\"Materials\", [\"Covid Impact (Beta)\"]] = 0.03\n",
    "train_data.loc[train_data[\"Industry\"]==\"Information Tech\", [\"Covid Impact (Beta)\"]] = 0.23"
   ]
  },
  {
   "cell_type": "markdown",
   "id": "bacterial-personality",
   "metadata": {},
   "source": [
    "**Pattern 3 : Index vs. General Index**\n",
    "The General Index values are depended on the Index Column.\n",
    "The General Indexs for the following Indexes are :\n",
    "\n",
    "*  **NSE**      : 11270.15\n",
    "*  **NYSE**     : 12765.84\n",
    "*  **BSE**      : 38182.02\n",
    "*  **JSE**      : 55722.00\n",
    "*  **S&P 500**  : 3351.28"
   ]
  },
  {
   "cell_type": "code",
   "execution_count": 196,
   "id": "respiratory-canberra",
   "metadata": {},
   "outputs": [
    {
     "data": {
      "text/html": [
       "<div>\n",
       "<style scoped>\n",
       "    .dataframe tbody tr th:only-of-type {\n",
       "        vertical-align: middle;\n",
       "    }\n",
       "\n",
       "    .dataframe tbody tr th {\n",
       "        vertical-align: top;\n",
       "    }\n",
       "\n",
       "    .dataframe thead th {\n",
       "        text-align: right;\n",
       "    }\n",
       "</style>\n",
       "<table border=\"1\" class=\"dataframe\">\n",
       "  <thead>\n",
       "    <tr style=\"text-align: right;\">\n",
       "      <th>General Index</th>\n",
       "      <th>3351.28</th>\n",
       "      <th>11270.15</th>\n",
       "      <th>12765.84</th>\n",
       "      <th>38182.08</th>\n",
       "      <th>55722.00</th>\n",
       "    </tr>\n",
       "    <tr>\n",
       "      <th>Index</th>\n",
       "      <th></th>\n",
       "      <th></th>\n",
       "      <th></th>\n",
       "      <th></th>\n",
       "      <th></th>\n",
       "    </tr>\n",
       "  </thead>\n",
       "  <tbody>\n",
       "    <tr>\n",
       "      <th>BSE</th>\n",
       "      <td>0</td>\n",
       "      <td>0</td>\n",
       "      <td>0</td>\n",
       "      <td>1453</td>\n",
       "      <td>0</td>\n",
       "    </tr>\n",
       "    <tr>\n",
       "      <th>JSE</th>\n",
       "      <td>0</td>\n",
       "      <td>0</td>\n",
       "      <td>0</td>\n",
       "      <td>0</td>\n",
       "      <td>1464</td>\n",
       "    </tr>\n",
       "    <tr>\n",
       "      <th>NSE</th>\n",
       "      <td>0</td>\n",
       "      <td>1485</td>\n",
       "      <td>0</td>\n",
       "      <td>0</td>\n",
       "      <td>0</td>\n",
       "    </tr>\n",
       "    <tr>\n",
       "      <th>NYSE</th>\n",
       "      <td>0</td>\n",
       "      <td>0</td>\n",
       "      <td>1458</td>\n",
       "      <td>0</td>\n",
       "      <td>0</td>\n",
       "    </tr>\n",
       "    <tr>\n",
       "      <th>S&amp;P 500</th>\n",
       "      <td>1461</td>\n",
       "      <td>0</td>\n",
       "      <td>0</td>\n",
       "      <td>0</td>\n",
       "      <td>0</td>\n",
       "    </tr>\n",
       "  </tbody>\n",
       "</table>\n",
       "</div>"
      ],
      "text/plain": [
       "General Index  3351.28   11270.15  12765.84  38182.08  55722.00\n",
       "Index                                                          \n",
       "BSE                   0         0         0      1453         0\n",
       "JSE                   0         0         0         0      1464\n",
       "NSE                   0      1485         0         0         0\n",
       "NYSE                  0         0      1458         0         0\n",
       "S&P 500            1461         0         0         0         0"
      ]
     },
     "execution_count": 196,
     "metadata": {},
     "output_type": "execute_result"
    }
   ],
   "source": [
    "pd.crosstab(train_data['Index'],train_data['General Index'])"
   ]
  },
  {
   "cell_type": "code",
   "execution_count": 197,
   "id": "operational-missouri",
   "metadata": {},
   "outputs": [],
   "source": [
    "train_data.loc[train_data[\"Index\"]==\"NSE\", [\"General Index\"]] = 11270.15\n",
    "train_data.loc[train_data[\"Index\"]==\"NYSE\", [\"General Index\"]] = 12765.84\n",
    "train_data.loc[train_data[\"Index\"]==\"BSE\", [\"General Index\"]] = 38182.08\n",
    "train_data.loc[train_data[\"Index\"]==\"JSE\", [\"General Index\"]] = 55722.00\n",
    "train_data.loc[train_data[\"Index\"]==\"S&P 500\", [\"General Index\"]] = 3351.28"
   ]
  },
  {
   "cell_type": "markdown",
   "id": "guided-sussex",
   "metadata": {},
   "source": [
    "Few colums like `Volumes Traded`, `P/E Ratio` and etc have high missing data. So below code will fill those missing values with the mean of the columns."
   ]
  },
  {
   "cell_type": "code",
   "execution_count": 198,
   "id": "blessed-destiny",
   "metadata": {},
   "outputs": [],
   "source": [
    "train_data[\"Volumes Traded\"].fillna(train_data[\"Volumes Traded\"].mean(),inplace = True)\n",
    "train_data[\"P/E Ratio\"].fillna(train_data[\"P/E Ratio\"].mean(),inplace = True)\n",
    "train_data[\"Inventory Turnover\"].fillna(train_data[\"Inventory Turnover\"].mean(),inplace = True)\n",
    "train_data[\"Tracking Error\"].fillna(train_data[\"Tracking Error\"].mean(),inplace = True)\n",
    "train_data[\"Put-Call Ratio\"].fillna(train_data[\"Put-Call Ratio\"].mean(),inplace = True)"
   ]
  },
  {
   "cell_type": "markdown",
   "id": "disabled-router",
   "metadata": {},
   "source": [
    "Dropping the reamaing missing data as its not a big number "
   ]
  },
  {
   "cell_type": "code",
   "execution_count": 199,
   "id": "dutch-cameroon",
   "metadata": {},
   "outputs": [],
   "source": [
    "train_data.dropna(inplace=True)"
   ]
  },
  {
   "cell_type": "code",
   "execution_count": 200,
   "id": "incorporated-bread",
   "metadata": {
    "scrolled": false
   },
   "outputs": [
    {
     "data": {
      "text/plain": [
       "Stock Index             0\n",
       "Index                   0\n",
       "Industry                0\n",
       "VWAP                    0\n",
       "General Index           0\n",
       "NAV                     0\n",
       "P/E Ratio               0\n",
       "Volumes Traded          0\n",
       "Inventory Turnover      0\n",
       "Covid Impact (Beta)     0\n",
       "Tracking Error          0\n",
       "Dollar Exchange Rate    0\n",
       "Put-Call Ratio          0\n",
       "P/B Ratio               0\n",
       "Stock Price             0\n",
       "dtype: int64"
      ]
     },
     "execution_count": 200,
     "metadata": {},
     "output_type": "execute_result"
    }
   ],
   "source": [
    "train_data.isna().sum() #Finally all the Missing Data is handled"
   ]
  },
  {
   "cell_type": "code",
   "execution_count": 201,
   "id": "opposed-surname",
   "metadata": {},
   "outputs": [
    {
     "data": {
      "text/plain": [
       "7285"
      ]
     },
     "execution_count": 201,
     "metadata": {},
     "output_type": "execute_result"
    }
   ],
   "source": [
    "len(train_data) #Length of the Data is 7285"
   ]
  },
  {
   "cell_type": "markdown",
   "id": "amateur-jason",
   "metadata": {},
   "source": [
    "### 2.B Spliting the Data\n",
    "The Data should be splitted into **train** and **test** .\n",
    "\n",
    "* **Train** Data is used to train the model.\n",
    "\n",
    "* **Test** Data is used to evaluate the model.\n",
    "\n",
    "Note : This Test data is only used to check the validity of the model. There is another Test data which will be finally used to predict the Stock Prices\n",
    "\n",
    "### Label Encoding the Data\n",
    "Before splitting the Data there is a important task to be done : **Label Encoding**\n",
    "\n",
    "**Label Encoding** refers to converting the labels into numeric form so as to convert it into the machine-readable form."
   ]
  },
  {
   "cell_type": "code",
   "execution_count": 202,
   "id": "resident-framing",
   "metadata": {},
   "outputs": [],
   "source": [
    "le =LabelEncoder()\n",
    "\n",
    "label = le.fit_transform(train_data[\"Industry\"])  #Label encoded the Industry column\n",
    "label1 = le.fit_transform(train_data[\"Index\"])    #Label encoded the Index column"
   ]
  },
  {
   "cell_type": "code",
   "execution_count": 203,
   "id": "typical-priest",
   "metadata": {},
   "outputs": [],
   "source": [
    "train_data.drop(\"Industry\",axis=1,inplace=True)\n",
    "train_data[\"Industry\"] = label\n",
    "#Dropped the Previous column and added new encoded column for Industry.\n",
    "\n",
    "train_data.drop(\"Index\",axis=1,inplace=True)\n",
    "train_data[\"Index\"] = label1\n",
    "#Dropped the Previous column and added new encoded column for Index.\n",
    "\n",
    "train_data.drop(\"Stock Index\", axis=1, inplace=True)\n",
    "#The Stock Index is dropped because its just index and not used to predict anything."
   ]
  },
  {
   "cell_type": "markdown",
   "id": "sticky-brown",
   "metadata": {},
   "source": [
    "#### Splitting the Data into X & Y\n",
    "\n",
    "Y : The Column which need to be Predicted : `Stock Price`\n",
    "\n",
    "X : Remaing Dataset"
   ]
  },
  {
   "cell_type": "code",
   "execution_count": 204,
   "id": "juvenile-disability",
   "metadata": {},
   "outputs": [],
   "source": [
    "X = train_data.drop(\"Stock Price\", axis =1)\n",
    "Y = train_data[\"Stock Price\"]"
   ]
  },
  {
   "cell_type": "code",
   "execution_count": 205,
   "id": "legendary-teddy",
   "metadata": {
    "scrolled": false
   },
   "outputs": [
    {
     "data": {
      "text/html": [
       "<div>\n",
       "<style scoped>\n",
       "    .dataframe tbody tr th:only-of-type {\n",
       "        vertical-align: middle;\n",
       "    }\n",
       "\n",
       "    .dataframe tbody tr th {\n",
       "        vertical-align: top;\n",
       "    }\n",
       "\n",
       "    .dataframe thead th {\n",
       "        text-align: right;\n",
       "    }\n",
       "</style>\n",
       "<table border=\"1\" class=\"dataframe\">\n",
       "  <thead>\n",
       "    <tr style=\"text-align: right;\">\n",
       "      <th></th>\n",
       "      <th>VWAP</th>\n",
       "      <th>General Index</th>\n",
       "      <th>NAV</th>\n",
       "      <th>P/E Ratio</th>\n",
       "      <th>Volumes Traded</th>\n",
       "      <th>Inventory Turnover</th>\n",
       "      <th>Covid Impact (Beta)</th>\n",
       "      <th>Tracking Error</th>\n",
       "      <th>Dollar Exchange Rate</th>\n",
       "      <th>Put-Call Ratio</th>\n",
       "      <th>P/B Ratio</th>\n",
       "      <th>Industry</th>\n",
       "      <th>Index</th>\n",
       "    </tr>\n",
       "  </thead>\n",
       "  <tbody>\n",
       "    <tr>\n",
       "      <th>0</th>\n",
       "      <td>700.29</td>\n",
       "      <td>12765.84</td>\n",
       "      <td>32.38</td>\n",
       "      <td>45.35</td>\n",
       "      <td>1208599.0</td>\n",
       "      <td>5.05</td>\n",
       "      <td>-0.43</td>\n",
       "      <td>0.0520</td>\n",
       "      <td>1.0</td>\n",
       "      <td>0.610000</td>\n",
       "      <td>9.20</td>\n",
       "      <td>4</td>\n",
       "      <td>3</td>\n",
       "    </tr>\n",
       "    <tr>\n",
       "      <th>1</th>\n",
       "      <td>214.52</td>\n",
       "      <td>12765.84</td>\n",
       "      <td>33.25</td>\n",
       "      <td>170.56</td>\n",
       "      <td>13753356.0</td>\n",
       "      <td>3.10</td>\n",
       "      <td>0.23</td>\n",
       "      <td>0.0164</td>\n",
       "      <td>1.0</td>\n",
       "      <td>0.944722</td>\n",
       "      <td>6.91</td>\n",
       "      <td>2</td>\n",
       "      <td>3</td>\n",
       "    </tr>\n",
       "    <tr>\n",
       "      <th>2</th>\n",
       "      <td>943.42</td>\n",
       "      <td>12765.84</td>\n",
       "      <td>88.27</td>\n",
       "      <td>143.58</td>\n",
       "      <td>6892003.0</td>\n",
       "      <td>7.70</td>\n",
       "      <td>0.23</td>\n",
       "      <td>0.0396</td>\n",
       "      <td>1.0</td>\n",
       "      <td>0.944722</td>\n",
       "      <td>6.09</td>\n",
       "      <td>2</td>\n",
       "      <td>3</td>\n",
       "    </tr>\n",
       "    <tr>\n",
       "      <th>3</th>\n",
       "      <td>828.13</td>\n",
       "      <td>38182.08</td>\n",
       "      <td>73.66</td>\n",
       "      <td>151.76</td>\n",
       "      <td>8316793.0</td>\n",
       "      <td>4.80</td>\n",
       "      <td>0.03</td>\n",
       "      <td>0.0431</td>\n",
       "      <td>74.9</td>\n",
       "      <td>1.110000</td>\n",
       "      <td>5.60</td>\n",
       "      <td>3</td>\n",
       "      <td>0</td>\n",
       "    </tr>\n",
       "    <tr>\n",
       "      <th>5</th>\n",
       "      <td>259.61</td>\n",
       "      <td>38182.08</td>\n",
       "      <td>10.63</td>\n",
       "      <td>153.05</td>\n",
       "      <td>19263869.0</td>\n",
       "      <td>8.04</td>\n",
       "      <td>0.03</td>\n",
       "      <td>0.0344</td>\n",
       "      <td>74.9</td>\n",
       "      <td>1.150000</td>\n",
       "      <td>5.51</td>\n",
       "      <td>3</td>\n",
       "      <td>0</td>\n",
       "    </tr>\n",
       "  </tbody>\n",
       "</table>\n",
       "</div>"
      ],
      "text/plain": [
       "     VWAP  General Index    NAV  P/E Ratio  Volumes Traded  \\\n",
       "0  700.29       12765.84  32.38      45.35       1208599.0   \n",
       "1  214.52       12765.84  33.25     170.56      13753356.0   \n",
       "2  943.42       12765.84  88.27     143.58       6892003.0   \n",
       "3  828.13       38182.08  73.66     151.76       8316793.0   \n",
       "5  259.61       38182.08  10.63     153.05      19263869.0   \n",
       "\n",
       "   Inventory Turnover  Covid Impact (Beta)  Tracking Error  \\\n",
       "0                5.05                -0.43          0.0520   \n",
       "1                3.10                 0.23          0.0164   \n",
       "2                7.70                 0.23          0.0396   \n",
       "3                4.80                 0.03          0.0431   \n",
       "5                8.04                 0.03          0.0344   \n",
       "\n",
       "   Dollar Exchange Rate  Put-Call Ratio  P/B Ratio  Industry  Index  \n",
       "0                   1.0        0.610000       9.20         4      3  \n",
       "1                   1.0        0.944722       6.91         2      3  \n",
       "2                   1.0        0.944722       6.09         2      3  \n",
       "3                  74.9        1.110000       5.60         3      0  \n",
       "5                  74.9        1.150000       5.51         3      0  "
      ]
     },
     "execution_count": 205,
     "metadata": {},
     "output_type": "execute_result"
    }
   ],
   "source": [
    "X.head()"
   ]
  },
  {
   "cell_type": "code",
   "execution_count": 206,
   "id": "pediatric-harris",
   "metadata": {},
   "outputs": [],
   "source": [
    "# Spliting the Data into train and test(Validation) Data \n",
    "x_train, x_test, y_train, y_test = train_test_split(X, Y, test_size=0.2)"
   ]
  },
  {
   "cell_type": "code",
   "execution_count": 207,
   "id": "registered-integer",
   "metadata": {},
   "outputs": [
    {
     "data": {
      "text/plain": [
       "((5828, 13), (1457, 13))"
      ]
     },
     "execution_count": 207,
     "metadata": {},
     "output_type": "execute_result"
    }
   ],
   "source": [
    "x_train.shape, x_test.shape"
   ]
  },
  {
   "cell_type": "markdown",
   "id": "apart-colon",
   "metadata": {},
   "source": [
    "## Training Our Model\n",
    "We've explored the data, now we'll try to use machine learning to predict our target variable : **Stock Price**\n",
    "Few best Algorithms for this problem are :\n",
    "* LinearRegressor\n",
    "* RidgeRegressor\n",
    "* RandomForestRegressor\n",
    "\n",
    "All of the algorithms in the Scikit-Learn library use the same functions, for training a model, `model.fit(X_train, y_train)` and for scoring a `model model.score(X_test, y_test). score()` returns the ratio of correct predictions (1.0 = 100% correct)."
   ]
  },
  {
   "cell_type": "code",
   "execution_count": 208,
   "id": "obvious-liberty",
   "metadata": {},
   "outputs": [
    {
     "data": {
      "text/plain": [
       "0.8770835754672721"
      ]
     },
     "execution_count": 208,
     "metadata": {},
     "output_type": "execute_result"
    }
   ],
   "source": [
    "np.random.seed(36) #Seed to make our results re-producable\n",
    "\n",
    "model1 = LinearRegression()\n",
    "model1.fit(x_train,y_train)\n",
    "model1.score(x_test, y_test)"
   ]
  },
  {
   "cell_type": "code",
   "execution_count": 209,
   "id": "optical-mozambique",
   "metadata": {},
   "outputs": [
    {
     "data": {
      "text/plain": [
       "0.8770800310361686"
      ]
     },
     "execution_count": 209,
     "metadata": {},
     "output_type": "execute_result"
    }
   ],
   "source": [
    "np.random.seed(36) #Seed to make our results re-producable\n",
    "\n",
    "model2 = linear_model.Ridge(alpha=20)\n",
    "model2.fit(x_train,y_train)\n",
    "model2.score(x_test, y_test)"
   ]
  },
  {
   "cell_type": "code",
   "execution_count": 210,
   "id": "demanding-tactics",
   "metadata": {},
   "outputs": [
    {
     "data": {
      "text/plain": [
       "0.9829334274115433"
      ]
     },
     "execution_count": 210,
     "metadata": {},
     "output_type": "execute_result"
    }
   ],
   "source": [
    "np.random.seed(42)\n",
    "\n",
    "model3 = RandomForestRegressor()\n",
    "model3.fit(x_train,y_train)\n",
    "model3.score(x_test, y_test)"
   ]
  },
  {
   "cell_type": "markdown",
   "id": "developed-theorem",
   "metadata": {},
   "source": [
    "#### Choosing the Right Estimator (Model)\n",
    "Amoung the three above models **RanbomForestRegressor** gives us the best resuts : 96.6% Accuracy\n",
    "\n",
    "But Accuracy alone cannot determine our decision. There are other parameters that should be checked before determining the best model.\n",
    "\n",
    "## Evaluating & Comparing Models\n",
    "Currently our models are :\n",
    "\n",
    "**model1** : `LinearRegression()`\n",
    "\n",
    "**model2** : `linear_model.Ridge(alpha=20)`\n",
    "\n",
    "**model3** : `RandomForestRegressor()`\n"
   ]
  },
  {
   "cell_type": "code",
   "execution_count": 211,
   "id": "planned-daughter",
   "metadata": {},
   "outputs": [],
   "source": [
    "#Predicting values with our different models\n",
    "y_pred1 = model1.predict(x_test) #Predicted Values by Model1\n",
    "y_pred2 = model2.predict(x_test) #Predicted Values by Model2\n",
    "y_pred3 = model3.predict(x_test) #Predicted Values by Model3"
   ]
  },
  {
   "cell_type": "markdown",
   "id": "swiss-credit",
   "metadata": {},
   "source": [
    "### 1. R2 Score \n",
    "**RandomForest** (model3) performed best among other models."
   ]
  },
  {
   "cell_type": "code",
   "execution_count": 212,
   "id": "removed-brother",
   "metadata": {
    "scrolled": false
   },
   "outputs": [
    {
     "data": {
      "text/plain": [
       "<AxesSubplot:>"
      ]
     },
     "execution_count": 212,
     "metadata": {},
     "output_type": "execute_result"
    },
    {
     "data": {
      "image/png": "[encoded data removed]",
      "text/plain": [
       "<Figure size 432x288 with 1 Axes>"
      ]
     },
     "metadata": {
      "needs_background": "light"
     },
     "output_type": "display_data"
    }
   ],
   "source": [
    "r2_scores = pd.DataFrame(data={\"LinearRegressor\":r2_score(y_test, y_pred1),\n",
    "             \"RidgeRegressor\":r2_score(y_test, y_pred2),\n",
    "             \"RandomForest\":r2_score(y_test, y_pred3)}, index = [\"R2_score\"])\n",
    "r2_scores.T.plot.bar(color='orange')"
   ]
  },
  {
   "cell_type": "markdown",
   "id": "collect-diameter",
   "metadata": {},
   "source": [
    "### 2. Mean Absolute Error\n",
    "**RandomForest** (model3) performed best among other models."
   ]
  },
  {
   "cell_type": "code",
   "execution_count": 213,
   "id": "acoustic-characteristic",
   "metadata": {},
   "outputs": [
    {
     "data": {
      "image/png": "[encoded data removed]",
      "text/plain": [
       "<Figure size 432x288 with 1 Axes>"
      ]
     },
     "metadata": {
      "needs_background": "light"
     },
     "output_type": "display_data"
    }
   ],
   "source": [
    "mae_scores = pd.DataFrame(data={\"LinearRegressor\":mean_absolute_error(y_test, y_pred1),\n",
    "             \"RidgeRegressor\":mean_absolute_error(y_test, y_pred2),\n",
    "             \"RandomForest\":mean_absolute_error(y_test, y_pred3)}, index = [\"Mean Absolute Error\"])\n",
    "mae_scores.T.plot.bar(color='blue');"
   ]
  },
  {
   "cell_type": "markdown",
   "id": "otherwise-husband",
   "metadata": {},
   "source": [
    "### 3. Mean Squared Error\n",
    "**RandomForest** (model3) performed best among other models."
   ]
  },
  {
   "cell_type": "code",
   "execution_count": 214,
   "id": "novel-booking",
   "metadata": {},
   "outputs": [
    {
     "data": {
      "image/png": "[encoded data removed]",
      "text/plain": [
       "<Figure size 432x288 with 1 Axes>"
      ]
     },
     "metadata": {
      "needs_background": "light"
     },
     "output_type": "display_data"
    }
   ],
   "source": [
    "mse_scores = pd.DataFrame(data={\"LinearRegressor\":mean_squared_error(y_test, y_pred1),\n",
    "             \"RidgeRegressor\":mean_squared_error(y_test, y_pred2),\n",
    "             \"RandomForest\":mean_squared_error(y_test, y_pred3)}, index = [\"Mean Squared Error\"])\n",
    "mse_scores.T.plot.bar(color='pink');"
   ]
  },
  {
   "cell_type": "markdown",
   "id": "living-level",
   "metadata": {},
   "source": [
    "Among the three models the `RandomForestRegressor()` clearly dominates so we will be evluating on it further on."
   ]
  },
  {
   "cell_type": "markdown",
   "id": "cordless-welsh",
   "metadata": {},
   "source": [
    "## Evaluating Our Model"
   ]
  },
  {
   "cell_type": "code",
   "execution_count": 215,
   "id": "fitted-carbon",
   "metadata": {},
   "outputs": [],
   "source": [
    "model = model3 #RandomForest\n",
    "y_pred = y_pred3"
   ]
  },
  {
   "cell_type": "markdown",
   "id": "compound-friend",
   "metadata": {},
   "source": [
    "### 1. Evaluating Values Manually\n",
    "The below is a DataFrame containing the predicted and true value."
   ]
  },
  {
   "cell_type": "code",
   "execution_count": 216,
   "id": "accompanied-thesaurus",
   "metadata": {
    "scrolled": false
   },
   "outputs": [
    {
     "data": {
      "text/html": [
       "<div>\n",
       "<style scoped>\n",
       "    .dataframe tbody tr th:only-of-type {\n",
       "        vertical-align: middle;\n",
       "    }\n",
       "\n",
       "    .dataframe tbody tr th {\n",
       "        vertical-align: top;\n",
       "    }\n",
       "\n",
       "    .dataframe thead th {\n",
       "        text-align: right;\n",
       "    }\n",
       "</style>\n",
       "<table border=\"1\" class=\"dataframe\">\n",
       "  <thead>\n",
       "    <tr style=\"text-align: right;\">\n",
       "      <th></th>\n",
       "      <th>Predicted</th>\n",
       "      <th>Original</th>\n",
       "      <th>Difference</th>\n",
       "    </tr>\n",
       "  </thead>\n",
       "  <tbody>\n",
       "    <tr>\n",
       "      <th>5447</th>\n",
       "      <td>587.503448</td>\n",
       "      <td>585.826399</td>\n",
       "      <td>1.677049</td>\n",
       "    </tr>\n",
       "    <tr>\n",
       "      <th>793</th>\n",
       "      <td>885.273028</td>\n",
       "      <td>909.341567</td>\n",
       "      <td>-24.068539</td>\n",
       "    </tr>\n",
       "    <tr>\n",
       "      <th>3909</th>\n",
       "      <td>239.826779</td>\n",
       "      <td>220.973946</td>\n",
       "      <td>18.852833</td>\n",
       "    </tr>\n",
       "    <tr>\n",
       "      <th>1073</th>\n",
       "      <td>333.516874</td>\n",
       "      <td>336.435494</td>\n",
       "      <td>-2.918620</td>\n",
       "    </tr>\n",
       "    <tr>\n",
       "      <th>1388</th>\n",
       "      <td>158.945234</td>\n",
       "      <td>164.416263</td>\n",
       "      <td>-5.471029</td>\n",
       "    </tr>\n",
       "  </tbody>\n",
       "</table>\n",
       "</div>"
      ],
      "text/plain": [
       "       Predicted    Original  Difference\n",
       "5447  587.503448  585.826399    1.677049\n",
       "793   885.273028  909.341567  -24.068539\n",
       "3909  239.826779  220.973946   18.852833\n",
       "1073  333.516874  336.435494   -2.918620\n",
       "1388  158.945234  164.416263   -5.471029"
      ]
     },
     "execution_count": 216,
     "metadata": {},
     "output_type": "execute_result"
    }
   ],
   "source": [
    "values = pd.DataFrame(data={\"Predicted\":y_pred,\"Original\":y_test,\"Difference\":y_pred-y_test})\n",
    "values.head()"
   ]
  },
  {
   "cell_type": "markdown",
   "id": "conventional-atlanta",
   "metadata": {},
   "source": [
    "### 2. Evaluating Values by Visualizer\n",
    "The below Graph plots PredictionError."
   ]
  },
  {
   "cell_type": "code",
   "execution_count": 217,
   "id": "level-harris",
   "metadata": {},
   "outputs": [
    {
     "data": {
      "image/png": "[encoded data removed]",
      "text/plain": [
       "<Figure size 500x500 with 1 Axes>"
      ]
     },
     "metadata": {
      "needs_background": "light"
     },
     "output_type": "display_data"
    }
   ],
   "source": [
    "visualizer = PredictionError(model,size=(500,500))\n",
    "\n",
    "visualizer.fit(x_train, y_train)  # Fit the training data to the visualizer\n",
    "visualizer.score(x_test, y_test)  # Evaluate the model on the validation data\n",
    "visualizer.poof();"
   ]
  },
  {
   "cell_type": "markdown",
   "id": "announced-demonstration",
   "metadata": {},
   "source": [
    "### 3. Evaluating using `cross_val_score`\n",
    "`cross_val_score` takes different pairs of Test and Train data. And gives scores for them."
   ]
  },
  {
   "cell_type": "code",
   "execution_count": 218,
   "id": "married-liabilities",
   "metadata": {},
   "outputs": [
    {
     "data": {
      "text/plain": [
       "array([0.99152613, 0.94662341, 0.99557742])"
      ]
     },
     "execution_count": 218,
     "metadata": {},
     "output_type": "execute_result"
    }
   ],
   "source": [
    "np.random.seed(42)\n",
    "\n",
    "cross_val_score(model, X, Y, cv=3, scoring=None)"
   ]
  },
  {
   "cell_type": "markdown",
   "id": "wired-driver",
   "metadata": {},
   "source": [
    "## Predicting Values using Test Data\n",
    "\n",
    "**Note :** The test data imported below is cleaned and filled in another jupyter notebook.\n",
    "\n",
    "It has the same Data Cleaning Steps as we used in this notebook. You refer to it as `test_dataprep.ipynb`.\n",
    "From that Notebook Cleaned data is exported and imported here."
   ]
  },
  {
   "cell_type": "code",
   "execution_count": 219,
   "id": "alien-adaptation",
   "metadata": {},
   "outputs": [
    {
     "data": {
      "text/html": [
       "<div>\n",
       "<style scoped>\n",
       "    .dataframe tbody tr th:only-of-type {\n",
       "        vertical-align: middle;\n",
       "    }\n",
       "\n",
       "    .dataframe tbody tr th {\n",
       "        vertical-align: top;\n",
       "    }\n",
       "\n",
       "    .dataframe thead th {\n",
       "        text-align: right;\n",
       "    }\n",
       "</style>\n",
       "<table border=\"1\" class=\"dataframe\">\n",
       "  <thead>\n",
       "    <tr style=\"text-align: right;\">\n",
       "      <th></th>\n",
       "      <th>Stock Index</th>\n",
       "      <th>VWAP</th>\n",
       "      <th>General Index</th>\n",
       "      <th>NAV</th>\n",
       "      <th>P/E Ratio</th>\n",
       "      <th>Volumes Traded</th>\n",
       "      <th>Inventory Turnover</th>\n",
       "      <th>Covid Impact (Beta)</th>\n",
       "      <th>Tracking Error</th>\n",
       "      <th>Dollar Exchange Rate</th>\n",
       "      <th>Put-Call Ratio</th>\n",
       "      <th>P/B Ratio</th>\n",
       "      <th>Industry</th>\n",
       "      <th>Index</th>\n",
       "    </tr>\n",
       "  </thead>\n",
       "  <tbody>\n",
       "    <tr>\n",
       "      <th>0</th>\n",
       "      <td>AC3235</td>\n",
       "      <td>53.30</td>\n",
       "      <td>11270.15</td>\n",
       "      <td>44.59</td>\n",
       "      <td>185.09</td>\n",
       "      <td>12067855.0</td>\n",
       "      <td>2.78</td>\n",
       "      <td>0.03</td>\n",
       "      <td>0.0330</td>\n",
       "      <td>74.9</td>\n",
       "      <td>0.800000</td>\n",
       "      <td>4.66</td>\n",
       "      <td>3</td>\n",
       "      <td>2</td>\n",
       "    </tr>\n",
       "    <tr>\n",
       "      <th>1</th>\n",
       "      <td>AC3236</td>\n",
       "      <td>749.34</td>\n",
       "      <td>55722.00</td>\n",
       "      <td>74.20</td>\n",
       "      <td>34.01</td>\n",
       "      <td>6172474.0</td>\n",
       "      <td>6.78</td>\n",
       "      <td>0.11</td>\n",
       "      <td>0.0464</td>\n",
       "      <td>17.7</td>\n",
       "      <td>0.860000</td>\n",
       "      <td>6.11</td>\n",
       "      <td>0</td>\n",
       "      <td>1</td>\n",
       "    </tr>\n",
       "    <tr>\n",
       "      <th>2</th>\n",
       "      <td>AC3237</td>\n",
       "      <td>567.75</td>\n",
       "      <td>1461.00</td>\n",
       "      <td>88.41</td>\n",
       "      <td>177.40</td>\n",
       "      <td>17472488.0</td>\n",
       "      <td>4.36</td>\n",
       "      <td>0.23</td>\n",
       "      <td>0.0401</td>\n",
       "      <td>1.0</td>\n",
       "      <td>0.930000</td>\n",
       "      <td>4.99</td>\n",
       "      <td>2</td>\n",
       "      <td>4</td>\n",
       "    </tr>\n",
       "    <tr>\n",
       "      <th>3</th>\n",
       "      <td>AC3238</td>\n",
       "      <td>646.78</td>\n",
       "      <td>11270.15</td>\n",
       "      <td>79.36</td>\n",
       "      <td>105.44</td>\n",
       "      <td>15553159.0</td>\n",
       "      <td>2.77</td>\n",
       "      <td>0.78</td>\n",
       "      <td>0.0187</td>\n",
       "      <td>74.9</td>\n",
       "      <td>1.090000</td>\n",
       "      <td>1.26</td>\n",
       "      <td>1</td>\n",
       "      <td>2</td>\n",
       "    </tr>\n",
       "    <tr>\n",
       "      <th>4</th>\n",
       "      <td>AC3239</td>\n",
       "      <td>380.33</td>\n",
       "      <td>12765.84</td>\n",
       "      <td>19.90</td>\n",
       "      <td>139.40</td>\n",
       "      <td>12525784.0</td>\n",
       "      <td>5.93</td>\n",
       "      <td>0.03</td>\n",
       "      <td>0.0261</td>\n",
       "      <td>1.0</td>\n",
       "      <td>0.938828</td>\n",
       "      <td>6.18</td>\n",
       "      <td>3</td>\n",
       "      <td>3</td>\n",
       "    </tr>\n",
       "  </tbody>\n",
       "</table>\n",
       "</div>"
      ],
      "text/plain": [
       "  Stock Index    VWAP  General Index    NAV  P/E Ratio  Volumes Traded  \\\n",
       "0      AC3235   53.30       11270.15  44.59     185.09      12067855.0   \n",
       "1      AC3236  749.34       55722.00  74.20      34.01       6172474.0   \n",
       "2      AC3237  567.75        1461.00  88.41     177.40      17472488.0   \n",
       "3      AC3238  646.78       11270.15  79.36     105.44      15553159.0   \n",
       "4      AC3239  380.33       12765.84  19.90     139.40      12525784.0   \n",
       "\n",
       "   Inventory Turnover  Covid Impact (Beta)  Tracking Error  \\\n",
       "0                2.78                 0.03          0.0330   \n",
       "1                6.78                 0.11          0.0464   \n",
       "2                4.36                 0.23          0.0401   \n",
       "3                2.77                 0.78          0.0187   \n",
       "4                5.93                 0.03          0.0261   \n",
       "\n",
       "   Dollar Exchange Rate  Put-Call Ratio  P/B Ratio  Industry  Index  \n",
       "0                  74.9        0.800000       4.66         3      2  \n",
       "1                  17.7        0.860000       6.11         0      1  \n",
       "2                   1.0        0.930000       4.99         2      4  \n",
       "3                  74.9        1.090000       1.26         1      2  \n",
       "4                   1.0        0.938828       6.18         3      3  "
      ]
     },
     "execution_count": 219,
     "metadata": {},
     "output_type": "execute_result"
    }
   ],
   "source": [
    "cleaned_test = pd.read_csv(\"data/final_test.csv\")\n",
    "cleaned_test.head()"
   ]
  },
  {
   "cell_type": "code",
   "execution_count": 220,
   "id": "personal-switzerland",
   "metadata": {},
   "outputs": [],
   "source": [
    "np.random.seed(42)\n",
    "predicted = model.predict(cleaned_test.drop(\"Stock Index\",axis=1))\n",
    "# Stock Index is not included while predicting because it isnt used for training the model"
   ]
  },
  {
   "cell_type": "code",
   "execution_count": 221,
   "id": "understood-steps",
   "metadata": {
    "scrolled": false
   },
   "outputs": [
    {
     "data": {
      "text/html": [
       "<div>\n",
       "<style scoped>\n",
       "    .dataframe tbody tr th:only-of-type {\n",
       "        vertical-align: middle;\n",
       "    }\n",
       "\n",
       "    .dataframe tbody tr th {\n",
       "        vertical-align: top;\n",
       "    }\n",
       "\n",
       "    .dataframe thead th {\n",
       "        text-align: right;\n",
       "    }\n",
       "</style>\n",
       "<table border=\"1\" class=\"dataframe\">\n",
       "  <thead>\n",
       "    <tr style=\"text-align: right;\">\n",
       "      <th></th>\n",
       "      <th>Predicted Values</th>\n",
       "    </tr>\n",
       "    <tr>\n",
       "      <th>Stock Index</th>\n",
       "      <th></th>\n",
       "    </tr>\n",
       "  </thead>\n",
       "  <tbody>\n",
       "    <tr>\n",
       "      <th>AC3235</th>\n",
       "      <td>811.415189</td>\n",
       "    </tr>\n",
       "    <tr>\n",
       "      <th>AC3236</th>\n",
       "      <td>256.448875</td>\n",
       "    </tr>\n",
       "    <tr>\n",
       "      <th>AC3237</th>\n",
       "      <td>1557.886279</td>\n",
       "    </tr>\n",
       "    <tr>\n",
       "      <th>AC3238</th>\n",
       "      <td>802.362689</td>\n",
       "    </tr>\n",
       "    <tr>\n",
       "      <th>AC3239</th>\n",
       "      <td>268.959961</td>\n",
       "    </tr>\n",
       "    <tr>\n",
       "      <th>...</th>\n",
       "      <td>...</td>\n",
       "    </tr>\n",
       "    <tr>\n",
       "      <th>AD2734</th>\n",
       "      <td>137.124564</td>\n",
       "    </tr>\n",
       "    <tr>\n",
       "      <th>AD2735</th>\n",
       "      <td>591.587615</td>\n",
       "    </tr>\n",
       "    <tr>\n",
       "      <th>AD2736</th>\n",
       "      <td>615.274735</td>\n",
       "    </tr>\n",
       "    <tr>\n",
       "      <th>AD2737</th>\n",
       "      <td>349.290506</td>\n",
       "    </tr>\n",
       "    <tr>\n",
       "      <th>AD2738</th>\n",
       "      <td>1297.244275</td>\n",
       "    </tr>\n",
       "  </tbody>\n",
       "</table>\n",
       "<p>3331 rows × 1 columns</p>\n",
       "</div>"
      ],
      "text/plain": [
       "             Predicted Values\n",
       "Stock Index                  \n",
       "AC3235             811.415189\n",
       "AC3236             256.448875\n",
       "AC3237            1557.886279\n",
       "AC3238             802.362689\n",
       "AC3239             268.959961\n",
       "...                       ...\n",
       "AD2734             137.124564\n",
       "AD2735             591.587615\n",
       "AD2736             615.274735\n",
       "AD2737             349.290506\n",
       "AD2738            1297.244275\n",
       "\n",
       "[3331 rows x 1 columns]"
      ]
     },
     "execution_count": 221,
     "metadata": {},
     "output_type": "execute_result"
    }
   ],
   "source": [
    "ans = pd.DataFrame(predicted,index=cleaned_test['Stock Index'],columns=[\"Predicted Values\"])\n",
    "ans.to_csv(\"file_01.csv\")\n",
    "ans\n",
    "# Imported the final Answer as csv file \"file_01.csv\" as asked in the Question"
   ]
  }
 ],
 "metadata": {
  "kernelspec": {
   "display_name": "Python 3",
   "language": "python",
   "name": "python3"
  },
  "language_info": {
   "codemirror_mode": {
    "name": "ipython",
    "version": 3
   },
   "file_extension": ".py",
   "mimetype": "text/x-python",
   "name": "python",
   "nbconvert_exporter": "python",
   "pygments_lexer": "ipython3",
   "version": "3.8.8"
  }
 },
 "nbformat": 4,
 "nbformat_minor": 5
}
