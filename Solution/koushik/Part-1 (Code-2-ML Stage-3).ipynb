{
  "nbformat": 4,
  "nbformat_minor": 0,
  "metadata": {
    "colab": {
      "name": "Untitled7.ipynb",
      "provenance": []
    },
    "kernelspec": {
      "name": "python3",
      "display_name": "Python 3"
    }
  },
  "cells": [
    {
      "cell_type": "markdown",
      "metadata": {
        "id": "z4Qwo3O-HVYb"
      },
      "source": [
        "**Code-2-ML CONTEST**\r\n",
        "\r\n",
        "PART - 1\r\n",
        "\r\n",
        "\r\n",
        "---\r\n",
        "\r\n",
        "\r\n",
        "\r\n",
        "**Name:** K.Koushik\r\n",
        "\r\n",
        "**Reg No:**19BCE7073\r\n",
        "\r\n",
        "\r\n",
        "---\r\n",
        "\r\n"
      ]
    },
    {
      "cell_type": "markdown",
      "metadata": {
        "id": "NOju9lO7HgLC"
      },
      "source": [
        "**Objective:**\r\n",
        "To predict the Stock Price of a Listed Stock on 10th August 2020."
      ]
    },
    {
      "cell_type": "markdown",
      "metadata": {
        "id": "-iOKAEqwICe3"
      },
      "source": [
        "**Source Code:**"
      ]
    },
    {
      "cell_type": "markdown",
      "metadata": {
        "id": "_uoDKD1OIqHT"
      },
      "source": [
        "**Data Preprocessing:**\r\n",
        "\r\n",
        "Importing the necessary libraries and packages along with the train and test dataset. "
      ]
    },
    {
      "cell_type": "code",
      "metadata": {
        "colab": {
          "base_uri": "https://localhost:8080/"
        },
        "id": "DvjTRsOF2kqI",
        "outputId": "5eee8bbb-352b-4118-c57f-f9bfa9a60942"
      },
      "source": [
        "import pandas as pd\r\n",
        "import numpy as np\r\n",
        "import seaborn as sns\r\n",
        "\r\n",
        "df = pd.read_excel(\"Train_dataset_Code2ML.xlsx\")\r\n",
        "df_test = pd.read_excel(\"Test_dataset_Code2ML.xlsx\")\r\n",
        "\r\n",
        "df.columns"
      ],
      "execution_count": 2,
      "outputs": [
        {
          "output_type": "execute_result",
          "data": {
            "text/plain": [
              "Index(['Stock Index', 'Index', 'Industry', 'VWAP', 'General Index', 'NAV',\n",
              "       'P/E Ratio', 'Volumes Traded', 'Inventory Turnover',\n",
              "       'Covid Impact (Beta)', 'Tracking Error', 'Dollar Exchange Rate',\n",
              "       'Put-Call Ratio', 'P/B Ratio', 'Stock Price'],\n",
              "      dtype='object')"
            ]
          },
          "metadata": {
            "tags": []
          },
          "execution_count": 2
        }
      ]
    },
    {
      "cell_type": "markdown",
      "metadata": {
        "id": "cBV6C14YJdW3"
      },
      "source": [
        "Now checking the dataset for any null values."
      ]
    },
    {
      "cell_type": "code",
      "metadata": {
        "colab": {
          "base_uri": "https://localhost:8080/"
        },
        "id": "inhMgS6qJmaE",
        "outputId": "2493a4cb-f65b-422b-987e-e5e9924d7754"
      },
      "source": [
        "df.isnull().sum()"
      ],
      "execution_count": 3,
      "outputs": [
        {
          "output_type": "execute_result",
          "data": {
            "text/plain": [
              "Stock Index               0\n",
              "Index                     0\n",
              "Industry                  0\n",
              "VWAP                     38\n",
              "General Index            62\n",
              "NAV                      61\n",
              "P/E Ratio               234\n",
              "Volumes Traded          268\n",
              "Inventory Turnover      399\n",
              "Covid Impact (Beta)     376\n",
              "Tracking Error           71\n",
              "Dollar Exchange Rate     77\n",
              "Put-Call Ratio           85\n",
              "P/B Ratio                25\n",
              "Stock Price               0\n",
              "dtype: int64"
            ]
          },
          "metadata": {
            "tags": []
          },
          "execution_count": 3
        }
      ]
    },
    {
      "cell_type": "markdown",
      "metadata": {
        "id": "y2CQ0rVPJvwh"
      },
      "source": [
        "We need to assign some value to this null values. So let's see the correlation between the features using heatmap."
      ]
    },
    {
      "cell_type": "code",
      "metadata": {
        "colab": {
          "base_uri": "https://localhost:8080/",
          "height": 384
        },
        "id": "yEgYxQ50Kgsv",
        "outputId": "a241af51-4ac5-4c70-8388-2942a7c934fe"
      },
      "source": [
        "correlation_df=df.corr()\r\n",
        "correlation_df\r\n",
        "sns.heatmap(correlation_df)"
      ],
      "execution_count": 4,
      "outputs": [
        {
          "output_type": "execute_result",
          "data": {
            "text/plain": [
              "<matplotlib.axes._subplots.AxesSubplot at 0x7fb08fa78e50>"
            ]
          },
          "metadata": {
            "tags": []
          },
          "execution_count": 4
        },
        {
          "output_type": "display_data",
          "data": {
            "image/png": "[encoded data removed]",
            "text/plain": [
              "<Figure size 432x288 with 2 Axes>"
            ]
          },
          "metadata": {
            "tags": [],
            "needs_background": "light"
          }
        }
      ]
    },
    {
      "cell_type": "markdown",
      "metadata": {
        "id": "1w0sirbsLbP4"
      },
      "source": [
        "We see that there is no much correlation between the features. So we will assign the values of those columns which are comparatively more correlated with the output variable “Stock Price” using the mean of the respective columns. \r\n",
        "\r\n",
        "Also, let's drop the other rows with null values and clean the test data."
      ]
    },
    {
      "cell_type": "code",
      "metadata": {
        "colab": {
          "base_uri": "https://localhost:8080/",
          "height": 238
        },
        "id": "Ga2as2_R6lhR",
        "outputId": "4b00cede-1340-4967-9e8a-e59db0fe922d"
      },
      "source": [
        "df[\"Inventory Turnover\"].fillna(df[\"Inventory Turnover\"].mean(), inplace=True)\r\n",
        "df[\"Covid Impact (Beta)\"].fillna(df[\"Covid Impact (Beta)\"].mean(), inplace=True)\r\n",
        "df[\"P/E Ratio\"].fillna(df[\"P/E Ratio\"].mean(), inplace=True)\r\n",
        "df[\"NAV\"].fillna(df[\"NAV\"].mean(), inplace=True)\r\n",
        "\r\n",
        "\r\n",
        "#Cleaning of training data\r\n",
        "\r\n",
        "df= df.dropna()\r\n",
        "df = df.replace([np.inf, -np.inf], np.nan)\r\n",
        "df = df.dropna()\r\n",
        "\r\n",
        "\r\n",
        "#Cleaning test data\r\n",
        "\r\n",
        "df_test = df_test.dropna()\r\n",
        "df_test = df_test.replace([np.inf, -np.inf], np.nan)\r\n",
        "df_test = df_test.dropna()\r\n",
        "\r\n",
        "df.head()"
      ],
      "execution_count": 5,
      "outputs": [
        {
          "output_type": "execute_result",
          "data": {
            "text/html": [
              "<div>\n",
              "<style scoped>\n",
              "    .dataframe tbody tr th:only-of-type {\n",
              "        vertical-align: middle;\n",
              "    }\n",
              "\n",
              "    .dataframe tbody tr th {\n",
              "        vertical-align: top;\n",
              "    }\n",
              "\n",
              "    .dataframe thead th {\n",
              "        text-align: right;\n",
              "    }\n",
              "</style>\n",
              "<table border=\"1\" class=\"dataframe\">\n",
              "  <thead>\n",
              "    <tr style=\"text-align: right;\">\n",
              "      <th></th>\n",
              "      <th>Stock Index</th>\n",
              "      <th>Index</th>\n",
              "      <th>Industry</th>\n",
              "      <th>VWAP</th>\n",
              "      <th>General Index</th>\n",
              "      <th>NAV</th>\n",
              "      <th>P/E Ratio</th>\n",
              "      <th>Volumes Traded</th>\n",
              "      <th>Inventory Turnover</th>\n",
              "      <th>Covid Impact (Beta)</th>\n",
              "      <th>Tracking Error</th>\n",
              "      <th>Dollar Exchange Rate</th>\n",
              "      <th>Put-Call Ratio</th>\n",
              "      <th>P/B Ratio</th>\n",
              "      <th>Stock Price</th>\n",
              "    </tr>\n",
              "  </thead>\n",
              "  <tbody>\n",
              "    <tr>\n",
              "      <th>0</th>\n",
              "      <td>AA1</td>\n",
              "      <td>NYSE</td>\n",
              "      <td>Real Estate</td>\n",
              "      <td>700.29</td>\n",
              "      <td>12765.84</td>\n",
              "      <td>32.38</td>\n",
              "      <td>45.35</td>\n",
              "      <td>1208599.0</td>\n",
              "      <td>5.05</td>\n",
              "      <td>-0.43</td>\n",
              "      <td>0.0520</td>\n",
              "      <td>1.0</td>\n",
              "      <td>0.61</td>\n",
              "      <td>9.20</td>\n",
              "      <td>156.987852</td>\n",
              "    </tr>\n",
              "    <tr>\n",
              "      <th>3</th>\n",
              "      <td>AA4</td>\n",
              "      <td>BSE</td>\n",
              "      <td>Materials</td>\n",
              "      <td>828.13</td>\n",
              "      <td>38182.08</td>\n",
              "      <td>73.66</td>\n",
              "      <td>151.76</td>\n",
              "      <td>8316793.0</td>\n",
              "      <td>4.80</td>\n",
              "      <td>0.03</td>\n",
              "      <td>0.0431</td>\n",
              "      <td>74.9</td>\n",
              "      <td>1.11</td>\n",
              "      <td>5.60</td>\n",
              "      <td>1121.787632</td>\n",
              "    </tr>\n",
              "    <tr>\n",
              "      <th>5</th>\n",
              "      <td>AA6</td>\n",
              "      <td>BSE</td>\n",
              "      <td>Materials</td>\n",
              "      <td>259.61</td>\n",
              "      <td>38182.08</td>\n",
              "      <td>10.63</td>\n",
              "      <td>153.05</td>\n",
              "      <td>19263869.0</td>\n",
              "      <td>8.04</td>\n",
              "      <td>0.03</td>\n",
              "      <td>0.0344</td>\n",
              "      <td>74.9</td>\n",
              "      <td>1.15</td>\n",
              "      <td>5.51</td>\n",
              "      <td>158.687016</td>\n",
              "    </tr>\n",
              "    <tr>\n",
              "      <th>6</th>\n",
              "      <td>AA7</td>\n",
              "      <td>NYSE</td>\n",
              "      <td>Healthcare</td>\n",
              "      <td>635.37</td>\n",
              "      <td>12765.84</td>\n",
              "      <td>67.21</td>\n",
              "      <td>29.63</td>\n",
              "      <td>7086103.0</td>\n",
              "      <td>5.87</td>\n",
              "      <td>0.78</td>\n",
              "      <td>0.0186</td>\n",
              "      <td>1.0</td>\n",
              "      <td>0.75</td>\n",
              "      <td>8.60</td>\n",
              "      <td>209.645870</td>\n",
              "    </tr>\n",
              "    <tr>\n",
              "      <th>8</th>\n",
              "      <td>AA9</td>\n",
              "      <td>NSE</td>\n",
              "      <td>Materials</td>\n",
              "      <td>950.81</td>\n",
              "      <td>11270.15</td>\n",
              "      <td>31.50</td>\n",
              "      <td>159.58</td>\n",
              "      <td>1361019.0</td>\n",
              "      <td>2.72</td>\n",
              "      <td>0.03</td>\n",
              "      <td>0.0534</td>\n",
              "      <td>74.9</td>\n",
              "      <td>1.22</td>\n",
              "      <td>6.46</td>\n",
              "      <td>514.240811</td>\n",
              "    </tr>\n",
              "  </tbody>\n",
              "</table>\n",
              "</div>"
            ],
            "text/plain": [
              "  Stock Index Index     Industry  ...  Put-Call Ratio  P/B Ratio  Stock Price\n",
              "0         AA1  NYSE  Real Estate  ...            0.61       9.20   156.987852\n",
              "3         AA4   BSE    Materials  ...            1.11       5.60  1121.787632\n",
              "5         AA6   BSE    Materials  ...            1.15       5.51   158.687016\n",
              "6         AA7  NYSE   Healthcare  ...            0.75       8.60   209.645870\n",
              "8         AA9   NSE    Materials  ...            1.22       6.46   514.240811\n",
              "\n",
              "[5 rows x 15 columns]"
            ]
          },
          "metadata": {
            "tags": []
          },
          "execution_count": 5
        }
      ]
    },
    {
      "cell_type": "code",
      "metadata": {
        "colab": {
          "base_uri": "https://localhost:8080/",
          "height": 238
        },
        "id": "S7KkWpQ2uEeU",
        "outputId": "960e2a89-0409-4a82-8a78-3beb9ebca377"
      },
      "source": [
        "df_test.head()"
      ],
      "execution_count": 6,
      "outputs": [
        {
          "output_type": "execute_result",
          "data": {
            "text/html": [
              "<div>\n",
              "<style scoped>\n",
              "    .dataframe tbody tr th:only-of-type {\n",
              "        vertical-align: middle;\n",
              "    }\n",
              "\n",
              "    .dataframe tbody tr th {\n",
              "        vertical-align: top;\n",
              "    }\n",
              "\n",
              "    .dataframe thead th {\n",
              "        text-align: right;\n",
              "    }\n",
              "</style>\n",
              "<table border=\"1\" class=\"dataframe\">\n",
              "  <thead>\n",
              "    <tr style=\"text-align: right;\">\n",
              "      <th></th>\n",
              "      <th>Stock Index</th>\n",
              "      <th>Index</th>\n",
              "      <th>Industry</th>\n",
              "      <th>VWAP</th>\n",
              "      <th>General Index</th>\n",
              "      <th>NAV</th>\n",
              "      <th>P/E Ratio</th>\n",
              "      <th>Volumes Traded</th>\n",
              "      <th>Inventory Turnover</th>\n",
              "      <th>Covid Impact (Beta)</th>\n",
              "      <th>Tracking Error</th>\n",
              "      <th>Dollar Exchange Rate</th>\n",
              "      <th>Put-Call Ratio</th>\n",
              "      <th>P/B Ratio</th>\n",
              "    </tr>\n",
              "  </thead>\n",
              "  <tbody>\n",
              "    <tr>\n",
              "      <th>0</th>\n",
              "      <td>AC3235</td>\n",
              "      <td>NSE</td>\n",
              "      <td>Materials</td>\n",
              "      <td>53.30</td>\n",
              "      <td>11270.15</td>\n",
              "      <td>44.59</td>\n",
              "      <td>185.09</td>\n",
              "      <td>12067855.0</td>\n",
              "      <td>2.78</td>\n",
              "      <td>0.03</td>\n",
              "      <td>0.0330</td>\n",
              "      <td>74.9</td>\n",
              "      <td>0.80</td>\n",
              "      <td>4.66</td>\n",
              "    </tr>\n",
              "    <tr>\n",
              "      <th>1</th>\n",
              "      <td>AC3236</td>\n",
              "      <td>JSE</td>\n",
              "      <td>Energy</td>\n",
              "      <td>749.34</td>\n",
              "      <td>55722.00</td>\n",
              "      <td>74.20</td>\n",
              "      <td>34.01</td>\n",
              "      <td>6172474.0</td>\n",
              "      <td>6.78</td>\n",
              "      <td>0.11</td>\n",
              "      <td>0.0464</td>\n",
              "      <td>17.7</td>\n",
              "      <td>0.86</td>\n",
              "      <td>6.11</td>\n",
              "    </tr>\n",
              "    <tr>\n",
              "      <th>2</th>\n",
              "      <td>AC3237</td>\n",
              "      <td>S&amp;P 500</td>\n",
              "      <td>Information Tech</td>\n",
              "      <td>567.75</td>\n",
              "      <td>3351.28</td>\n",
              "      <td>88.41</td>\n",
              "      <td>177.40</td>\n",
              "      <td>17472488.0</td>\n",
              "      <td>4.36</td>\n",
              "      <td>0.23</td>\n",
              "      <td>0.0401</td>\n",
              "      <td>1.0</td>\n",
              "      <td>0.93</td>\n",
              "      <td>4.99</td>\n",
              "    </tr>\n",
              "    <tr>\n",
              "      <th>3</th>\n",
              "      <td>AC3238</td>\n",
              "      <td>NSE</td>\n",
              "      <td>Healthcare</td>\n",
              "      <td>646.78</td>\n",
              "      <td>11270.15</td>\n",
              "      <td>79.36</td>\n",
              "      <td>105.44</td>\n",
              "      <td>15553159.0</td>\n",
              "      <td>2.77</td>\n",
              "      <td>0.78</td>\n",
              "      <td>0.0187</td>\n",
              "      <td>74.9</td>\n",
              "      <td>1.09</td>\n",
              "      <td>1.26</td>\n",
              "    </tr>\n",
              "    <tr>\n",
              "      <th>6</th>\n",
              "      <td>AC3241</td>\n",
              "      <td>BSE</td>\n",
              "      <td>Materials</td>\n",
              "      <td>227.28</td>\n",
              "      <td>38182.08</td>\n",
              "      <td>38.50</td>\n",
              "      <td>193.01</td>\n",
              "      <td>4934899.0</td>\n",
              "      <td>4.91</td>\n",
              "      <td>0.03</td>\n",
              "      <td>0.0265</td>\n",
              "      <td>74.9</td>\n",
              "      <td>1.23</td>\n",
              "      <td>4.60</td>\n",
              "    </tr>\n",
              "  </tbody>\n",
              "</table>\n",
              "</div>"
            ],
            "text/plain": [
              "  Stock Index    Index  ... Put-Call Ratio  P/B Ratio\n",
              "0      AC3235      NSE  ...           0.80       4.66\n",
              "1      AC3236      JSE  ...           0.86       6.11\n",
              "2      AC3237  S&P 500  ...           0.93       4.99\n",
              "3      AC3238      NSE  ...           1.09       1.26\n",
              "6      AC3241      BSE  ...           1.23       4.60\n",
              "\n",
              "[5 rows x 14 columns]"
            ]
          },
          "metadata": {
            "tags": []
          },
          "execution_count": 6
        }
      ]
    },
    {
      "cell_type": "markdown",
      "metadata": {
        "id": "eJRlYHlUL8Ck"
      },
      "source": [
        "Here in the dataset the “Industry” column alone contains strings. \r\n",
        "\r\n",
        "We need to convert the strings to numbers. So let's see what the categories are and then replace them by numbers from 0 to (N-1) where N is the number of categories."
      ]
    },
    {
      "cell_type": "code",
      "metadata": {
        "colab": {
          "base_uri": "https://localhost:8080/"
        },
        "id": "1-RQ_17h3Xfq",
        "outputId": "af593974-7d73-41b4-f462-7141d7565c83"
      },
      "source": [
        "print(pd.Categorical(df['Industry']))\r\n",
        "\r\n",
        "df['Industry'] = df['Industry'].astype('category')\r\n",
        "cat_columns = df.select_dtypes(['category']).columns\r\n",
        "df[cat_columns] = df[cat_columns].apply(lambda x: x.cat.codes)\r\n",
        "\r\n",
        "\r\n",
        "#Doing the same for the test dataset\r\n",
        "\r\n",
        "print(pd.Categorical(df_test['Industry']))\r\n",
        "\r\n",
        "df_test['Industry'] = df_test['Industry'].astype('category')\r\n",
        "cat_columns = df_test.select_dtypes(['category']).columns\r\n",
        "df_test[cat_columns] = df_test[cat_columns].apply(lambda x: x.cat.codes)"
      ],
      "execution_count": 7,
      "outputs": [
        {
          "output_type": "stream",
          "text": [
            "['Real Estate', 'Materials', 'Materials', 'Healthcare', 'Materials', ..., 'Materials', 'Healthcare', 'Materials', 'Materials', 'Materials']\n",
            "Length: 6934\n",
            "Categories (5, object): ['Energy', 'Healthcare', 'Information Tech', 'Materials', 'Real Estate']\n",
            "['Materials', 'Energy', 'Information Tech', 'Healthcare', 'Materials', ..., 'Healthcare', 'Information Tech', 'Energy', 'Healthcare', 'Information Tech']\n",
            "Length: 2415\n",
            "Categories (5, object): ['Energy', 'Healthcare', 'Information Tech', 'Materials', 'Real Estate']\n"
          ],
          "name": "stdout"
        }
      ]
    },
    {
      "cell_type": "markdown",
      "metadata": {
        "id": "gTR4zCF6ObD3"
      },
      "source": [
        "We can observe that the \"Industry\" column values have been changed below. "
      ]
    },
    {
      "cell_type": "code",
      "metadata": {
        "colab": {
          "base_uri": "https://localhost:8080/",
          "height": 221
        },
        "id": "qUbMu0vTNR1Z",
        "outputId": "0e713a9a-3784-4f10-cdbc-786e58fc7a37"
      },
      "source": [
        "df.head()"
      ],
      "execution_count": 8,
      "outputs": [
        {
          "output_type": "execute_result",
          "data": {
            "text/html": [
              "<div>\n",
              "<style scoped>\n",
              "    .dataframe tbody tr th:only-of-type {\n",
              "        vertical-align: middle;\n",
              "    }\n",
              "\n",
              "    .dataframe tbody tr th {\n",
              "        vertical-align: top;\n",
              "    }\n",
              "\n",
              "    .dataframe thead th {\n",
              "        text-align: right;\n",
              "    }\n",
              "</style>\n",
              "<table border=\"1\" class=\"dataframe\">\n",
              "  <thead>\n",
              "    <tr style=\"text-align: right;\">\n",
              "      <th></th>\n",
              "      <th>Stock Index</th>\n",
              "      <th>Index</th>\n",
              "      <th>Industry</th>\n",
              "      <th>VWAP</th>\n",
              "      <th>General Index</th>\n",
              "      <th>NAV</th>\n",
              "      <th>P/E Ratio</th>\n",
              "      <th>Volumes Traded</th>\n",
              "      <th>Inventory Turnover</th>\n",
              "      <th>Covid Impact (Beta)</th>\n",
              "      <th>Tracking Error</th>\n",
              "      <th>Dollar Exchange Rate</th>\n",
              "      <th>Put-Call Ratio</th>\n",
              "      <th>P/B Ratio</th>\n",
              "      <th>Stock Price</th>\n",
              "    </tr>\n",
              "  </thead>\n",
              "  <tbody>\n",
              "    <tr>\n",
              "      <th>0</th>\n",
              "      <td>AA1</td>\n",
              "      <td>NYSE</td>\n",
              "      <td>4</td>\n",
              "      <td>700.29</td>\n",
              "      <td>12765.84</td>\n",
              "      <td>32.38</td>\n",
              "      <td>45.35</td>\n",
              "      <td>1208599.0</td>\n",
              "      <td>5.05</td>\n",
              "      <td>-0.43</td>\n",
              "      <td>0.0520</td>\n",
              "      <td>1.0</td>\n",
              "      <td>0.61</td>\n",
              "      <td>9.20</td>\n",
              "      <td>156.987852</td>\n",
              "    </tr>\n",
              "    <tr>\n",
              "      <th>3</th>\n",
              "      <td>AA4</td>\n",
              "      <td>BSE</td>\n",
              "      <td>3</td>\n",
              "      <td>828.13</td>\n",
              "      <td>38182.08</td>\n",
              "      <td>73.66</td>\n",
              "      <td>151.76</td>\n",
              "      <td>8316793.0</td>\n",
              "      <td>4.80</td>\n",
              "      <td>0.03</td>\n",
              "      <td>0.0431</td>\n",
              "      <td>74.9</td>\n",
              "      <td>1.11</td>\n",
              "      <td>5.60</td>\n",
              "      <td>1121.787632</td>\n",
              "    </tr>\n",
              "    <tr>\n",
              "      <th>5</th>\n",
              "      <td>AA6</td>\n",
              "      <td>BSE</td>\n",
              "      <td>3</td>\n",
              "      <td>259.61</td>\n",
              "      <td>38182.08</td>\n",
              "      <td>10.63</td>\n",
              "      <td>153.05</td>\n",
              "      <td>19263869.0</td>\n",
              "      <td>8.04</td>\n",
              "      <td>0.03</td>\n",
              "      <td>0.0344</td>\n",
              "      <td>74.9</td>\n",
              "      <td>1.15</td>\n",
              "      <td>5.51</td>\n",
              "      <td>158.687016</td>\n",
              "    </tr>\n",
              "    <tr>\n",
              "      <th>6</th>\n",
              "      <td>AA7</td>\n",
              "      <td>NYSE</td>\n",
              "      <td>1</td>\n",
              "      <td>635.37</td>\n",
              "      <td>12765.84</td>\n",
              "      <td>67.21</td>\n",
              "      <td>29.63</td>\n",
              "      <td>7086103.0</td>\n",
              "      <td>5.87</td>\n",
              "      <td>0.78</td>\n",
              "      <td>0.0186</td>\n",
              "      <td>1.0</td>\n",
              "      <td>0.75</td>\n",
              "      <td>8.60</td>\n",
              "      <td>209.645870</td>\n",
              "    </tr>\n",
              "    <tr>\n",
              "      <th>8</th>\n",
              "      <td>AA9</td>\n",
              "      <td>NSE</td>\n",
              "      <td>3</td>\n",
              "      <td>950.81</td>\n",
              "      <td>11270.15</td>\n",
              "      <td>31.50</td>\n",
              "      <td>159.58</td>\n",
              "      <td>1361019.0</td>\n",
              "      <td>2.72</td>\n",
              "      <td>0.03</td>\n",
              "      <td>0.0534</td>\n",
              "      <td>74.9</td>\n",
              "      <td>1.22</td>\n",
              "      <td>6.46</td>\n",
              "      <td>514.240811</td>\n",
              "    </tr>\n",
              "  </tbody>\n",
              "</table>\n",
              "</div>"
            ],
            "text/plain": [
              "  Stock Index Index  Industry  ...  Put-Call Ratio  P/B Ratio  Stock Price\n",
              "0         AA1  NYSE         4  ...            0.61       9.20   156.987852\n",
              "3         AA4   BSE         3  ...            1.11       5.60  1121.787632\n",
              "5         AA6   BSE         3  ...            1.15       5.51   158.687016\n",
              "6         AA7  NYSE         1  ...            0.75       8.60   209.645870\n",
              "8         AA9   NSE         3  ...            1.22       6.46   514.240811\n",
              "\n",
              "[5 rows x 15 columns]"
            ]
          },
          "metadata": {
            "tags": []
          },
          "execution_count": 8
        }
      ]
    },
    {
      "cell_type": "markdown",
      "metadata": {
        "id": "nHWygaX8PR-C"
      },
      "source": [
        "Finally the dataset is pre-processed for prediction.\r\n",
        "\r\n",
        "\r\n",
        "---\r\n",
        "\r\n"
      ]
    },
    {
      "cell_type": "markdown",
      "metadata": {
        "id": "edItMsZHO5uQ"
      },
      "source": [
        "**Building a Linear Kernel SVM Model and Linear Regression Model for Ensembling using Scikit-learn for Stock Price Prediction:**"
      ]
    },
    {
      "cell_type": "markdown",
      "metadata": {
        "id": "aprEHxbOPhIj"
      },
      "source": [
        "Importing the necessary libraries. "
      ]
    },
    {
      "cell_type": "code",
      "metadata": {
        "id": "35dUZ4gM3Zvk"
      },
      "source": [
        "import sklearn\r\n",
        "from sklearn import preprocessing"
      ],
      "execution_count": 9,
      "outputs": []
    },
    {
      "cell_type": "markdown",
      "metadata": {
        "id": "RL8fK9fuPxWZ"
      },
      "source": [
        "Now using the sklearn libraries for shuffling the dataset.\r\n",
        "\r\n",
        "Because by shuffling the dataset, we can ensure that each data point creates an \"independent\" change on the model, without being biased by the same points before them."
      ]
    },
    {
      "cell_type": "code",
      "metadata": {
        "id": "QLuhe7wOPwhR"
      },
      "source": [
        "df = sklearn.utils.shuffle(df)"
      ],
      "execution_count": 10,
      "outputs": []
    },
    {
      "cell_type": "markdown",
      "metadata": {
        "id": "Cujn-fUXQkSQ"
      },
      "source": [
        "We will remove the “Stock Index” and “index” columns because these numbers would not contribute much for prediction.\r\n",
        "\r\n",
        "Now defining the “X” and “y” variables for training the model."
      ]
    },
    {
      "cell_type": "code",
      "metadata": {
        "id": "gjvR3PwPQjOT"
      },
      "source": [
        "X = df.drop(columns = ['Stock Index', 'Index', 'Stock Price'], axis=1)\r\n",
        "X = preprocessing.scale(X)\r\n",
        "y = df['Stock Price'].values"
      ],
      "execution_count": 11,
      "outputs": []
    },
    {
      "cell_type": "markdown",
      "metadata": {
        "id": "K0xSmG_KRNz1"
      },
      "source": [
        "Displaying the \"X\"."
      ]
    },
    {
      "cell_type": "code",
      "metadata": {
        "colab": {
          "base_uri": "https://localhost:8080/"
        },
        "id": "ZEuiGNuW4HMm",
        "outputId": "b28c5fca-cc38-4f21-dc39-9cf0efa2bf3b"
      },
      "source": [
        "print(X.shape)\r\n",
        "X"
      ],
      "execution_count": 12,
      "outputs": [
        {
          "output_type": "stream",
          "text": [
            "(6934, 12)\n"
          ],
          "name": "stdout"
        },
        {
          "output_type": "execute_result",
          "data": {
            "text/plain": [
              "array([[-1.40977425,  0.04200008, -0.58538786, ..., -0.9706549 ,\n",
              "         0.47084118, -1.59106464],\n",
              "       [ 1.40409295, -0.26613842,  0.71230044, ...,  1.19979215,\n",
              "         0.52021379, -0.37967661],\n",
              "       [-0.00284065,  1.02267309,  0.71230044, ...,  1.19979215,\n",
              "        -0.8128465 , -0.92822968],\n",
              "       ...,\n",
              "       [ 1.40409295, -0.37026699,  0.71230044, ...,  1.19979215,\n",
              "        -0.12163006, -1.31297871],\n",
              "       [ 1.40409295, -1.45143325, -0.58538786, ..., -0.9706549 ,\n",
              "         1.50766586, -0.79109141],\n",
              "       [-1.40977425,  1.65421125, -0.66175397, ...,  1.19979215,\n",
              "         1.65578367,  0.17268586]])"
            ]
          },
          "metadata": {
            "tags": []
          },
          "execution_count": 12
        }
      ]
    },
    {
      "cell_type": "markdown",
      "metadata": {
        "id": "yw0sqKKrRUa3"
      },
      "source": [
        "Displaying the \"y\"."
      ]
    },
    {
      "cell_type": "code",
      "metadata": {
        "colab": {
          "base_uri": "https://localhost:8080/"
        },
        "id": "xYLGwUNu4MAp",
        "outputId": "d9f1c7a7-fe2f-43c1-dda3-88af0fb64bd5"
      },
      "source": [
        "print(y.shape)\r\n",
        "y"
      ],
      "execution_count": 13,
      "outputs": [
        {
          "output_type": "stream",
          "text": [
            "(6934,)\n"
          ],
          "name": "stdout"
        },
        {
          "output_type": "execute_result",
          "data": {
            "text/plain": [
              "array([ 670.87023987,  364.12449891,  646.69328664, ..., 1122.71862044,\n",
              "        835.65099269,  292.3991323 ])"
            ]
          },
          "metadata": {
            "tags": []
          },
          "execution_count": 13
        }
      ]
    },
    {
      "cell_type": "markdown",
      "metadata": {
        "id": "5z7J5hkbRZSq"
      },
      "source": [
        "Now splitting the dataset into training and testing.\r\n",
        "\r\n",
        "consider the size of the test dataset to be 500. "
      ]
    },
    {
      "cell_type": "code",
      "metadata": {
        "id": "-h0JiB7i4Nog"
      },
      "source": [
        "test_size = 500\r\n",
        "\r\n",
        "X_train = X[:-test_size]\r\n",
        "y_train = y[:-test_size]\r\n",
        "\r\n",
        "X_test = X[-test_size:]\r\n",
        "y_test = y[-test_size:]"
      ],
      "execution_count": 14,
      "outputs": []
    },
    {
      "cell_type": "markdown",
      "metadata": {
        "id": "HdyZAV_ZpCC7"
      },
      "source": [
        "**Linear Kernel SVM Model:**"
      ]
    },
    {
      "cell_type": "markdown",
      "metadata": {
        "id": "W_TIXKcMSbEQ"
      },
      "source": [
        "Creating the linear kernel SVM model and fitting the training data."
      ]
    },
    {
      "cell_type": "code",
      "metadata": {
        "colab": {
          "base_uri": "https://localhost:8080/"
        },
        "id": "trNwa_NjSZ-0",
        "outputId": "065cef57-31df-4c46-b603-2f95d90650c1"
      },
      "source": [
        "from sklearn import svm\r\n",
        "\r\n",
        "clf = svm.SVR(kernel=\"linear\")\r\n",
        "clf.fit(X_train, y_train)"
      ],
      "execution_count": 15,
      "outputs": [
        {
          "output_type": "execute_result",
          "data": {
            "text/plain": [
              "SVR(C=1.0, cache_size=200, coef0=0.0, degree=3, epsilon=0.1, gamma='scale',\n",
              "    kernel='linear', max_iter=-1, shrinking=True, tol=0.001, verbose=False)"
            ]
          },
          "metadata": {
            "tags": []
          },
          "execution_count": 15
        }
      ]
    },
    {
      "cell_type": "markdown",
      "metadata": {
        "id": "qh-kWcU9Ta98"
      },
      "source": [
        "Now finding the accuracy of our model. "
      ]
    },
    {
      "cell_type": "code",
      "metadata": {
        "colab": {
          "base_uri": "https://localhost:8080/"
        },
        "id": "rh1_qGpP6tFg",
        "outputId": "4c0ab8fc-9bb8-410c-b780-7603b400d2ce"
      },
      "source": [
        "clf.score(X_test, y_test)"
      ],
      "execution_count": 16,
      "outputs": [
        {
          "output_type": "execute_result",
          "data": {
            "text/plain": [
              "0.888542546632749"
            ]
          },
          "metadata": {
            "tags": []
          },
          "execution_count": 16
        }
      ]
    },
    {
      "cell_type": "markdown",
      "metadata": {
        "id": "0GZ2O_npTk4c"
      },
      "source": [
        "Lets see how the model have predicted the values for the test dataset."
      ]
    },
    {
      "cell_type": "code",
      "metadata": {
        "colab": {
          "base_uri": "https://localhost:8080/",
          "height": 419
        },
        "id": "Hsx_UeG46y4C",
        "outputId": "873a2820-1c77-4d58-a499-1ce54b8be0b2"
      },
      "source": [
        "# for X,y in zip(X_test, y_test):\r\n",
        "#   print(f\"Model: {clf.predict([X])[0]}, Actual: {y}\")\r\n",
        "\r\n",
        "y_pred1 = clf.predict(X_test)\r\n",
        "pd.DataFrame({'Actual': y_test.flatten(), 'Predicted': y_pred1.flatten()})"
      ],
      "execution_count": 19,
      "outputs": [
        {
          "output_type": "execute_result",
          "data": {
            "text/html": [
              "<div>\n",
              "<style scoped>\n",
              "    .dataframe tbody tr th:only-of-type {\n",
              "        vertical-align: middle;\n",
              "    }\n",
              "\n",
              "    .dataframe tbody tr th {\n",
              "        vertical-align: top;\n",
              "    }\n",
              "\n",
              "    .dataframe thead th {\n",
              "        text-align: right;\n",
              "    }\n",
              "</style>\n",
              "<table border=\"1\" class=\"dataframe\">\n",
              "  <thead>\n",
              "    <tr style=\"text-align: right;\">\n",
              "      <th></th>\n",
              "      <th>Actual</th>\n",
              "      <th>Predicted</th>\n",
              "    </tr>\n",
              "  </thead>\n",
              "  <tbody>\n",
              "    <tr>\n",
              "      <th>0</th>\n",
              "      <td>920.412304</td>\n",
              "      <td>937.501403</td>\n",
              "    </tr>\n",
              "    <tr>\n",
              "      <th>1</th>\n",
              "      <td>1142.894224</td>\n",
              "      <td>1026.933469</td>\n",
              "    </tr>\n",
              "    <tr>\n",
              "      <th>2</th>\n",
              "      <td>1462.506871</td>\n",
              "      <td>1224.407777</td>\n",
              "    </tr>\n",
              "    <tr>\n",
              "      <th>3</th>\n",
              "      <td>1321.643899</td>\n",
              "      <td>1155.879108</td>\n",
              "    </tr>\n",
              "    <tr>\n",
              "      <th>4</th>\n",
              "      <td>141.990974</td>\n",
              "      <td>345.145493</td>\n",
              "    </tr>\n",
              "    <tr>\n",
              "      <th>...</th>\n",
              "      <td>...</td>\n",
              "      <td>...</td>\n",
              "    </tr>\n",
              "    <tr>\n",
              "      <th>495</th>\n",
              "      <td>257.656254</td>\n",
              "      <td>212.618898</td>\n",
              "    </tr>\n",
              "    <tr>\n",
              "      <th>496</th>\n",
              "      <td>726.532564</td>\n",
              "      <td>762.240928</td>\n",
              "    </tr>\n",
              "    <tr>\n",
              "      <th>497</th>\n",
              "      <td>1122.718620</td>\n",
              "      <td>1067.868302</td>\n",
              "    </tr>\n",
              "    <tr>\n",
              "      <th>498</th>\n",
              "      <td>835.650993</td>\n",
              "      <td>906.727104</td>\n",
              "    </tr>\n",
              "    <tr>\n",
              "      <th>499</th>\n",
              "      <td>292.399132</td>\n",
              "      <td>270.101897</td>\n",
              "    </tr>\n",
              "  </tbody>\n",
              "</table>\n",
              "<p>500 rows × 2 columns</p>\n",
              "</div>"
            ],
            "text/plain": [
              "          Actual    Predicted\n",
              "0     920.412304   937.501403\n",
              "1    1142.894224  1026.933469\n",
              "2    1462.506871  1224.407777\n",
              "3    1321.643899  1155.879108\n",
              "4     141.990974   345.145493\n",
              "..           ...          ...\n",
              "495   257.656254   212.618898\n",
              "496   726.532564   762.240928\n",
              "497  1122.718620  1067.868302\n",
              "498   835.650993   906.727104\n",
              "499   292.399132   270.101897\n",
              "\n",
              "[500 rows x 2 columns]"
            ]
          },
          "metadata": {
            "tags": []
          },
          "execution_count": 19
        }
      ]
    },
    {
      "cell_type": "markdown",
      "metadata": {
        "id": "HdBk68JYUhbO"
      },
      "source": [
        "\r\n",
        "\r\n",
        "---\r\n",
        "\r\n",
        "\r\n",
        "**Predicting for Test_dataset using Linear Kernel SVM Model:**\r\n",
        "\r\n",
        "Finally, predicting the \"Stock Price\" for the test dataset using our trained model."
      ]
    },
    {
      "cell_type": "code",
      "metadata": {
        "colab": {
          "base_uri": "https://localhost:8080/",
          "height": 419
        },
        "id": "vquFX60-MpRO",
        "outputId": "1d0d45a9-dd45-48de-8e9c-103e508d8416"
      },
      "source": [
        "X_actual_test = df_test.drop(columns = ['Stock Index', 'Index'], axis=1)\r\n",
        "X_actual_test = preprocessing.scale(X_actual_test)\r\n",
        "\r\n",
        "y_model_pred1 = clf.predict(X_actual_test)\r\n",
        "y_model_pred1\r\n",
        "\r\n",
        "stock_index = df_test['Stock Index']\r\n",
        "# for X,y in zip(stock_index, y_model_pred1):\r\n",
        "#   print(f\"Stock Index: {X}, Predict: {y}\")\r\n",
        "\r\n",
        "pd.DataFrame({'Stock Index': stock_index, 'Stock Price': y_model_pred1.flatten()})"
      ],
      "execution_count": 23,
      "outputs": [
        {
          "output_type": "execute_result",
          "data": {
            "text/html": [
              "<div>\n",
              "<style scoped>\n",
              "    .dataframe tbody tr th:only-of-type {\n",
              "        vertical-align: middle;\n",
              "    }\n",
              "\n",
              "    .dataframe tbody tr th {\n",
              "        vertical-align: top;\n",
              "    }\n",
              "\n",
              "    .dataframe thead th {\n",
              "        text-align: right;\n",
              "    }\n",
              "</style>\n",
              "<table border=\"1\" class=\"dataframe\">\n",
              "  <thead>\n",
              "    <tr style=\"text-align: right;\">\n",
              "      <th></th>\n",
              "      <th>Stock Index</th>\n",
              "      <th>Stock Price</th>\n",
              "    </tr>\n",
              "  </thead>\n",
              "  <tbody>\n",
              "    <tr>\n",
              "      <th>0</th>\n",
              "      <td>AC3235</td>\n",
              "      <td>869.255992</td>\n",
              "    </tr>\n",
              "    <tr>\n",
              "      <th>1</th>\n",
              "      <td>AC3236</td>\n",
              "      <td>416.925561</td>\n",
              "    </tr>\n",
              "    <tr>\n",
              "      <th>2</th>\n",
              "      <td>AC3237</td>\n",
              "      <td>1278.290539</td>\n",
              "    </tr>\n",
              "    <tr>\n",
              "      <th>3</th>\n",
              "      <td>AC3238</td>\n",
              "      <td>820.275295</td>\n",
              "    </tr>\n",
              "    <tr>\n",
              "      <th>6</th>\n",
              "      <td>AC3241</td>\n",
              "      <td>856.855315</td>\n",
              "    </tr>\n",
              "    <tr>\n",
              "      <th>...</th>\n",
              "      <td>...</td>\n",
              "      <td>...</td>\n",
              "    </tr>\n",
              "    <tr>\n",
              "      <th>3324</th>\n",
              "      <td>AD2732</td>\n",
              "      <td>-139.406215</td>\n",
              "    </tr>\n",
              "    <tr>\n",
              "      <th>3325</th>\n",
              "      <td>AD2733</td>\n",
              "      <td>1027.117317</td>\n",
              "    </tr>\n",
              "    <tr>\n",
              "      <th>3326</th>\n",
              "      <td>AD2734</td>\n",
              "      <td>227.415257</td>\n",
              "    </tr>\n",
              "    <tr>\n",
              "      <th>3329</th>\n",
              "      <td>AD2737</td>\n",
              "      <td>600.969081</td>\n",
              "    </tr>\n",
              "    <tr>\n",
              "      <th>3330</th>\n",
              "      <td>AD2738</td>\n",
              "      <td>1138.221314</td>\n",
              "    </tr>\n",
              "  </tbody>\n",
              "</table>\n",
              "<p>2415 rows × 2 columns</p>\n",
              "</div>"
            ],
            "text/plain": [
              "     Stock Index  Stock Price\n",
              "0         AC3235   869.255992\n",
              "1         AC3236   416.925561\n",
              "2         AC3237  1278.290539\n",
              "3         AC3238   820.275295\n",
              "6         AC3241   856.855315\n",
              "...          ...          ...\n",
              "3324      AD2732  -139.406215\n",
              "3325      AD2733  1027.117317\n",
              "3326      AD2734   227.415257\n",
              "3329      AD2737   600.969081\n",
              "3330      AD2738  1138.221314\n",
              "\n",
              "[2415 rows x 2 columns]"
            ]
          },
          "metadata": {
            "tags": []
          },
          "execution_count": 23
        }
      ]
    },
    {
      "cell_type": "markdown",
      "metadata": {
        "id": "cT7y51DWoRTZ"
      },
      "source": [
        "\r\n",
        "\r\n",
        "---\r\n",
        "\r\n",
        "\r\n",
        "**Linear Regression Model:**"
      ]
    },
    {
      "cell_type": "markdown",
      "metadata": {
        "id": "XfmP6eQwoiC2"
      },
      "source": [
        "\r\n",
        "Importing the necessary libraries."
      ]
    },
    {
      "cell_type": "code",
      "metadata": {
        "id": "gXr8l_FHZjNO"
      },
      "source": [
        "from sklearn.linear_model import LinearRegression\r\n",
        "from sklearn import metrics\r\n",
        "from sklearn.metrics import mean_squared_error\r\n",
        "from sklearn.metrics import r2_score"
      ],
      "execution_count": 26,
      "outputs": []
    },
    {
      "cell_type": "markdown",
      "metadata": {
        "id": "whUd5SIgplu9"
      },
      "source": [
        "Creating the Linear Regression model and fitting the training data."
      ]
    },
    {
      "cell_type": "code",
      "metadata": {
        "colab": {
          "base_uri": "https://localhost:8080/"
        },
        "id": "y2MUGz65pigU",
        "outputId": "884dbed5-b462-490f-8515-be2a8dcce1fe"
      },
      "source": [
        "model_linear = LinearRegression()\r\n",
        "model_linear.fit(X_train,y_train)"
      ],
      "execution_count": 27,
      "outputs": [
        {
          "output_type": "execute_result",
          "data": {
            "text/plain": [
              "LinearRegression(copy_X=True, fit_intercept=True, n_jobs=None, normalize=False)"
            ]
          },
          "metadata": {
            "tags": []
          },
          "execution_count": 27
        }
      ]
    },
    {
      "cell_type": "markdown",
      "metadata": {
        "id": "siwnOlApp8J0"
      },
      "source": [
        "Now finding the accuracy of our model."
      ]
    },
    {
      "cell_type": "code",
      "metadata": {
        "colab": {
          "base_uri": "https://localhost:8080/"
        },
        "id": "WPCtMrWsp8vA",
        "outputId": "e37b447c-52f1-47ee-b7af-e2cf1098901e"
      },
      "source": [
        "y_pred2 = model_linear.predict(X_test)\r\n",
        "print(\"R^2 :\" , r2_score(y_test,y_pred2))"
      ],
      "execution_count": 28,
      "outputs": [
        {
          "output_type": "stream",
          "text": [
            "R^2 : 0.8909088998458539\n"
          ],
          "name": "stdout"
        }
      ]
    },
    {
      "cell_type": "markdown",
      "metadata": {
        "id": "8SPdiPOTqCcg"
      },
      "source": [
        "Lets see how the model have predicted the values for the test dataset."
      ]
    },
    {
      "cell_type": "code",
      "metadata": {
        "colab": {
          "base_uri": "https://localhost:8080/",
          "height": 419
        },
        "id": "ShRNTyRYmilL",
        "outputId": "70783887-98e2-4784-de86-06bb64714161"
      },
      "source": [
        "# for X,y in zip(X_test, y_test):\r\n",
        "#   print(f\"Model: {model_linear.predict([X])[0]}, Actual: {y}\")\r\n",
        "\r\n",
        "pd.DataFrame({'Actual': y_test.flatten(), 'Predicted': y_pred2.flatten()})"
      ],
      "execution_count": 31,
      "outputs": [
        {
          "output_type": "execute_result",
          "data": {
            "text/html": [
              "<div>\n",
              "<style scoped>\n",
              "    .dataframe tbody tr th:only-of-type {\n",
              "        vertical-align: middle;\n",
              "    }\n",
              "\n",
              "    .dataframe tbody tr th {\n",
              "        vertical-align: top;\n",
              "    }\n",
              "\n",
              "    .dataframe thead th {\n",
              "        text-align: right;\n",
              "    }\n",
              "</style>\n",
              "<table border=\"1\" class=\"dataframe\">\n",
              "  <thead>\n",
              "    <tr style=\"text-align: right;\">\n",
              "      <th></th>\n",
              "      <th>Actual</th>\n",
              "      <th>Predicted</th>\n",
              "    </tr>\n",
              "  </thead>\n",
              "  <tbody>\n",
              "    <tr>\n",
              "      <th>0</th>\n",
              "      <td>920.412304</td>\n",
              "      <td>951.938760</td>\n",
              "    </tr>\n",
              "    <tr>\n",
              "      <th>1</th>\n",
              "      <td>1142.894224</td>\n",
              "      <td>1044.598578</td>\n",
              "    </tr>\n",
              "    <tr>\n",
              "      <th>2</th>\n",
              "      <td>1462.506871</td>\n",
              "      <td>1254.851999</td>\n",
              "    </tr>\n",
              "    <tr>\n",
              "      <th>3</th>\n",
              "      <td>1321.643899</td>\n",
              "      <td>1179.669127</td>\n",
              "    </tr>\n",
              "    <tr>\n",
              "      <th>4</th>\n",
              "      <td>141.990974</td>\n",
              "      <td>337.148784</td>\n",
              "    </tr>\n",
              "    <tr>\n",
              "      <th>...</th>\n",
              "      <td>...</td>\n",
              "      <td>...</td>\n",
              "    </tr>\n",
              "    <tr>\n",
              "      <th>495</th>\n",
              "      <td>257.656254</td>\n",
              "      <td>200.885039</td>\n",
              "    </tr>\n",
              "    <tr>\n",
              "      <th>496</th>\n",
              "      <td>726.532564</td>\n",
              "      <td>768.299758</td>\n",
              "    </tr>\n",
              "    <tr>\n",
              "      <th>497</th>\n",
              "      <td>1122.718620</td>\n",
              "      <td>1090.112506</td>\n",
              "    </tr>\n",
              "    <tr>\n",
              "      <th>498</th>\n",
              "      <td>835.650993</td>\n",
              "      <td>916.630009</td>\n",
              "    </tr>\n",
              "    <tr>\n",
              "      <th>499</th>\n",
              "      <td>292.399132</td>\n",
              "      <td>257.784375</td>\n",
              "    </tr>\n",
              "  </tbody>\n",
              "</table>\n",
              "<p>500 rows × 2 columns</p>\n",
              "</div>"
            ],
            "text/plain": [
              "          Actual    Predicted\n",
              "0     920.412304   951.938760\n",
              "1    1142.894224  1044.598578\n",
              "2    1462.506871  1254.851999\n",
              "3    1321.643899  1179.669127\n",
              "4     141.990974   337.148784\n",
              "..           ...          ...\n",
              "495   257.656254   200.885039\n",
              "496   726.532564   768.299758\n",
              "497  1122.718620  1090.112506\n",
              "498   835.650993   916.630009\n",
              "499   292.399132   257.784375\n",
              "\n",
              "[500 rows x 2 columns]"
            ]
          },
          "metadata": {
            "tags": []
          },
          "execution_count": 31
        }
      ]
    },
    {
      "cell_type": "markdown",
      "metadata": {
        "id": "NnXesFAkqylc"
      },
      "source": [
        "\r\n",
        "\r\n",
        "---\r\n",
        "\r\n",
        "\r\n",
        "**Predicting for Test_dataset using Linear Regression Model:**\r\n",
        "\r\n",
        "Finally, predicting the \"Stock Price\" for the test dataset using our trained model."
      ]
    },
    {
      "cell_type": "code",
      "metadata": {
        "colab": {
          "base_uri": "https://localhost:8080/",
          "height": 419
        },
        "id": "wrKS1-arqp83",
        "outputId": "566db3fd-eebc-4790-cb45-fd84f1f219d9"
      },
      "source": [
        "y_model_pred2 = model_linear.predict(X_actual_test)\r\n",
        "y_model_pred2\r\n",
        "\r\n",
        "stock_index = df_test['Stock Index']\r\n",
        "# for X,y in zip(stock_index, y_model_pred2):\r\n",
        "#   print(f\"Stock Index: {X}, Predict: {y}\")\r\n",
        "\r\n",
        "pd.DataFrame({'Stock Index': stock_index, 'Stock Price': y_model_pred2.flatten()})"
      ],
      "execution_count": 34,
      "outputs": [
        {
          "output_type": "execute_result",
          "data": {
            "text/html": [
              "<div>\n",
              "<style scoped>\n",
              "    .dataframe tbody tr th:only-of-type {\n",
              "        vertical-align: middle;\n",
              "    }\n",
              "\n",
              "    .dataframe tbody tr th {\n",
              "        vertical-align: top;\n",
              "    }\n",
              "\n",
              "    .dataframe thead th {\n",
              "        text-align: right;\n",
              "    }\n",
              "</style>\n",
              "<table border=\"1\" class=\"dataframe\">\n",
              "  <thead>\n",
              "    <tr style=\"text-align: right;\">\n",
              "      <th></th>\n",
              "      <th>Stock Index</th>\n",
              "      <th>Stock Price</th>\n",
              "    </tr>\n",
              "  </thead>\n",
              "  <tbody>\n",
              "    <tr>\n",
              "      <th>0</th>\n",
              "      <td>AC3235</td>\n",
              "      <td>875.123534</td>\n",
              "    </tr>\n",
              "    <tr>\n",
              "      <th>1</th>\n",
              "      <td>AC3236</td>\n",
              "      <td>417.463622</td>\n",
              "    </tr>\n",
              "    <tr>\n",
              "      <th>2</th>\n",
              "      <td>AC3237</td>\n",
              "      <td>1310.442586</td>\n",
              "    </tr>\n",
              "    <tr>\n",
              "      <th>3</th>\n",
              "      <td>AC3238</td>\n",
              "      <td>826.894324</td>\n",
              "    </tr>\n",
              "    <tr>\n",
              "      <th>6</th>\n",
              "      <td>AC3241</td>\n",
              "      <td>864.709082</td>\n",
              "    </tr>\n",
              "    <tr>\n",
              "      <th>...</th>\n",
              "      <td>...</td>\n",
              "      <td>...</td>\n",
              "    </tr>\n",
              "    <tr>\n",
              "      <th>3324</th>\n",
              "      <td>AD2732</td>\n",
              "      <td>-165.520391</td>\n",
              "    </tr>\n",
              "    <tr>\n",
              "      <th>3325</th>\n",
              "      <td>AD2733</td>\n",
              "      <td>1040.002397</td>\n",
              "    </tr>\n",
              "    <tr>\n",
              "      <th>3326</th>\n",
              "      <td>AD2734</td>\n",
              "      <td>207.518337</td>\n",
              "    </tr>\n",
              "    <tr>\n",
              "      <th>3329</th>\n",
              "      <td>AD2737</td>\n",
              "      <td>603.303280</td>\n",
              "    </tr>\n",
              "    <tr>\n",
              "      <th>3330</th>\n",
              "      <td>AD2738</td>\n",
              "      <td>1165.744285</td>\n",
              "    </tr>\n",
              "  </tbody>\n",
              "</table>\n",
              "<p>2415 rows × 2 columns</p>\n",
              "</div>"
            ],
            "text/plain": [
              "     Stock Index  Stock Price\n",
              "0         AC3235   875.123534\n",
              "1         AC3236   417.463622\n",
              "2         AC3237  1310.442586\n",
              "3         AC3238   826.894324\n",
              "6         AC3241   864.709082\n",
              "...          ...          ...\n",
              "3324      AD2732  -165.520391\n",
              "3325      AD2733  1040.002397\n",
              "3326      AD2734   207.518337\n",
              "3329      AD2737   603.303280\n",
              "3330      AD2738  1165.744285\n",
              "\n",
              "[2415 rows x 2 columns]"
            ]
          },
          "metadata": {
            "tags": []
          },
          "execution_count": 34
        }
      ]
    },
    {
      "cell_type": "markdown",
      "metadata": {
        "id": "5g4SMa6mrBm4"
      },
      "source": [
        "\r\n",
        "\r\n",
        "---\r\n",
        "\r\n",
        "\r\n",
        "**Average ensemble technique:**\r\n",
        "\r\n",
        "In order to achieve a better accuracy there are ensemble techniques like averaging, weighted averaging, boosting etc..\r\n",
        "\r\n",
        "Let's consider average ensemble technique using Linear Kernel SVM Model and Linear Regression Model predictions. \r\n",
        "It is nothing but considering the average values of predictions of both the models for predicted each value."
      ]
    },
    {
      "cell_type": "code",
      "metadata": {
        "colab": {
          "base_uri": "https://localhost:8080/",
          "height": 419
        },
        "id": "7bl6X6a0m1t3",
        "outputId": "b384eeba-538f-409d-e34a-ef1c7e79d4b2"
      },
      "source": [
        "final_pred=(y_model_pred1 + y_model_pred2)/2\r\n",
        "\r\n",
        "# for X,y in zip(stock_index, final_pred):\r\n",
        "#   print(f\"Stock Index: {X}, Predict: {y}\")\r\n",
        "\r\n",
        "pd.DataFrame({'Stock Index': stock_index, 'Stock Price': final_pred.flatten()})"
      ],
      "execution_count": 35,
      "outputs": [
        {
          "output_type": "execute_result",
          "data": {
            "text/html": [
              "<div>\n",
              "<style scoped>\n",
              "    .dataframe tbody tr th:only-of-type {\n",
              "        vertical-align: middle;\n",
              "    }\n",
              "\n",
              "    .dataframe tbody tr th {\n",
              "        vertical-align: top;\n",
              "    }\n",
              "\n",
              "    .dataframe thead th {\n",
              "        text-align: right;\n",
              "    }\n",
              "</style>\n",
              "<table border=\"1\" class=\"dataframe\">\n",
              "  <thead>\n",
              "    <tr style=\"text-align: right;\">\n",
              "      <th></th>\n",
              "      <th>Stock Index</th>\n",
              "      <th>Stock Price</th>\n",
              "    </tr>\n",
              "  </thead>\n",
              "  <tbody>\n",
              "    <tr>\n",
              "      <th>0</th>\n",
              "      <td>AC3235</td>\n",
              "      <td>872.189763</td>\n",
              "    </tr>\n",
              "    <tr>\n",
              "      <th>1</th>\n",
              "      <td>AC3236</td>\n",
              "      <td>417.194591</td>\n",
              "    </tr>\n",
              "    <tr>\n",
              "      <th>2</th>\n",
              "      <td>AC3237</td>\n",
              "      <td>1294.366562</td>\n",
              "    </tr>\n",
              "    <tr>\n",
              "      <th>3</th>\n",
              "      <td>AC3238</td>\n",
              "      <td>823.584809</td>\n",
              "    </tr>\n",
              "    <tr>\n",
              "      <th>6</th>\n",
              "      <td>AC3241</td>\n",
              "      <td>860.782198</td>\n",
              "    </tr>\n",
              "    <tr>\n",
              "      <th>...</th>\n",
              "      <td>...</td>\n",
              "      <td>...</td>\n",
              "    </tr>\n",
              "    <tr>\n",
              "      <th>3324</th>\n",
              "      <td>AD2732</td>\n",
              "      <td>-152.463303</td>\n",
              "    </tr>\n",
              "    <tr>\n",
              "      <th>3325</th>\n",
              "      <td>AD2733</td>\n",
              "      <td>1033.559857</td>\n",
              "    </tr>\n",
              "    <tr>\n",
              "      <th>3326</th>\n",
              "      <td>AD2734</td>\n",
              "      <td>217.466797</td>\n",
              "    </tr>\n",
              "    <tr>\n",
              "      <th>3329</th>\n",
              "      <td>AD2737</td>\n",
              "      <td>602.136181</td>\n",
              "    </tr>\n",
              "    <tr>\n",
              "      <th>3330</th>\n",
              "      <td>AD2738</td>\n",
              "      <td>1151.982799</td>\n",
              "    </tr>\n",
              "  </tbody>\n",
              "</table>\n",
              "<p>2415 rows × 2 columns</p>\n",
              "</div>"
            ],
            "text/plain": [
              "     Stock Index  Stock Price\n",
              "0         AC3235   872.189763\n",
              "1         AC3236   417.194591\n",
              "2         AC3237  1294.366562\n",
              "3         AC3238   823.584809\n",
              "6         AC3241   860.782198\n",
              "...          ...          ...\n",
              "3324      AD2732  -152.463303\n",
              "3325      AD2733  1033.559857\n",
              "3326      AD2734   217.466797\n",
              "3329      AD2737   602.136181\n",
              "3330      AD2738  1151.982799\n",
              "\n",
              "[2415 rows x 2 columns]"
            ]
          },
          "metadata": {
            "tags": []
          },
          "execution_count": 35
        }
      ]
    }
  ]
}